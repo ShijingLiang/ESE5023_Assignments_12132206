{
 "cells": [
  {
   "cell_type": "markdown",
   "metadata": {
    "toc": true
   },
   "source": [
    "<h1>Table of Contents<span class=\"tocSkip\"></span></h1>\n",
    "<div class=\"toc\"><ul class=\"toc-item\"><li><span><a href=\"#1.-Flowchart\" data-toc-modified-id=\"1.-Flowchart-1\"><span class=\"toc-item-num\">1&nbsp;&nbsp;</span>1. Flowchart</a></span></li><li><span><a href=\"#Matrix-multiplication\" data-toc-modified-id=\"Matrix-multiplication-2\"><span class=\"toc-item-num\">2&nbsp;&nbsp;</span>Matrix multiplication</a></span><ul class=\"toc-item\"><li><span><a href=\"#Create-random-matrices\" data-toc-modified-id=\"Create-random-matrices-2.1\"><span class=\"toc-item-num\">2.1&nbsp;&nbsp;</span>Create random matrices</a></span></li><li><span><a href=\"#Matrix-multiplication\" data-toc-modified-id=\"Matrix-multiplication-2.2\"><span class=\"toc-item-num\">2.2&nbsp;&nbsp;</span>Matrix multiplication</a></span><ul class=\"toc-item\"><li><span><a href=\"#Notice-the-difference-between-np.multiply-and-*\" data-toc-modified-id=\"Notice-the-difference-between-np.multiply-and-*-2.2.1\"><span class=\"toc-item-num\">2.2.1&nbsp;&nbsp;</span>Notice the difference between np.multiply and *</a></span></li></ul></li></ul></li><li><span><a href=\"#Pascal-triangle\" data-toc-modified-id=\"Pascal-triangle-3\"><span class=\"toc-item-num\">3&nbsp;&nbsp;</span>Pascal triangle</a></span><ul class=\"toc-item\"><li><span><a href=\"#Plot-distribution\" data-toc-modified-id=\"Plot-distribution-3.1\"><span class=\"toc-item-num\">3.1&nbsp;&nbsp;</span>Plot distribution</a></span></li></ul></li><li><span><a href=\"#Add-or-double\" data-toc-modified-id=\"Add-or-double-4\"><span class=\"toc-item-num\">4&nbsp;&nbsp;</span>Add or double</a></span><ul class=\"toc-item\"><li><span><a href=\"#Method1:-idea-from-loss-function--->-failed\" data-toc-modified-id=\"Method1:-idea-from-loss-function--->-failed-4.1\"><span class=\"toc-item-num\">4.1&nbsp;&nbsp;</span>Method1: idea from loss function --&gt; failed</a></span><ul class=\"toc-item\"><li><span><a href=\"#Problem-of-method-1-in-finding-the-&quot;least&quot;-move\" data-toc-modified-id=\"Problem-of-method-1-in-finding-the-&quot;least&quot;-move-4.1.1\"><span class=\"toc-item-num\">4.1.1&nbsp;&nbsp;</span>Problem of method 1 in finding the \"least\" move</a></span></li></ul></li><li><span><a href=\"#Method-2\" data-toc-modified-id=\"Method-2-4.2\"><span class=\"toc-item-num\">4.2&nbsp;&nbsp;</span>Method 2</a></span></li></ul></li><li><span><a href=\"#Dynamic-programming\" data-toc-modified-id=\"Dynamic-programming-5\"><span class=\"toc-item-num\">5&nbsp;&nbsp;</span>Dynamic programming</a></span><ul class=\"toc-item\"><li><span><a href=\"#Find-expression\" data-toc-modified-id=\"Find-expression-5.1\"><span class=\"toc-item-num\">5.1&nbsp;&nbsp;</span>Find expression</a></span></li><li><span><a href=\"#Total-solutions\" data-toc-modified-id=\"Total-solutions-5.2\"><span class=\"toc-item-num\">5.2&nbsp;&nbsp;</span>Total solutions</a></span></li></ul></li></ul></div>"
   ]
  },
  {
   "cell_type": "markdown",
   "metadata": {},
   "source": [
    "Assignment 01 Shijing Liang"
   ]
  },
  {
   "cell_type": "code",
   "execution_count": 5,
   "metadata": {
    "ExecuteTime": {
     "end_time": "2021-10-08T09:39:13.532538Z",
     "start_time": "2021-10-08T09:39:13.183227Z"
    }
   },
   "outputs": [],
   "source": [
    "import numpy as np"
   ]
  },
  {
   "cell_type": "markdown",
   "metadata": {},
   "source": [
    "# 1. Flowchart"
   ]
  },
  {
   "attachments": {
    "%E5%9B%BE%E7%89%87.png": {
     "image/png": "[encoded data removed]"
    }
   },
   "cell_type": "markdown",
   "metadata": {},
   "source": [
    "![%E5%9B%BE%E7%89%87.png](attachment:%E5%9B%BE%E7%89%87.png)"
   ]
  },
  {
   "cell_type": "code",
   "execution_count": 44,
   "metadata": {
    "ExecuteTime": {
     "end_time": "2021-09-22T11:24:28.175332Z",
     "start_time": "2021-09-22T11:24:28.165559Z"
    }
   },
   "outputs": [],
   "source": [
    "def Print_values(a,b,c):\n",
    "    if (a>b):    # if: if condition satisfies, stop running\n",
    "        if(b>c): # if & elif: elif allows judging from previous states\n",
    "            print(a,b,c)\n",
    "        if(b<c):\n",
    "            if (a>c):\n",
    "                print(a,c,b)\n",
    "            else:\n",
    "                print(c,a,b)\n",
    "    if (a<b):\n",
    "        if(b>c):\n",
    "                print(c,a,b)\n",
    "        else:\n",
    "                print(c,b,a)\n",
    "                "
   ]
  },
  {
   "cell_type": "code",
   "execution_count": 51,
   "metadata": {
    "ExecuteTime": {
     "end_time": "2021-09-22T11:25:05.370628Z",
     "start_time": "2021-09-22T11:25:05.362858Z"
    }
   },
   "outputs": [],
   "source": [
    "a,b,c = 2,3,1"
   ]
  },
  {
   "cell_type": "code",
   "execution_count": 52,
   "metadata": {
    "ExecuteTime": {
     "end_time": "2021-09-22T11:25:09.524326Z",
     "start_time": "2021-09-22T11:25:09.518181Z"
    }
   },
   "outputs": [
    {
     "name": "stdout",
     "output_type": "stream",
     "text": [
      "1 2 3\n"
     ]
    }
   ],
   "source": [
    "test = Print_values(a,b,c)"
   ]
  },
  {
   "cell_type": "markdown",
   "metadata": {},
   "source": [
    "#  Matrix multiplication"
   ]
  },
  {
   "cell_type": "markdown",
   "metadata": {},
   "source": [
    "## Create random matrices"
   ]
  },
  {
   "cell_type": "code",
   "execution_count": 118,
   "metadata": {
    "ExecuteTime": {
     "end_time": "2021-09-22T12:12:21.992394Z",
     "start_time": "2021-09-22T12:12:21.987327Z"
    }
   },
   "outputs": [],
   "source": [
    "M1 = np.matrix(np.random.rand(5,10)*50)\n",
    "M2 = np.matrix(np.random.rand(10,5)*50)"
   ]
  },
  {
   "cell_type": "code",
   "execution_count": 119,
   "metadata": {
    "ExecuteTime": {
     "end_time": "2021-09-22T12:12:22.454406Z",
     "start_time": "2021-09-22T12:12:22.447470Z"
    },
    "scrolled": true
   },
   "outputs": [
    {
     "data": {
      "text/plain": [
       "((5, 10), (10, 5))"
      ]
     },
     "execution_count": 119,
     "metadata": {},
     "output_type": "execute_result"
    }
   ],
   "source": [
    "M1.shape, M2.shape"
   ]
  },
  {
   "cell_type": "markdown",
   "metadata": {},
   "source": [
    "## Matrix multiplication"
   ]
  },
  {
   "cell_type": "code",
   "execution_count": 164,
   "metadata": {
    "ExecuteTime": {
     "end_time": "2021-09-22T12:30:25.205099Z",
     "start_time": "2021-09-22T12:30:25.191298Z"
    }
   },
   "outputs": [],
   "source": [
    "def Matrix_multip(M1,M2):\n",
    "    row1,col1 = M1.shape\n",
    "    row2,col2 = M2.shape\n",
    "    \n",
    "    if (col1 != row2):\n",
    "        M2_t = M2.reshape((col2,row2))\n",
    "        row2_t,col2_t = M2_t.shape\n",
    "        M2 = M2_t\n",
    "        print('Transpose M2')\n",
    "    \n",
    "        if (col1 != row2_t):\n",
    "            return print('Matrix Multiplication False: Shape error')\n",
    "            \n",
    "    elif (col1 == row2):\n",
    "        global out_matrix\n",
    "        out_matrix = np.matrix(np.zeros((M1.shape[0],M2.shape[1])))\n",
    "        for i in range(out_matrix.shape[0]):\n",
    "            for j in range(out_matrix.shape[1]):\n",
    "                out_matrix[i,j] = M1[i,:]*M2[:,j]\n",
    "                \n",
    "    return out_matrix"
   ]
  },
  {
   "cell_type": "code",
   "execution_count": 165,
   "metadata": {
    "ExecuteTime": {
     "end_time": "2021-09-22T12:30:26.832518Z",
     "start_time": "2021-09-22T12:30:26.820332Z"
    },
    "scrolled": true
   },
   "outputs": [
    {
     "data": {
      "text/plain": [
       "matrix([[6978.72739073, 6056.09336446, 7250.3046309 , 4853.52425858,\n",
       "         5214.79769824],\n",
       "        [5928.53839183, 7071.11287022, 6962.99832526, 5547.45671514,\n",
       "         3545.66849203],\n",
       "        [8567.92537979, 5908.97300459, 8031.38173379, 4924.41726514,\n",
       "         5718.57890333],\n",
       "        [7921.98302375, 8875.03474619, 7810.31515819, 7256.9861673 ,\n",
       "         6130.09163933],\n",
       "        [5070.0761337 , 6075.58796698, 5668.16034239, 4332.87332894,\n",
       "         4965.09278146]])"
      ]
     },
     "execution_count": 165,
     "metadata": {},
     "output_type": "execute_result"
    }
   ],
   "source": [
    "Mul_M = Matrix_multip(M1,M2)\n",
    "Mul_M"
   ]
  },
  {
   "cell_type": "markdown",
   "metadata": {},
   "source": [
    "Check our results"
   ]
  },
  {
   "cell_type": "code",
   "execution_count": 166,
   "metadata": {
    "ExecuteTime": {
     "end_time": "2021-09-22T12:30:29.108050Z",
     "start_time": "2021-09-22T12:30:29.100081Z"
    },
    "scrolled": true
   },
   "outputs": [
    {
     "data": {
      "text/plain": [
       "matrix([[6978.72739073, 6056.09336446, 7250.3046309 , 4853.52425858,\n",
       "         5214.79769824],\n",
       "        [5928.53839183, 7071.11287022, 6962.99832526, 5547.45671514,\n",
       "         3545.66849203],\n",
       "        [8567.92537979, 5908.97300459, 8031.38173379, 4924.41726514,\n",
       "         5718.57890333],\n",
       "        [7921.98302375, 8875.03474619, 7810.31515819, 7256.9861673 ,\n",
       "         6130.09163933],\n",
       "        [5070.0761337 , 6075.58796698, 5668.16034239, 4332.87332894,\n",
       "         4965.09278146]])"
      ]
     },
     "execution_count": 166,
     "metadata": {},
     "output_type": "execute_result"
    }
   ],
   "source": [
    "M1*M2"
   ]
  },
  {
   "cell_type": "code",
   "execution_count": 167,
   "metadata": {
    "ExecuteTime": {
     "end_time": "2021-09-22T12:30:30.548426Z",
     "start_time": "2021-09-22T12:30:30.543535Z"
    }
   },
   "outputs": [
    {
     "name": "stdout",
     "output_type": "stream",
     "text": [
      "Transpose M2\n"
     ]
    }
   ],
   "source": [
    "Mul_M2 = Matrix_multip(M1,M2.transpose())"
   ]
  },
  {
   "cell_type": "code",
   "execution_count": 168,
   "metadata": {
    "ExecuteTime": {
     "end_time": "2021-09-22T12:30:31.356617Z",
     "start_time": "2021-09-22T12:30:31.350053Z"
    }
   },
   "outputs": [
    {
     "data": {
      "text/plain": [
       "matrix([[6978.72739073, 6056.09336446, 7250.3046309 , 4853.52425858,\n",
       "         5214.79769824],\n",
       "        [5928.53839183, 7071.11287022, 6962.99832526, 5547.45671514,\n",
       "         3545.66849203],\n",
       "        [8567.92537979, 5908.97300459, 8031.38173379, 4924.41726514,\n",
       "         5718.57890333],\n",
       "        [7921.98302375, 8875.03474619, 7810.31515819, 7256.9861673 ,\n",
       "         6130.09163933],\n",
       "        [5070.0761337 , 6075.58796698, 5668.16034239, 4332.87332894,\n",
       "         4965.09278146]])"
      ]
     },
     "execution_count": 168,
     "metadata": {},
     "output_type": "execute_result"
    }
   ],
   "source": [
    "Mul_M2"
   ]
  },
  {
   "cell_type": "code",
   "execution_count": 172,
   "metadata": {
    "ExecuteTime": {
     "end_time": "2021-09-22T12:33:06.369303Z",
     "start_time": "2021-09-22T12:33:06.360446Z"
    }
   },
   "outputs": [
    {
     "name": "stdout",
     "output_type": "stream",
     "text": [
      "Transpose M2\n",
      "Matrix Multiplication False: Shape error\n"
     ]
    }
   ],
   "source": [
    "Mul_M3 = Matrix_multip(M1,np.identity(4))"
   ]
  },
  {
   "cell_type": "markdown",
   "metadata": {},
   "source": [
    "### Notice the difference between np.multiply and *"
   ]
  },
  {
   "cell_type": "code",
   "execution_count": 114,
   "metadata": {
    "ExecuteTime": {
     "end_time": "2021-09-22T12:12:04.495355Z",
     "start_time": "2021-09-22T12:12:04.488080Z"
    }
   },
   "outputs": [],
   "source": [
    "M3 = np.matrix(np.ones((5,5)))\n",
    "M4 = np.identity(5)"
   ]
  },
  {
   "cell_type": "code",
   "execution_count": 115,
   "metadata": {
    "ExecuteTime": {
     "end_time": "2021-09-22T12:12:08.944638Z",
     "start_time": "2021-09-22T12:12:08.934194Z"
    },
    "scrolled": true
   },
   "outputs": [
    {
     "data": {
      "text/plain": [
       "(matrix([[1., 1., 1., 1., 1.],\n",
       "         [1., 1., 1., 1., 1.],\n",
       "         [1., 1., 1., 1., 1.],\n",
       "         [1., 1., 1., 1., 1.],\n",
       "         [1., 1., 1., 1., 1.]]),\n",
       " array([[1., 0., 0., 0., 0.],\n",
       "        [0., 1., 0., 0., 0.],\n",
       "        [0., 0., 1., 0., 0.],\n",
       "        [0., 0., 0., 1., 0.],\n",
       "        [0., 0., 0., 0., 1.]]))"
      ]
     },
     "execution_count": 115,
     "metadata": {},
     "output_type": "execute_result"
    }
   ],
   "source": [
    "M3,M4"
   ]
  },
  {
   "cell_type": "markdown",
   "metadata": {},
   "source": [
    "**Except for 1-dimension vectors, '*' is matrix multiplication**"
   ]
  },
  {
   "cell_type": "code",
   "execution_count": 116,
   "metadata": {
    "ExecuteTime": {
     "end_time": "2021-09-22T12:12:12.970744Z",
     "start_time": "2021-09-22T12:12:12.960293Z"
    }
   },
   "outputs": [
    {
     "data": {
      "text/plain": [
       "matrix([[1., 1., 1., 1., 1.],\n",
       "        [1., 1., 1., 1., 1.],\n",
       "        [1., 1., 1., 1., 1.],\n",
       "        [1., 1., 1., 1., 1.],\n",
       "        [1., 1., 1., 1., 1.]])"
      ]
     },
     "execution_count": 116,
     "metadata": {},
     "output_type": "execute_result"
    }
   ],
   "source": [
    "M3*M4"
   ]
  },
  {
   "cell_type": "markdown",
   "metadata": {},
   "source": [
    "**np.multiply is the multuplication among elements**"
   ]
  },
  {
   "cell_type": "code",
   "execution_count": 117,
   "metadata": {
    "ExecuteTime": {
     "end_time": "2021-09-22T12:12:17.168965Z",
     "start_time": "2021-09-22T12:12:17.159298Z"
    }
   },
   "outputs": [
    {
     "data": {
      "text/plain": [
       "matrix([[1., 0., 0., 0., 0.],\n",
       "        [0., 1., 0., 0., 0.],\n",
       "        [0., 0., 1., 0., 0.],\n",
       "        [0., 0., 0., 1., 0.],\n",
       "        [0., 0., 0., 0., 1.]])"
      ]
     },
     "execution_count": 117,
     "metadata": {},
     "output_type": "execute_result"
    }
   ],
   "source": [
    "np.multiply(M3,M4)"
   ]
  },
  {
   "cell_type": "markdown",
   "metadata": {},
   "source": [
    "# Pascal triangle"
   ]
  },
  {
   "cell_type": "code",
   "execution_count": 204,
   "metadata": {
    "ExecuteTime": {
     "end_time": "2021-09-22T12:44:58.769444Z",
     "start_time": "2021-09-22T12:44:58.766196Z"
    }
   },
   "outputs": [],
   "source": [
    "# Import libraries\n",
    "from math import factorial\n",
    "import matplotlib.pyplot as plt"
   ]
  },
  {
   "attachments": {
    "%E5%9B%BE%E7%89%87.png": {
     "image/png": "[encoded data removed]"
    }
   },
   "cell_type": "markdown",
   "metadata": {},
   "source": [
    "![%E5%9B%BE%E7%89%87.png](attachment:%E5%9B%BE%E7%89%87.png)  \n",
    "https://www.mathsisfun.com/pascals-triangle.html"
   ]
  },
  {
   "cell_type": "code",
   "execution_count": 187,
   "metadata": {
    "ExecuteTime": {
     "end_time": "2021-09-22T12:40:59.126868Z",
     "start_time": "2021-09-22T12:40:59.121917Z"
    }
   },
   "outputs": [],
   "source": [
    "def Pascal_triangle(n):\n",
    "    out_array = np.zeros(n+1)\n",
    "    for k in range(0,n+1):\n",
    "        out_array[k] = factorial(n) / (factorial(k)*factorial(n-k))\n",
    "    return out_array"
   ]
  },
  {
   "cell_type": "code",
   "execution_count": 198,
   "metadata": {
    "ExecuteTime": {
     "end_time": "2021-09-22T12:44:08.585115Z",
     "start_time": "2021-09-22T12:44:08.573448Z"
    },
    "collapsed": true
   },
   "outputs": [
    {
     "data": {
      "text/plain": [
       "array([1.00000000e+00, 1.00000000e+02, 4.95000000e+03, 1.61700000e+05,\n",
       "       3.92122500e+06, 7.52875200e+07, 1.19205240e+09, 1.60075608e+10,\n",
       "       1.86087894e+11, 1.90223181e+12, 1.73103095e+13, 1.41629805e+14,\n",
       "       1.05042105e+15, 7.11054250e+15, 4.41869427e+16, 2.53338471e+17,\n",
       "       1.34586063e+18, 6.65013487e+18, 3.06645108e+19, 1.32341573e+20,\n",
       "       5.35983370e+20, 2.04184141e+21, 7.33206689e+21, 2.48652703e+22,\n",
       "       7.97760756e+22, 2.42519270e+23, 6.99574817e+23, 1.91735320e+24,\n",
       "       4.99881370e+24, 1.24108478e+25, 2.93723398e+25, 6.63246383e+25,\n",
       "       1.43012501e+26, 2.94692427e+26, 5.80717430e+26, 1.09506715e+27,\n",
       "       1.97720458e+27, 3.42002955e+27, 5.67004899e+27, 9.01392403e+27,\n",
       "       1.37462341e+28, 2.01164402e+28, 2.82588089e+28, 3.81165329e+28,\n",
       "       4.93782358e+28, 6.14484712e+28, 7.34709982e+28, 8.44134873e+28,\n",
       "       9.32065589e+28, 9.89130829e+28, 1.00891345e+29, 9.89130829e+28,\n",
       "       9.32065589e+28, 8.44134873e+28, 7.34709982e+28, 6.14484712e+28,\n",
       "       4.93782358e+28, 3.81165329e+28, 2.82588089e+28, 2.01164402e+28,\n",
       "       1.37462341e+28, 9.01392403e+27, 5.67004899e+27, 3.42002955e+27,\n",
       "       1.97720458e+27, 1.09506715e+27, 5.80717430e+26, 2.94692427e+26,\n",
       "       1.43012501e+26, 6.63246383e+25, 2.93723398e+25, 1.24108478e+25,\n",
       "       4.99881370e+24, 1.91735320e+24, 6.99574817e+23, 2.42519270e+23,\n",
       "       7.97760756e+22, 2.48652703e+22, 7.33206689e+21, 2.04184141e+21,\n",
       "       5.35983370e+20, 1.32341573e+20, 3.06645108e+19, 6.65013487e+18,\n",
       "       1.34586063e+18, 2.53338471e+17, 4.41869427e+16, 7.11054250e+15,\n",
       "       1.05042105e+15, 1.41629805e+14, 1.73103095e+13, 1.90223181e+12,\n",
       "       1.86087894e+11, 1.60075608e+10, 1.19205240e+09, 7.52875200e+07,\n",
       "       3.92122500e+06, 1.61700000e+05, 4.95000000e+03, 1.00000000e+02,\n",
       "       1.00000000e+00])"
      ]
     },
     "execution_count": 198,
     "metadata": {},
     "output_type": "execute_result"
    }
   ],
   "source": [
    "Pascal_triangle(100)"
   ]
  },
  {
   "cell_type": "code",
   "execution_count": 193,
   "metadata": {
    "ExecuteTime": {
     "end_time": "2021-09-22T12:41:36.025552Z",
     "start_time": "2021-09-22T12:41:36.010708Z"
    },
    "scrolled": true
   },
   "outputs": [
    {
     "data": {
      "text/plain": [
       "array([1.00000000e+00, 2.00000000e+02, 1.99000000e+04, 1.31340000e+06,\n",
       "       6.46849500e+07, 2.53565004e+09, 8.24086263e+10, 2.28389621e+12,\n",
       "       5.50989962e+13, 1.17544525e+15, 2.24510043e+16, 3.87790074e+17,\n",
       "       6.10769367e+18, 8.83266470e+19, 1.17979164e+21, 1.46294164e+22,\n",
       "       1.69152627e+23, 1.83082843e+24, 1.86134224e+25, 1.78296993e+26,\n",
       "       1.61358779e+27, 1.38307525e+28, 1.12532031e+29, 8.70900069e+29,\n",
       "       6.42288801e+30, 4.52171316e+31, 3.04346078e+32, 1.96134139e+33,\n",
       "       1.21182879e+34, 7.18739833e+34, 4.09681705e+35, 2.24664161e+36,\n",
       "       1.18650760e+37, 6.04040232e+37, 2.96690349e+38, 1.40715994e+39,\n",
       "       6.44948307e+39, 2.85868979e+40, 1.22622746e+41, 5.09356024e+41,\n",
       "       2.05015800e+42, 8.00061657e+42, 3.02880484e+43, 1.11290969e+44,\n",
       "       3.97106411e+44, 1.37663556e+45, 4.63866329e+45, 1.51990244e+46,\n",
       "       4.84468903e+46, 1.50284231e+47, 4.53858378e+47, 1.33487758e+48,\n",
       "       3.82493769e+48, 1.06809581e+49, 2.90759414e+49, 7.71834081e+49,\n",
       "       1.99849896e+50, 5.04883948e+50, 1.24480008e+51, 2.99595951e+51,\n",
       "       7.04050485e+51, 1.61585357e+52, 3.62263946e+52, 7.93530548e+52,\n",
       "       1.69865133e+53, 3.55410124e+53, 7.26975255e+53, 1.45395051e+54,\n",
       "       2.84375614e+54, 5.44022914e+54, 1.01810003e+55, 1.86412681e+55,\n",
       "       3.33989386e+55, 5.85625225e+55, 1.00505951e+56, 1.68849997e+56,\n",
       "       2.77713811e+56, 4.47227437e+56, 7.05243265e+56, 1.08910985e+57,\n",
       "       1.64727865e+57, 2.44041282e+57, 3.54157470e+57, 5.03500981e+57,\n",
       "       7.01304938e+57, 9.57074975e+57, 1.27980956e+58, 1.67699184e+58,\n",
       "       2.15340997e+58, 2.70990918e+58, 3.34222132e+58, 4.04004775e+58,\n",
       "       4.78657831e+58, 5.55860707e+58, 6.32735060e+58, 7.05999120e+58,\n",
       "       7.72186537e+58, 8.27911339e+58, 8.70151713e+58, 8.96519947e+58,\n",
       "       9.05485147e+58, 8.96519947e+58, 8.70151713e+58, 8.27911339e+58,\n",
       "       7.72186537e+58, 7.05999120e+58, 6.32735060e+58, 5.55860707e+58,\n",
       "       4.78657831e+58, 4.04004775e+58, 3.34222132e+58, 2.70990918e+58,\n",
       "       2.15340997e+58, 1.67699184e+58, 1.27980956e+58, 9.57074975e+57,\n",
       "       7.01304938e+57, 5.03500981e+57, 3.54157470e+57, 2.44041282e+57,\n",
       "       1.64727865e+57, 1.08910985e+57, 7.05243265e+56, 4.47227437e+56,\n",
       "       2.77713811e+56, 1.68849997e+56, 1.00505951e+56, 5.85625225e+55,\n",
       "       3.33989386e+55, 1.86412681e+55, 1.01810003e+55, 5.44022914e+54,\n",
       "       2.84375614e+54, 1.45395051e+54, 7.26975255e+53, 3.55410124e+53,\n",
       "       1.69865133e+53, 7.93530548e+52, 3.62263946e+52, 1.61585357e+52,\n",
       "       7.04050485e+51, 2.99595951e+51, 1.24480008e+51, 5.04883948e+50,\n",
       "       1.99849896e+50, 7.71834081e+49, 2.90759414e+49, 1.06809581e+49,\n",
       "       3.82493769e+48, 1.33487758e+48, 4.53858378e+47, 1.50284231e+47,\n",
       "       4.84468903e+46, 1.51990244e+46, 4.63866329e+45, 1.37663556e+45,\n",
       "       3.97106411e+44, 1.11290969e+44, 3.02880484e+43, 8.00061657e+42,\n",
       "       2.05015800e+42, 5.09356024e+41, 1.22622746e+41, 2.85868979e+40,\n",
       "       6.44948307e+39, 1.40715994e+39, 2.96690349e+38, 6.04040232e+37,\n",
       "       1.18650760e+37, 2.24664161e+36, 4.09681705e+35, 7.18739833e+34,\n",
       "       1.21182879e+34, 1.96134139e+33, 3.04346078e+32, 4.52171316e+31,\n",
       "       6.42288801e+30, 8.70900069e+29, 1.12532031e+29, 1.38307525e+28,\n",
       "       1.61358779e+27, 1.78296993e+26, 1.86134224e+25, 1.83082843e+24,\n",
       "       1.69152627e+23, 1.46294164e+22, 1.17979164e+21, 8.83266470e+19,\n",
       "       6.10769367e+18, 3.87790074e+17, 2.24510043e+16, 1.17544525e+15,\n",
       "       5.50989962e+13, 2.28389621e+12, 8.24086263e+10, 2.53565004e+09,\n",
       "       6.46849500e+07, 1.31340000e+06, 1.99000000e+04, 2.00000000e+02,\n",
       "       1.00000000e+00])"
      ]
     },
     "execution_count": 193,
     "metadata": {},
     "output_type": "execute_result"
    }
   ],
   "source": [
    "Pascal_triangle(200)"
   ]
  },
  {
   "cell_type": "markdown",
   "metadata": {},
   "source": [
    "## Plot distribution  \n",
    "Here we plot the distribution of these values"
   ]
  },
  {
   "cell_type": "code",
   "execution_count": 213,
   "metadata": {
    "ExecuteTime": {
     "end_time": "2021-09-22T12:46:21.828374Z",
     "start_time": "2021-09-22T12:46:21.162509Z"
    }
   },
   "outputs": [
    {
     "data": {
      "text/plain": [
       "[<matplotlib.lines.Line2D at 0x7f0304a9eb10>]"
      ]
     },
     "execution_count": 213,
     "metadata": {},
     "output_type": "execute_result"
    },
    {
     "data": {
      "image/png": "[encoded data removed]",
      "text/plain": [
       "<Figure size 792x360 with 2 Axes>"
      ]
     },
     "metadata": {
      "needs_background": "light"
     },
     "output_type": "display_data"
    }
   ],
   "source": [
    "fig,ax = plt.subplots(1,2,figsize=(11,5))\n",
    "ax[0].plot(Pascal_triangle(100))\n",
    "ax[1].plot(Pascal_triangle(200),'r')"
   ]
  },
  {
   "cell_type": "markdown",
   "metadata": {},
   "source": [
    "# Add or double"
   ]
  },
  {
   "cell_type": "markdown",
   "metadata": {},
   "source": [
    "## Method1: idea from loss function --> failed"
   ]
  },
  {
   "cell_type": "code",
   "execution_count": 1,
   "metadata": {
    "ExecuteTime": {
     "end_time": "2021-09-23T09:12:58.774901Z",
     "start_time": "2021-09-23T09:12:58.764040Z"
    }
   },
   "outputs": [],
   "source": [
    "def Loss(x_step,x):\n",
    "    delta = x - sum(x_step)\n",
    "    return delta"
   ]
  },
  {
   "cell_type": "code",
   "execution_count": 271,
   "metadata": {
    "ExecuteTime": {
     "end_time": "2021-09-24T10:43:00.509806Z",
     "start_time": "2021-09-24T10:43:00.491242Z"
    }
   },
   "outputs": [],
   "source": [
    "def Gradient(x,x_step,iters):\n",
    "    for i in range(iters):\n",
    "        if (Loss(x_step,x)>0):\n",
    "            test1 = list(np.asarray(x_step)*2)\n",
    "            loss1 = Loss(test1,x)\n",
    "            \n",
    "            x_step.append(1)\n",
    "            test2 = x_step\n",
    "            loss2 = Loss(test2,x)\n",
    "            x_step.pop(-1)\n",
    "            \n",
    "            if (loss1<loss2):\n",
    "                if (loss1>=0):\n",
    "                    x_step = test1\n",
    "                    loss[i] = loss1\n",
    "                else:\n",
    "                    x_step.append(1)\n",
    "                    loss[i] = loss2\n",
    "\n",
    "            else:\n",
    "                x_step.append(1)\n",
    "                loss[i] = loss2\n",
    "        else:\n",
    "            loss[i] = 'NAN'\n",
    "        test1 = []\n",
    "        test2 = []\n",
    "    return x_step,loss\n",
    "\n",
    "def Least_moves(rand):\n",
    "    moves = Gradient(rand,x0_step,iters)[1]\n",
    "    return len([x for x in moves if np.isnan(x)==False])+1"
   ]
  },
  {
   "cell_type": "code",
   "execution_count": 279,
   "metadata": {
    "ExecuteTime": {
     "end_time": "2021-09-24T10:44:01.862569Z",
     "start_time": "2021-09-24T10:44:01.840856Z"
    },
    "scrolled": false
   },
   "outputs": [
    {
     "data": {
      "text/plain": [
       "([4, 4, 1, 1, 1],\n",
       " array([ 9.,  7.,  3.,  2.,  1.,  0., nan, nan, nan, nan, nan, nan, nan,\n",
       "        nan, nan, nan, nan, nan, nan, nan, nan, nan, nan, nan, nan, nan,\n",
       "        nan, nan, nan, nan, nan, nan, nan, nan, nan, nan, nan, nan, nan,\n",
       "        nan, nan, nan, nan, nan, nan, nan, nan, nan, nan, nan, nan, nan,\n",
       "        nan, nan, nan, nan, nan, nan, nan, nan, nan, nan, nan, nan, nan,\n",
       "        nan, nan, nan, nan, nan, nan, nan, nan, nan, nan, nan, nan, nan,\n",
       "        nan, nan, nan, nan, nan, nan, nan, nan, nan, nan, nan, nan, nan,\n",
       "        nan, nan, nan, nan, nan, nan, nan, nan, nan]))"
      ]
     },
     "execution_count": 279,
     "metadata": {},
     "output_type": "execute_result"
    }
   ],
   "source": [
    "rand=11\n",
    "iters = 100\n",
    "loss = np.zeros(iters)\n",
    "x0_step = [1,]\n",
    "\n",
    "Gradient(rand,x0_step,iters)"
   ]
  },
  {
   "cell_type": "code",
   "execution_count": 280,
   "metadata": {
    "ExecuteTime": {
     "end_time": "2021-09-24T10:44:15.855902Z",
     "start_time": "2021-09-24T10:44:15.840407Z"
    }
   },
   "outputs": [
    {
     "data": {
      "text/plain": [
       "6"
      ]
     },
     "execution_count": 280,
     "metadata": {},
     "output_type": "execute_result"
    }
   ],
   "source": [
    "Least_moves(11)"
   ]
  },
  {
   "cell_type": "markdown",
   "metadata": {},
   "source": [
    "### Problem of method 1 in finding the \"least\" move"
   ]
  },
  {
   "cell_type": "markdown",
   "metadata": {},
   "source": [
    "Method 1 confirms the convergence. But the idea of minimizing the routes cannot be accomplished by defining the Loss function.Our Gradient function is able to find \"the most rapid descending way\", instead of the minimum steps. Here the \"most rapif descending way\" is always doubling the money, then add 1 to fill in the rest of the money."
   ]
  },
  {
   "cell_type": "markdown",
   "metadata": {},
   "source": [
    "## Method 2"
   ]
  },
  {
   "cell_type": "code",
   "execution_count": 605,
   "metadata": {
    "ExecuteTime": {
     "end_time": "2021-10-07T01:24:20.936178Z",
     "start_time": "2021-10-07T01:24:20.919854Z"
    }
   },
   "outputs": [],
   "source": [
    "def Least_moves():\n",
    "    iters = 100\n",
    "    x0_step = [1,]\n",
    "    rand = int(input(\"Please type a random interger: \"))\n",
    "    xx_step = np.zeros(iters)\n",
    "    xx_step[0]=rand\n",
    "    for i in range(1,iters):\n",
    "        rand_i = rand/2\n",
    "        if (rand_i != 1):\n",
    "            if (rand%2 != 0):\n",
    "                rand_i = rand-1\n",
    "                xx_step[i] = rand_i\n",
    "            if (rand%2 ==0):\n",
    "                xx_step[i] = rand_i\n",
    "        if (rand_i == 1):\n",
    "            xx_step[i] = 1\n",
    "            break\n",
    "        rand = rand_i\n",
    "    return xx_step,len([x for x in xx_step if x>0])-1"
   ]
  },
  {
   "cell_type": "code",
   "execution_count": 610,
   "metadata": {
    "ExecuteTime": {
     "end_time": "2021-10-07T02:06:12.587778Z",
     "start_time": "2021-10-07T02:06:10.891826Z"
    }
   },
   "outputs": [
    {
     "name": "stdout",
     "output_type": "stream",
     "text": [
      "Please type a random interger: 15\n"
     ]
    },
    {
     "data": {
      "text/plain": [
       "6"
      ]
     },
     "execution_count": 610,
     "metadata": {},
     "output_type": "execute_result"
    }
   ],
   "source": [
    "Least_moves()[1]"
   ]
  },
  {
   "cell_type": "code",
   "execution_count": 609,
   "metadata": {
    "ExecuteTime": {
     "end_time": "2021-10-07T02:06:03.579055Z",
     "start_time": "2021-10-07T02:06:01.790452Z"
    },
    "scrolled": true
   },
   "outputs": [
    {
     "name": "stdout",
     "output_type": "stream",
     "text": [
      "Please type a random interger: 15\n"
     ]
    },
    {
     "data": {
      "text/plain": [
       "array([15., 14.,  7.,  6.,  3.,  2.,  1.,  0.,  0.,  0.,  0.,  0.,  0.,\n",
       "        0.,  0.,  0.,  0.,  0.,  0.,  0.,  0.,  0.,  0.,  0.,  0.,  0.,\n",
       "        0.,  0.,  0.,  0.,  0.,  0.,  0.,  0.,  0.,  0.,  0.,  0.,  0.,\n",
       "        0.,  0.,  0.,  0.,  0.,  0.,  0.,  0.,  0.,  0.,  0.,  0.,  0.,\n",
       "        0.,  0.,  0.,  0.,  0.,  0.,  0.,  0.,  0.,  0.,  0.,  0.,  0.,\n",
       "        0.,  0.,  0.,  0.,  0.,  0.,  0.,  0.,  0.,  0.,  0.,  0.,  0.,\n",
       "        0.,  0.,  0.,  0.,  0.,  0.,  0.,  0.,  0.,  0.,  0.,  0.,  0.,\n",
       "        0.,  0.,  0.,  0.,  0.,  0.,  0.,  0.,  0.])"
      ]
     },
     "execution_count": 609,
     "metadata": {},
     "output_type": "execute_result"
    }
   ],
   "source": [
    "Least_moves()[0]"
   ]
  },
  {
   "cell_type": "markdown",
   "metadata": {},
   "source": [
    "7: 7-1 --> 6 --> 3$\\times$2: 1,2,3,6,7  \n",
    "10: 5$\\times$2 --> 5 --> 5-1 --> 4 --> 2$\\times$2: 1,2,4,5,10  \n",
    "15: 15-1 --> 7x2 --> 7-1 -> 6 --> 3$\\times$2 : 1,2,3,6,7,14,15"
   ]
  },
  {
   "cell_type": "markdown",
   "metadata": {},
   "source": [
    "Now it works well."
   ]
  },
  {
   "cell_type": "markdown",
   "metadata": {},
   "source": [
    "# Dynamic programming"
   ]
  },
  {
   "cell_type": "markdown",
   "metadata": {},
   "source": [
    "## Find expression"
   ]
  },
  {
   "cell_type": "code",
   "execution_count": 6,
   "metadata": {
    "ExecuteTime": {
     "end_time": "2021-10-08T09:39:18.990514Z",
     "start_time": "2021-10-08T09:39:18.968145Z"
    }
   },
   "outputs": [],
   "source": [
    "def calcp(num_x):\n",
    "    return '+'+ num_x\n",
    "\n",
    "def calcm(num_x):\n",
    "    return '-'+ num_x\n",
    "\n",
    "def calcc(num_xi):\n",
    "    return num_xi+''"
   ]
  },
  {
   "cell_type": "code",
   "execution_count": 7,
   "metadata": {
    "ExecuteTime": {
     "end_time": "2021-10-08T09:39:32.825283Z",
     "start_time": "2021-10-08T09:39:32.797148Z"
    }
   },
   "outputs": [],
   "source": [
    "def Find_expression(num):\n",
    "    # Three operations for digits 123456789\n",
    "    M = []\n",
    "    for i in range(2,10):\n",
    "        M.append([calcp('%s'%i),calcm('%s'%i),calcc('%s'%i)])\n",
    "    test = []\n",
    "    # List all possible expressions\n",
    "    for a in range(3):\n",
    "        for b in range(3):\n",
    "            for c in range(3):\n",
    "                for d in range(3):\n",
    "                    for e in range(3):\n",
    "                        for f in range(3):\n",
    "                            for g in range(3):\n",
    "                                for h in range(3):\n",
    "                                    test.append(('1'+M[0][a]+M[1][b]+M[2][c]+M[3][d]+M[4][e]+M[5][f]+M[6][g]+M[7][h]))\n",
    "    # The result of each espression\n",
    "    num_sum = np.zeros((len(test)))\n",
    "    for i in range(len(test)):\n",
    "        indx = []\n",
    "        for j in range(len(test[i])):        \n",
    "            if(test[i][j].isdigit()==False):\n",
    "                indx.append(j)\n",
    "        indx.append(len(test[i]))\n",
    "        num_sum[i] = int(test[i][:indx[0]])\n",
    "        for k in range(1,len(indx)):\n",
    "            num_sum[i] += int(test[i][indx[k-1]:indx[k]])\n",
    "            \n",
    "    index = np.argwhere(num_sum == num)\n",
    "    return [test[int(index[i])] for i in range(len(index))]"
   ]
  },
  {
   "cell_type": "code",
   "execution_count": 8,
   "metadata": {
    "ExecuteTime": {
     "end_time": "2021-10-08T09:39:33.407628Z",
     "start_time": "2021-10-08T09:39:33.174480Z"
    }
   },
   "outputs": [
    {
     "data": {
      "text/plain": [
       "['1+2+3-4+5+6+78+9',\n",
       " '1+2+34-5+67-8+9',\n",
       " '1+23-4+5+6+78-9',\n",
       " '1+23-4+56+7+8+9',\n",
       " '12+3+4+5-6-7+89',\n",
       " '12+3-4+5+67+8+9',\n",
       " '12-3-4+5-6+7+89',\n",
       " '123+4-5+67-89',\n",
       " '123+45-67+8-9',\n",
       " '123-4-5-6-7+8-9',\n",
       " '123-45-67+89']"
      ]
     },
     "execution_count": 8,
     "metadata": {},
     "output_type": "execute_result"
    }
   ],
   "source": [
    "Find_expression(100)"
   ]
  },
  {
   "cell_type": "markdown",
   "metadata": {},
   "source": [
    "The iterations here is quite exhausting, but I cannot come up with other simple thoughts to write this. "
   ]
  },
  {
   "cell_type": "markdown",
   "metadata": {},
   "source": [
    "## Total solutions"
   ]
  },
  {
   "cell_type": "code",
   "execution_count": 57,
   "metadata": {
    "ExecuteTime": {
     "end_time": "2021-10-08T09:56:58.877423Z",
     "start_time": "2021-10-08T09:56:58.855958Z"
    }
   },
   "outputs": [],
   "source": [
    "def Total_solutions():\n",
    "    tot_sols = [len(Find_expression(i)) for i in range(101)]\n",
    "    \n",
    "    # return the [minimum/maximun steps (int), which number(s) generates the minimum/maximum steps (array)]\n",
    "    return tot_sols#,[sols_min,tot_sols[1+np.argwhere(tot_sols==sols_min)]],[sols_max,tot_sols[1+np.argwhere(tot_sols==sols_max)]]"
   ]
  },
  {
   "cell_type": "code",
   "execution_count": 104,
   "metadata": {
    "ExecuteTime": {
     "end_time": "2021-10-08T10:10:18.290215Z",
     "start_time": "2021-10-08T10:09:53.471024Z"
    }
   },
   "outputs": [],
   "source": [
    "tot_sols = Total_solutions()"
   ]
  },
  {
   "cell_type": "code",
   "execution_count": 49,
   "metadata": {
    "ExecuteTime": {
     "end_time": "2021-10-08T09:52:35.777233Z",
     "start_time": "2021-10-08T09:52:34.928649Z"
    }
   },
   "outputs": [],
   "source": [
    "import matplotlib.pyplot as plt"
   ]
  },
  {
   "cell_type": "code",
   "execution_count": 101,
   "metadata": {
    "ExecuteTime": {
     "end_time": "2021-10-08T10:09:06.615163Z",
     "start_time": "2021-10-08T10:09:06.059397Z"
    }
   },
   "outputs": [
    {
     "data": {
      "text/plain": [
       "<matplotlib.legend.Legend at 0x7f344a2ca750>"
      ]
     },
     "execution_count": 101,
     "metadata": {},
     "output_type": "execute_result"
    },
    {
     "data": {
      "image/png": "[encoded data removed]",
      "text/plain": [
       "<Figure size 432x288 with 1 Axes>"
      ]
     },
     "metadata": {
      "needs_background": "light"
     },
     "output_type": "display_data"
    }
   ],
   "source": [
    "x = np.arange(101)\n",
    "plt.plot(x,np.array(tot_sols))\n",
    "\n",
    "sols_min = [np.argwhere(tot_sols==tot_sols.min()),tot_sols.min()]\n",
    "sols_max = [np.argwhere(tot_sols==tot_sols.max()),tot_sols.max()]\n",
    "plt.scatter(sols_min[0],sols_min[1],c='b',label='Minumum steps')\n",
    "[plt.scatter(sols_max[0][i],sols_max[1],c='r',label='Maximum steps') for i in range(2)]\n",
    "plt.legend()"
   ]
  }
 ],
 "metadata": {
  "kernelspec": {
   "display_name": "Python 3",
   "language": "python",
   "name": "python3"
  },
  "language_info": {
   "codemirror_mode": {
    "name": "ipython",
    "version": 3
   },
   "file_extension": ".py",
   "mimetype": "text/x-python",
   "name": "python",
   "nbconvert_exporter": "python",
   "pygments_lexer": "ipython3",
   "version": "3.7.6"
  },
  "toc": {
   "base_numbering": 1,
   "nav_menu": {},
   "number_sections": true,
   "sideBar": true,
   "skip_h1_title": false,
   "title_cell": "Table of Contents",
   "title_sidebar": "Contents",
   "toc_cell": true,
   "toc_position": {},
   "toc_section_display": true,
   "toc_window_display": false
  }
 },
 "nbformat": 4,
 "nbformat_minor": 4
}
