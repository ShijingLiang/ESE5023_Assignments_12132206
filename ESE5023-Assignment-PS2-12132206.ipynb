{
 "cells": [
  {
   "cell_type": "markdown",
   "metadata": {
    "toc": true
   },
   "source": [
    "<h1>Table of Contents<span class=\"tocSkip\"></span></h1>\n",
    "<div class=\"toc\"><ul class=\"toc-item\"><li><span><a href=\"#1.-Significant-earthquakes-since-2150-B.C.\" data-toc-modified-id=\"1.-Significant-earthquakes-since-2150-B.C.-1\"><span class=\"toc-item-num\">1&nbsp;&nbsp;</span>1. Significant earthquakes since 2150 B.C.</a></span><ul class=\"toc-item\"><li><span><a href=\"#Total-deaths\" data-toc-modified-id=\"Total-deaths-1.1\"><span class=\"toc-item-num\">1.1&nbsp;&nbsp;</span>Total deaths</a></span></li><li><span><a href=\"#Total-earthquakes-(m>6)\" data-toc-modified-id=\"Total-earthquakes-(m>6)-1.2\"><span class=\"toc-item-num\">1.2&nbsp;&nbsp;</span>Total earthquakes (m&gt;6)</a></span></li><li><span><a href=\"#CountEq_LargestEq\" data-toc-modified-id=\"CountEq_LargestEq-1.3\"><span class=\"toc-item-num\">1.3&nbsp;&nbsp;</span>CountEq_LargestEq</a></span></li><li><span><a href=\"#A-failed-attempt:-pd.to_datetime-error\" data-toc-modified-id=\"A-failed-attempt:-pd.to_datetime-error-1.4\"><span class=\"toc-item-num\">1.4&nbsp;&nbsp;</span>A failed attempt: pd.to_datetime error</a></span></li></ul></li><li><span><a href=\"#Wind-speed-in-Shenzhen-during-the-past-10-years\" data-toc-modified-id=\"Wind-speed-in-Shenzhen-during-the-past-10-years-2\"><span class=\"toc-item-num\">2&nbsp;&nbsp;</span>Wind speed in Shenzhen during the past 10 years</a></span><ul class=\"toc-item\"><li><span><a href=\"#DATE-to-Datetime\" data-toc-modified-id=\"DATE-to-Datetime-2.1\"><span class=\"toc-item-num\">2.1&nbsp;&nbsp;</span>DATE to Datetime</a></span></li><li><span><a href=\"#Split-and-merge-WND\" data-toc-modified-id=\"Split-and-merge-WND-2.2\"><span class=\"toc-item-num\">2.2&nbsp;&nbsp;</span>Split and merge WND</a></span></li><li><span><a href=\"#Quality-check\" data-toc-modified-id=\"Quality-check-2.3\"><span class=\"toc-item-num\">2.3&nbsp;&nbsp;</span>Quality check</a></span></li></ul></li><li><span><a href=\"#Explore-a-data-set\" data-toc-modified-id=\"Explore-a-data-set-3\"><span class=\"toc-item-num\">3&nbsp;&nbsp;</span>Explore a data set</a></span><ul class=\"toc-item\"><li><span><a href=\"#Quality-check\" data-toc-modified-id=\"Quality-check-3.1\"><span class=\"toc-item-num\">3.1&nbsp;&nbsp;</span>Quality check</a></span></li><li><span><a href=\"#Extreme-rainfall-(95th-percentile)\" data-toc-modified-id=\"Extreme-rainfall-(95th-percentile)-3.2\"><span class=\"toc-item-num\">3.2&nbsp;&nbsp;</span>Extreme rainfall (95th percentile)</a></span></li><li><span><a href=\"#Extreme-rainfall-(95th-percentile)-trend\" data-toc-modified-id=\"Extreme-rainfall-(95th-percentile)-trend-3.3\"><span class=\"toc-item-num\">3.3&nbsp;&nbsp;</span>Extreme rainfall (95th percentile) trend</a></span></li><li><span><a href=\"#Precipitation-climatology-mean-for-2001-2011\" data-toc-modified-id=\"Precipitation-climatology-mean-for-2001-2011-3.4\"><span class=\"toc-item-num\">3.4&nbsp;&nbsp;</span>Precipitation climatology mean for 2001-2011</a></span></li><li><span><a href=\"#Precipitation-anomaly-relative-to-2001-2011\" data-toc-modified-id=\"Precipitation-anomaly-relative-to-2001-2011-3.5\"><span class=\"toc-item-num\">3.5&nbsp;&nbsp;</span>Precipitation anomaly relative to 2001-2011</a></span></li></ul></li></ul></div>"
   ]
  },
  {
   "cell_type": "code",
   "execution_count": 2,
   "metadata": {
    "ExecuteTime": {
     "end_time": "2021-10-16T07:38:17.996614Z",
     "start_time": "2021-10-16T07:38:15.695696Z"
    }
   },
   "outputs": [],
   "source": [
    "import pandas as pd\n",
    "import numpy as np\n",
    "import cartopy.crs as ccrs\n",
    "from cartopy.mpl.ticker import LongitudeFormatter, LatitudeFormatter\n",
    "import matplotlib.pyplot as plt"
   ]
  },
  {
   "cell_type": "markdown",
   "metadata": {},
   "source": [
    "# 1. Significant earthquakes since 2150 B.C."
   ]
  },
  {
   "cell_type": "markdown",
   "metadata": {},
   "source": [
    "## Total deaths\n",
    "\n",
    "Compute the total number of deaths caused by earthquakes since 2150 B.C. in each country, and then print the top ten countries along with the total number of deaths."
   ]
  },
  {
   "cell_type": "code",
   "execution_count": 3,
   "metadata": {
    "ExecuteTime": {
     "end_time": "2021-10-16T07:38:20.153404Z",
     "start_time": "2021-10-16T07:38:20.093728Z"
    }
   },
   "outputs": [],
   "source": [
    "# Read .tsv data using pd.read_csv\n",
    "# Setting sep='\\t'\n",
    "ds = pd.read_csv('Data/PS2/earthquakes-2021-10-13_19-04-37_+0800.tsv',sep='\\t',encoding='utf-8',)"
   ]
  },
  {
   "cell_type": "code",
   "execution_count": 4,
   "metadata": {
    "ExecuteTime": {
     "end_time": "2021-10-16T07:38:21.656300Z",
     "start_time": "2021-10-16T07:38:21.608845Z"
    },
    "scrolled": true
   },
   "outputs": [
    {
     "data": {
      "text/html": [
       "<div>\n",
       "<style scoped>\n",
       "    .dataframe tbody tr th:only-of-type {\n",
       "        vertical-align: middle;\n",
       "    }\n",
       "\n",
       "    .dataframe tbody tr th {\n",
       "        vertical-align: top;\n",
       "    }\n",
       "\n",
       "    .dataframe thead th {\n",
       "        text-align: right;\n",
       "    }\n",
       "</style>\n",
       "<table border=\"1\" class=\"dataframe\">\n",
       "  <thead>\n",
       "    <tr style=\"text-align: right;\">\n",
       "      <th></th>\n",
       "      <th>Search Parameters</th>\n",
       "      <th>Year</th>\n",
       "      <th>Mo</th>\n",
       "      <th>Dy</th>\n",
       "      <th>Hr</th>\n",
       "      <th>Mn</th>\n",
       "      <th>Sec</th>\n",
       "      <th>Tsu</th>\n",
       "      <th>Vol</th>\n",
       "      <th>Country</th>\n",
       "      <th>...</th>\n",
       "      <th>Total Missing</th>\n",
       "      <th>Total Missing Description</th>\n",
       "      <th>Total Injuries</th>\n",
       "      <th>Total Injuries Description</th>\n",
       "      <th>Total Damage ($Mil)</th>\n",
       "      <th>Total Damage Description</th>\n",
       "      <th>Total Houses Destroyed</th>\n",
       "      <th>Total Houses Destroyed Description</th>\n",
       "      <th>Total Houses Damaged</th>\n",
       "      <th>Total Houses Damaged Description</th>\n",
       "    </tr>\n",
       "  </thead>\n",
       "  <tbody>\n",
       "    <tr>\n",
       "      <th>0</th>\n",
       "      <td>[]</td>\n",
       "      <td>NaN</td>\n",
       "      <td>NaN</td>\n",
       "      <td>NaN</td>\n",
       "      <td>NaN</td>\n",
       "      <td>NaN</td>\n",
       "      <td>NaN</td>\n",
       "      <td>NaN</td>\n",
       "      <td>NaN</td>\n",
       "      <td>NaN</td>\n",
       "      <td>...</td>\n",
       "      <td>NaN</td>\n",
       "      <td>NaN</td>\n",
       "      <td>NaN</td>\n",
       "      <td>NaN</td>\n",
       "      <td>NaN</td>\n",
       "      <td>NaN</td>\n",
       "      <td>NaN</td>\n",
       "      <td>NaN</td>\n",
       "      <td>NaN</td>\n",
       "      <td>NaN</td>\n",
       "    </tr>\n",
       "    <tr>\n",
       "      <th>1</th>\n",
       "      <td>NaN</td>\n",
       "      <td>-2150.0</td>\n",
       "      <td>NaN</td>\n",
       "      <td>NaN</td>\n",
       "      <td>NaN</td>\n",
       "      <td>NaN</td>\n",
       "      <td>0.0</td>\n",
       "      <td>NaN</td>\n",
       "      <td>NaN</td>\n",
       "      <td>JORDAN</td>\n",
       "      <td>...</td>\n",
       "      <td>NaN</td>\n",
       "      <td>NaN</td>\n",
       "      <td>NaN</td>\n",
       "      <td>NaN</td>\n",
       "      <td>NaN</td>\n",
       "      <td>NaN</td>\n",
       "      <td>NaN</td>\n",
       "      <td>NaN</td>\n",
       "      <td>NaN</td>\n",
       "      <td>NaN</td>\n",
       "    </tr>\n",
       "    <tr>\n",
       "      <th>2</th>\n",
       "      <td>NaN</td>\n",
       "      <td>-2000.0</td>\n",
       "      <td>NaN</td>\n",
       "      <td>NaN</td>\n",
       "      <td>NaN</td>\n",
       "      <td>NaN</td>\n",
       "      <td>NaN</td>\n",
       "      <td>1.0</td>\n",
       "      <td>NaN</td>\n",
       "      <td>SYRIA</td>\n",
       "      <td>...</td>\n",
       "      <td>NaN</td>\n",
       "      <td>NaN</td>\n",
       "      <td>NaN</td>\n",
       "      <td>NaN</td>\n",
       "      <td>NaN</td>\n",
       "      <td>NaN</td>\n",
       "      <td>NaN</td>\n",
       "      <td>NaN</td>\n",
       "      <td>NaN</td>\n",
       "      <td>NaN</td>\n",
       "    </tr>\n",
       "    <tr>\n",
       "      <th>3</th>\n",
       "      <td>NaN</td>\n",
       "      <td>-2000.0</td>\n",
       "      <td>NaN</td>\n",
       "      <td>NaN</td>\n",
       "      <td>NaN</td>\n",
       "      <td>NaN</td>\n",
       "      <td>NaN</td>\n",
       "      <td>NaN</td>\n",
       "      <td>NaN</td>\n",
       "      <td>TURKMENISTAN</td>\n",
       "      <td>...</td>\n",
       "      <td>NaN</td>\n",
       "      <td>NaN</td>\n",
       "      <td>NaN</td>\n",
       "      <td>NaN</td>\n",
       "      <td>NaN</td>\n",
       "      <td>1.0</td>\n",
       "      <td>NaN</td>\n",
       "      <td>1.0</td>\n",
       "      <td>NaN</td>\n",
       "      <td>NaN</td>\n",
       "    </tr>\n",
       "    <tr>\n",
       "      <th>4</th>\n",
       "      <td>NaN</td>\n",
       "      <td>-1610.0</td>\n",
       "      <td>NaN</td>\n",
       "      <td>NaN</td>\n",
       "      <td>NaN</td>\n",
       "      <td>NaN</td>\n",
       "      <td>NaN</td>\n",
       "      <td>3.0</td>\n",
       "      <td>1351.0</td>\n",
       "      <td>GREECE</td>\n",
       "      <td>...</td>\n",
       "      <td>NaN</td>\n",
       "      <td>NaN</td>\n",
       "      <td>NaN</td>\n",
       "      <td>NaN</td>\n",
       "      <td>NaN</td>\n",
       "      <td>3.0</td>\n",
       "      <td>NaN</td>\n",
       "      <td>NaN</td>\n",
       "      <td>NaN</td>\n",
       "      <td>NaN</td>\n",
       "    </tr>\n",
       "  </tbody>\n",
       "</table>\n",
       "<p>5 rows × 48 columns</p>\n",
       "</div>"
      ],
      "text/plain": [
       "  Search Parameters    Year  Mo  Dy  Hr  Mn  Sec  Tsu     Vol       Country  \\\n",
       "0                []     NaN NaN NaN NaN NaN  NaN  NaN     NaN           NaN   \n",
       "1               NaN -2150.0 NaN NaN NaN NaN  0.0  NaN     NaN        JORDAN   \n",
       "2               NaN -2000.0 NaN NaN NaN NaN  NaN  1.0     NaN         SYRIA   \n",
       "3               NaN -2000.0 NaN NaN NaN NaN  NaN  NaN     NaN  TURKMENISTAN   \n",
       "4               NaN -1610.0 NaN NaN NaN NaN  NaN  3.0  1351.0        GREECE   \n",
       "\n",
       "   ... Total Missing  Total Missing Description Total Injuries  \\\n",
       "0  ...           NaN                        NaN            NaN   \n",
       "1  ...           NaN                        NaN            NaN   \n",
       "2  ...           NaN                        NaN            NaN   \n",
       "3  ...           NaN                        NaN            NaN   \n",
       "4  ...           NaN                        NaN            NaN   \n",
       "\n",
       "   Total Injuries Description  Total Damage ($Mil)  Total Damage Description  \\\n",
       "0                         NaN                  NaN                       NaN   \n",
       "1                         NaN                  NaN                       NaN   \n",
       "2                         NaN                  NaN                       NaN   \n",
       "3                         NaN                  NaN                       1.0   \n",
       "4                         NaN                  NaN                       3.0   \n",
       "\n",
       "   Total Houses Destroyed  Total Houses Destroyed Description  \\\n",
       "0                     NaN                                 NaN   \n",
       "1                     NaN                                 NaN   \n",
       "2                     NaN                                 NaN   \n",
       "3                     NaN                                 1.0   \n",
       "4                     NaN                                 NaN   \n",
       "\n",
       "   Total Houses Damaged  Total Houses Damaged Description  \n",
       "0                   NaN                               NaN  \n",
       "1                   NaN                               NaN  \n",
       "2                   NaN                               NaN  \n",
       "3                   NaN                               NaN  \n",
       "4                   NaN                               NaN  \n",
       "\n",
       "[5 rows x 48 columns]"
      ]
     },
     "execution_count": 4,
     "metadata": {},
     "output_type": "execute_result"
    }
   ],
   "source": [
    "ds.head()"
   ]
  },
  {
   "cell_type": "code",
   "execution_count": 5,
   "metadata": {
    "ExecuteTime": {
     "end_time": "2021-10-16T07:38:49.368593Z",
     "start_time": "2021-10-16T07:38:49.333324Z"
    }
   },
   "outputs": [
    {
     "data": {
      "text/plain": [
       "Country\n",
       "CHINA                               2074900.0\n",
       "TURKEY                              1074769.0\n",
       "IRAN                                1011437.0\n",
       "SYRIA                                439224.0\n",
       "ITALY                                434863.0\n",
       "                                      ...    \n",
       "PALAU                                     0.0\n",
       "SAINT VINCENT AND THE GRENADINES          0.0\n",
       "SAMOA                                     0.0\n",
       "SAUDI ARABIA                              0.0\n",
       "ZAMBIA                                    0.0\n",
       "Name: Deaths, Length: 156, dtype: float64"
      ]
     },
     "execution_count": 5,
     "metadata": {},
     "output_type": "execute_result"
    }
   ],
   "source": [
    "country_group = ds.groupby(by='Country').sum()\n",
    "country_group.sort_values(by='Deaths',na_position='last',ascending=False)['Deaths']"
   ]
  },
  {
   "cell_type": "markdown",
   "metadata": {},
   "source": [
    "## Total earthquakes (m>6)\n",
    "Compute the total number of earthquakes with magnitude larger than 6.0 (use column Mag as the magnitude) worldwide each year, and then plot the time series. Do you observe any trend? Explain why or why not?"
   ]
  },
  {
   "cell_type": "code",
   "execution_count": 11,
   "metadata": {
    "ExecuteTime": {
     "end_time": "2021-10-16T07:40:12.830541Z",
     "start_time": "2021-10-16T07:40:12.802342Z"
    }
   },
   "outputs": [
    {
     "data": {
      "text/html": [
       "<div>\n",
       "<style scoped>\n",
       "    .dataframe tbody tr th:only-of-type {\n",
       "        vertical-align: middle;\n",
       "    }\n",
       "\n",
       "    .dataframe tbody tr th {\n",
       "        vertical-align: top;\n",
       "    }\n",
       "\n",
       "    .dataframe thead th {\n",
       "        text-align: right;\n",
       "    }\n",
       "</style>\n",
       "<table border=\"1\" class=\"dataframe\">\n",
       "  <thead>\n",
       "    <tr style=\"text-align: right;\">\n",
       "      <th></th>\n",
       "      <th>Year</th>\n",
       "      <th>Count</th>\n",
       "    </tr>\n",
       "  </thead>\n",
       "  <tbody>\n",
       "    <tr>\n",
       "      <th>1</th>\n",
       "      <td>-2150.0</td>\n",
       "      <td>1.0</td>\n",
       "    </tr>\n",
       "    <tr>\n",
       "      <th>3</th>\n",
       "      <td>-2000.0</td>\n",
       "      <td>1.0</td>\n",
       "    </tr>\n",
       "    <tr>\n",
       "      <th>8</th>\n",
       "      <td>-1250.0</td>\n",
       "      <td>1.0</td>\n",
       "    </tr>\n",
       "    <tr>\n",
       "      <th>9</th>\n",
       "      <td>-1050.0</td>\n",
       "      <td>1.0</td>\n",
       "    </tr>\n",
       "    <tr>\n",
       "      <th>15</th>\n",
       "      <td>-479.0</td>\n",
       "      <td>1.0</td>\n",
       "    </tr>\n",
       "  </tbody>\n",
       "</table>\n",
       "</div>"
      ],
      "text/plain": [
       "      Year  Count\n",
       "1  -2150.0    1.0\n",
       "3  -2000.0    1.0\n",
       "8  -1250.0    1.0\n",
       "9  -1050.0    1.0\n",
       "15  -479.0    1.0"
      ]
     },
     "execution_count": 11,
     "metadata": {},
     "output_type": "execute_result"
    }
   ],
   "source": [
    "Earthquake_Year=pd.DataFrame({'Year':ds[ds.Mag>6].Year,'Count':np.ones(len(ds[ds.Mag>6]))})\n",
    "Earthquake_Year.head()"
   ]
  },
  {
   "cell_type": "code",
   "execution_count": 12,
   "metadata": {
    "ExecuteTime": {
     "end_time": "2021-10-16T07:40:18.417706Z",
     "start_time": "2021-10-16T07:40:18.400920Z"
    }
   },
   "outputs": [
    {
     "data": {
      "text/html": [
       "<div>\n",
       "<style scoped>\n",
       "    .dataframe tbody tr th:only-of-type {\n",
       "        vertical-align: middle;\n",
       "    }\n",
       "\n",
       "    .dataframe tbody tr th {\n",
       "        vertical-align: top;\n",
       "    }\n",
       "\n",
       "    .dataframe thead th {\n",
       "        text-align: right;\n",
       "    }\n",
       "</style>\n",
       "<table border=\"1\" class=\"dataframe\">\n",
       "  <thead>\n",
       "    <tr style=\"text-align: right;\">\n",
       "      <th></th>\n",
       "      <th>Count</th>\n",
       "    </tr>\n",
       "    <tr>\n",
       "      <th>Year</th>\n",
       "      <th></th>\n",
       "    </tr>\n",
       "  </thead>\n",
       "  <tbody>\n",
       "    <tr>\n",
       "      <th>-2150.0</th>\n",
       "      <td>1.0</td>\n",
       "    </tr>\n",
       "    <tr>\n",
       "      <th>-2000.0</th>\n",
       "      <td>1.0</td>\n",
       "    </tr>\n",
       "    <tr>\n",
       "      <th>-1250.0</th>\n",
       "      <td>1.0</td>\n",
       "    </tr>\n",
       "    <tr>\n",
       "      <th>-1050.0</th>\n",
       "      <td>1.0</td>\n",
       "    </tr>\n",
       "    <tr>\n",
       "      <th>-479.0</th>\n",
       "      <td>1.0</td>\n",
       "    </tr>\n",
       "    <tr>\n",
       "      <th>...</th>\n",
       "      <td>...</td>\n",
       "    </tr>\n",
       "    <tr>\n",
       "      <th>2017.0</th>\n",
       "      <td>32.0</td>\n",
       "    </tr>\n",
       "    <tr>\n",
       "      <th>2018.0</th>\n",
       "      <td>27.0</td>\n",
       "    </tr>\n",
       "    <tr>\n",
       "      <th>2019.0</th>\n",
       "      <td>27.0</td>\n",
       "    </tr>\n",
       "    <tr>\n",
       "      <th>2020.0</th>\n",
       "      <td>15.0</td>\n",
       "    </tr>\n",
       "    <tr>\n",
       "      <th>2021.0</th>\n",
       "      <td>17.0</td>\n",
       "    </tr>\n",
       "  </tbody>\n",
       "</table>\n",
       "<p>530 rows × 1 columns</p>\n",
       "</div>"
      ],
      "text/plain": [
       "         Count\n",
       "Year          \n",
       "-2150.0    1.0\n",
       "-2000.0    1.0\n",
       "-1250.0    1.0\n",
       "-1050.0    1.0\n",
       "-479.0     1.0\n",
       "...        ...\n",
       " 2017.0   32.0\n",
       " 2018.0   27.0\n",
       " 2019.0   27.0\n",
       " 2020.0   15.0\n",
       " 2021.0   17.0\n",
       "\n",
       "[530 rows x 1 columns]"
      ]
     },
     "execution_count": 12,
     "metadata": {},
     "output_type": "execute_result"
    }
   ],
   "source": [
    "Earthquakes_group = Earthquake_Year.groupby(by='Year').sum()\n",
    "Earthquakes_group"
   ]
  },
  {
   "cell_type": "code",
   "execution_count": 117,
   "metadata": {
    "ExecuteTime": {
     "end_time": "2021-10-13T14:29:02.483373Z",
     "start_time": "2021-10-13T14:29:01.721429Z"
    }
   },
   "outputs": [
    {
     "data": {
      "image/png": "[encoded data removed]",
      "text/plain": [
       "<Figure size 1080x360 with 2 Axes>"
      ]
     },
     "metadata": {
      "needs_background": "light"
     },
     "output_type": "display_data"
    }
   ],
   "source": [
    "fig,ax = plt.subplots(1,2,figsize=(15,5))\n",
    "ax[0].plot(Earthquakes_group,lw=0.25)\n",
    "ax[0].set_title('Major global earthquakes (Magnitude>6.0)')\n",
    "ax[1].plot(Earthquakes_group,lw=0.5)\n",
    "ax[1].set_xlim(1500,2022)\n",
    "ax[1].set_title('Zoom in Major global earthquakes (Magnitude>6.0)')\n",
    "for a in ax:\n",
    "    a.set_xlabel('Year')\n",
    "    a.set_ylabel('Count')"
   ]
  },
  {
   "cell_type": "markdown",
   "metadata": {},
   "source": [
    "## CountEq_LargestEq\n",
    "Write a function CountEq_LargestEq that returns both (1) the total number of earthquakes since 2150 B.C. in a given country AND (2) the date of the largest earthquake ever happened in this country. Apply CountEq_LargestEq to every country in the file, report your results in a descending order."
   ]
  },
  {
   "cell_type": "code",
   "execution_count": 215,
   "metadata": {
    "ExecuteTime": {
     "end_time": "2021-10-16T10:01:15.592717Z",
     "start_time": "2021-10-16T10:01:15.573375Z"
    }
   },
   "outputs": [],
   "source": [
    "def CountEq_LargestEq():\n",
    "    country=input('Country Name (capitalize): ')\n",
    "    data=pd.DataFrame({'Year':ds.Year,\n",
    "              'Mo':ds.Mo,\n",
    "              'Dy':ds.Dy,\n",
    "              'Hr':ds.Hr,\n",
    "              'Mn':ds.Mn,\n",
    "              'Sec':ds.Sec,\n",
    "              'Mag':ds.Mag,\n",
    "              'Country':ds.Country,\n",
    "              'Count':np.ones(len(ds))})\n",
    "    data_max = data.groupby(by='Country').max()\n",
    "    data_count = data.groupby(by='Country').sum()['Count']\n",
    "    \n",
    "    Eq_max_date= 'Largest Earthquake Occurrence Date: %4d-'%data_max.loc[country][0]+'%2d-'%data_max.loc[country][1]+'%2d '%data_max.loc[country][2]+'%2d:'%data_max.loc[country][3]+'%2d:'%data_max.loc[country][4]+'%2d'%data_max.loc[country][5]\n",
    "    Eq_tot_count='Total number of earthquakes since 2150 B.C.: %s'%data_count.loc[country]\n",
    "    return Eq_max_date,Eq_tot_count"
   ]
  },
  {
   "cell_type": "code",
   "execution_count": 217,
   "metadata": {
    "ExecuteTime": {
     "end_time": "2021-10-16T10:01:28.588737Z",
     "start_time": "2021-10-16T10:01:26.739408Z"
    }
   },
   "outputs": [
    {
     "name": "stdout",
     "output_type": "stream",
     "text": [
      "Country Name (capitalize): CHINA\n"
     ]
    },
    {
     "data": {
      "text/plain": [
       "('Largest Earthquake Occurrence Date: 2021-12-31 23:59:59',\n",
       " 'Total number of earthquakes since 2150 B.C.: 610.0')"
      ]
     },
     "execution_count": 217,
     "metadata": {},
     "output_type": "execute_result"
    }
   ],
   "source": [
    "CountEq_LargestEq()"
   ]
  },
  {
   "cell_type": "code",
   "execution_count": 332,
   "metadata": {
    "ExecuteTime": {
     "end_time": "2021-10-17T08:01:44.634992Z",
     "start_time": "2021-10-17T08:01:44.616101Z"
    }
   },
   "outputs": [],
   "source": [
    "def CountEq_LargestEq():\n",
    "    #country=input('Country Name (capitalize): ')\n",
    "    data=pd.DataFrame({'Year':ds.Year,\n",
    "              'Mo':ds.Mo,\n",
    "              'Dy':ds.Dy,\n",
    "              'Hr':ds.Hr,\n",
    "              'Mn':ds.Mn,\n",
    "              'Sec':ds.Sec,\n",
    "              'Mag':ds.Mag,\n",
    "              'Country':ds.Country,\n",
    "              'Count':np.ones(len(ds))})\n",
    "    global data_max \n",
    "    data_max = data.groupby(by='Country').max()\n",
    "    global data_count \n",
    "    data_count = data.groupby(by='Country').sum()['Count']\n",
    "    ds_out=pd.merge(data_max.iloc[:,0:4],pd.DataFrame({'sum':data_count}),right_index=True,left_index=True)\n",
    "    return ds_out"
   ]
  },
  {
   "cell_type": "code",
   "execution_count": 333,
   "metadata": {
    "ExecuteTime": {
     "end_time": "2021-10-17T08:01:47.732735Z",
     "start_time": "2021-10-17T08:01:47.677246Z"
    }
   },
   "outputs": [],
   "source": [
    "All_country=CountEq_LargestEq()"
   ]
  },
  {
   "cell_type": "code",
   "execution_count": 334,
   "metadata": {
    "ExecuteTime": {
     "end_time": "2021-10-17T08:01:49.515237Z",
     "start_time": "2021-10-17T08:01:49.495457Z"
    }
   },
   "outputs": [
    {
     "data": {
      "text/html": [
       "<div>\n",
       "<style scoped>\n",
       "    .dataframe tbody tr th:only-of-type {\n",
       "        vertical-align: middle;\n",
       "    }\n",
       "\n",
       "    .dataframe tbody tr th {\n",
       "        vertical-align: top;\n",
       "    }\n",
       "\n",
       "    .dataframe thead th {\n",
       "        text-align: right;\n",
       "    }\n",
       "</style>\n",
       "<table border=\"1\" class=\"dataframe\">\n",
       "  <thead>\n",
       "    <tr style=\"text-align: right;\">\n",
       "      <th></th>\n",
       "      <th>Year</th>\n",
       "      <th>Mo</th>\n",
       "      <th>Dy</th>\n",
       "      <th>Hr</th>\n",
       "      <th>sum</th>\n",
       "    </tr>\n",
       "    <tr>\n",
       "      <th>Country</th>\n",
       "      <th></th>\n",
       "      <th></th>\n",
       "      <th></th>\n",
       "      <th></th>\n",
       "      <th></th>\n",
       "    </tr>\n",
       "  </thead>\n",
       "  <tbody>\n",
       "    <tr>\n",
       "      <th>HAITI</th>\n",
       "      <td>2021.0</td>\n",
       "      <td>12.0</td>\n",
       "      <td>29.0</td>\n",
       "      <td>21.0</td>\n",
       "      <td>17.0</td>\n",
       "    </tr>\n",
       "    <tr>\n",
       "      <th>PAKISTAN</th>\n",
       "      <td>2021.0</td>\n",
       "      <td>12.0</td>\n",
       "      <td>30.0</td>\n",
       "      <td>23.0</td>\n",
       "      <td>53.0</td>\n",
       "    </tr>\n",
       "    <tr>\n",
       "      <th>PERU</th>\n",
       "      <td>2021.0</td>\n",
       "      <td>12.0</td>\n",
       "      <td>31.0</td>\n",
       "      <td>23.0</td>\n",
       "      <td>185.0</td>\n",
       "    </tr>\n",
       "    <tr>\n",
       "      <th>PHILIPPINES</th>\n",
       "      <td>2021.0</td>\n",
       "      <td>12.0</td>\n",
       "      <td>31.0</td>\n",
       "      <td>23.0</td>\n",
       "      <td>221.0</td>\n",
       "    </tr>\n",
       "    <tr>\n",
       "      <th>CHINA</th>\n",
       "      <td>2021.0</td>\n",
       "      <td>12.0</td>\n",
       "      <td>31.0</td>\n",
       "      <td>23.0</td>\n",
       "      <td>610.0</td>\n",
       "    </tr>\n",
       "    <tr>\n",
       "      <th>...</th>\n",
       "      <td>...</td>\n",
       "      <td>...</td>\n",
       "      <td>...</td>\n",
       "      <td>...</td>\n",
       "      <td>...</td>\n",
       "    </tr>\n",
       "    <tr>\n",
       "      <th>NORWAY</th>\n",
       "      <td>1819.0</td>\n",
       "      <td>8.0</td>\n",
       "      <td>31.0</td>\n",
       "      <td>NaN</td>\n",
       "      <td>1.0</td>\n",
       "    </tr>\n",
       "    <tr>\n",
       "      <th>CANARY ISLANDS</th>\n",
       "      <td>1810.0</td>\n",
       "      <td>3.0</td>\n",
       "      <td>20.0</td>\n",
       "      <td>NaN</td>\n",
       "      <td>2.0</td>\n",
       "    </tr>\n",
       "    <tr>\n",
       "      <th>SIERRA LEONE</th>\n",
       "      <td>1795.0</td>\n",
       "      <td>5.0</td>\n",
       "      <td>20.0</td>\n",
       "      <td>22.0</td>\n",
       "      <td>1.0</td>\n",
       "    </tr>\n",
       "    <tr>\n",
       "      <th>NORTH KOREA</th>\n",
       "      <td>1727.0</td>\n",
       "      <td>8.0</td>\n",
       "      <td>31.0</td>\n",
       "      <td>NaN</td>\n",
       "      <td>6.0</td>\n",
       "    </tr>\n",
       "    <tr>\n",
       "      <th>IRELAND</th>\n",
       "      <td>1490.0</td>\n",
       "      <td>NaN</td>\n",
       "      <td>NaN</td>\n",
       "      <td>NaN</td>\n",
       "      <td>1.0</td>\n",
       "    </tr>\n",
       "  </tbody>\n",
       "</table>\n",
       "<p>156 rows × 5 columns</p>\n",
       "</div>"
      ],
      "text/plain": [
       "                  Year    Mo    Dy    Hr    sum\n",
       "Country                                        \n",
       "HAITI           2021.0  12.0  29.0  21.0   17.0\n",
       "PAKISTAN        2021.0  12.0  30.0  23.0   53.0\n",
       "PERU            2021.0  12.0  31.0  23.0  185.0\n",
       "PHILIPPINES     2021.0  12.0  31.0  23.0  221.0\n",
       "CHINA           2021.0  12.0  31.0  23.0  610.0\n",
       "...                ...   ...   ...   ...    ...\n",
       "NORWAY          1819.0   8.0  31.0   NaN    1.0\n",
       "CANARY ISLANDS  1810.0   3.0  20.0   NaN    2.0\n",
       "SIERRA LEONE    1795.0   5.0  20.0  22.0    1.0\n",
       "NORTH KOREA     1727.0   8.0  31.0   NaN    6.0\n",
       "IRELAND         1490.0   NaN   NaN   NaN    1.0\n",
       "\n",
       "[156 rows x 5 columns]"
      ]
     },
     "execution_count": 334,
     "metadata": {},
     "output_type": "execute_result"
    }
   ],
   "source": [
    "All_country.sort_values(by='Year',na_position='last',ascending=False)"
   ]
  },
  {
   "cell_type": "markdown",
   "metadata": {},
   "source": [
    "## A failed attempt: pd.to_datetime error"
   ]
  },
  {
   "cell_type": "markdown",
   "metadata": {},
   "source": [
    "**For example,**"
   ]
  },
  {
   "cell_type": "code",
   "execution_count": 370,
   "metadata": {
    "ExecuteTime": {
     "end_time": "2021-10-17T08:22:20.841681Z",
     "start_time": "2021-10-17T08:22:20.833777Z"
    }
   },
   "outputs": [
    {
     "data": {
      "text/plain": [
       "Year    2018.0\n",
       "Mo        12.0\n",
       "Dy        31.0\n",
       "Name: AFGHANISTAN, dtype: float64"
      ]
     },
     "execution_count": 370,
     "metadata": {},
     "output_type": "execute_result"
    }
   ],
   "source": [
    "All_country.iloc[0,:3]"
   ]
  },
  {
   "cell_type": "code",
   "execution_count": 371,
   "metadata": {
    "ExecuteTime": {
     "end_time": "2021-10-17T08:22:21.188306Z",
     "start_time": "2021-10-17T08:22:21.180664Z"
    }
   },
   "outputs": [],
   "source": [
    "dt=''\n",
    "for dt_i in All_country.iloc[0,:3]:\n",
    "    dt+=str(int(dt_i))"
   ]
  },
  {
   "cell_type": "code",
   "execution_count": 372,
   "metadata": {
    "ExecuteTime": {
     "end_time": "2021-10-17T08:22:21.538479Z",
     "start_time": "2021-10-17T08:22:21.528610Z"
    }
   },
   "outputs": [
    {
     "data": {
      "text/plain": [
       "Timestamp('2018-12-31 00:00:00')"
      ]
     },
     "execution_count": 372,
     "metadata": {},
     "output_type": "execute_result"
    }
   ],
   "source": [
    "pd.to_datetime(dt)"
   ]
  },
  {
   "cell_type": "markdown",
   "metadata": {},
   "source": [
    "**Changing time to datetime usually simplifies the data analysis**"
   ]
  },
  {
   "cell_type": "markdown",
   "metadata": {},
   "source": [
    "**But the method pd.to_datetime cannot be used for the entire data**"
   ]
  },
  {
   "cell_type": "code",
   "execution_count": 368,
   "metadata": {
    "ExecuteTime": {
     "end_time": "2021-10-17T08:21:07.299398Z",
     "start_time": "2021-10-17T08:21:07.229442Z"
    },
    "scrolled": true
   },
   "outputs": [
    {
     "name": "stdout",
     "output_type": "stream",
     "text": [
      "2018-12-31 00:00:00\n",
      "2019-12-30 00:00:00\n",
      "2021-12-31 00:00:00\n",
      "2021-11-25 00:00:00\n",
      "1974-10-19 00:00:00\n",
      "2021-12-28 00:00:00\n",
      "1998-12-27 00:00:00\n",
      "2008-11-29 00:00:00\n",
      "2021-12-29 00:00:00\n",
      "1998-12-25 00:00:00\n",
      "2019-11-28 00:00:00\n",
      "1998-12-31 00:00:00\n",
      "2010-12-30 00:00:00\n",
      "1831-08-11 00:00:00\n",
      "1983-11-08 00:00:00\n",
      "1991-02-21 00:00:00\n",
      "2009-12-31 00:00:00\n",
      "1998-11-29 00:00:00\n",
      "2015-11-29 00:00:00\n",
      "2012-12-30 00:00:00\n"
     ]
    },
    {
     "ename": "ValueError",
     "evalue": "time data '1880' does not match format '%Y%m' (match)",
     "output_type": "error",
     "traceback": [
      "\u001b[0;31m---------------------------------------------------------------------------\u001b[0m",
      "\u001b[0;31mTypeError\u001b[0m                                 Traceback (most recent call last)",
      "\u001b[0;32m~/anaconda3/lib/python3.7/site-packages/pandas/core/tools/datetimes.py\u001b[0m in \u001b[0;36m_convert_listlike_datetimes\u001b[0;34m(arg, format, name, tz, unit, errors, infer_datetime_format, dayfirst, yearfirst, exact)\u001b[0m\n\u001b[1;32m    431\u001b[0m             \u001b[0;32mtry\u001b[0m\u001b[0;34m:\u001b[0m\u001b[0;34m\u001b[0m\u001b[0;34m\u001b[0m\u001b[0m\n\u001b[0;32m--> 432\u001b[0;31m                 \u001b[0mvalues\u001b[0m\u001b[0;34m,\u001b[0m \u001b[0mtz\u001b[0m \u001b[0;34m=\u001b[0m \u001b[0mconversion\u001b[0m\u001b[0;34m.\u001b[0m\u001b[0mdatetime_to_datetime64\u001b[0m\u001b[0;34m(\u001b[0m\u001b[0marg\u001b[0m\u001b[0;34m)\u001b[0m\u001b[0;34m\u001b[0m\u001b[0;34m\u001b[0m\u001b[0m\n\u001b[0m\u001b[1;32m    433\u001b[0m                 \u001b[0;32mreturn\u001b[0m \u001b[0mDatetimeIndex\u001b[0m\u001b[0;34m.\u001b[0m\u001b[0m_simple_new\u001b[0m\u001b[0;34m(\u001b[0m\u001b[0mvalues\u001b[0m\u001b[0;34m,\u001b[0m \u001b[0mname\u001b[0m\u001b[0;34m=\u001b[0m\u001b[0mname\u001b[0m\u001b[0;34m,\u001b[0m \u001b[0mtz\u001b[0m\u001b[0;34m=\u001b[0m\u001b[0mtz\u001b[0m\u001b[0;34m)\u001b[0m\u001b[0;34m\u001b[0m\u001b[0;34m\u001b[0m\u001b[0m\n",
      "\u001b[0;32mpandas/_libs/tslibs/conversion.pyx\u001b[0m in \u001b[0;36mpandas._libs.tslibs.conversion.datetime_to_datetime64\u001b[0;34m()\u001b[0m\n",
      "\u001b[0;31mTypeError\u001b[0m: Unrecognized value type: <class 'int'>",
      "\nDuring handling of the above exception, another exception occurred:\n",
      "\u001b[0;31mValueError\u001b[0m                                Traceback (most recent call last)",
      "\u001b[0;32m<ipython-input-368-a4fd3c9b3d51>\u001b[0m in \u001b[0;36m<module>\u001b[0;34m\u001b[0m\n\u001b[1;32m     11\u001b[0m         \u001b[0;32mif\u001b[0m \u001b[0;34m(\u001b[0m\u001b[0mnp\u001b[0m\u001b[0;34m.\u001b[0m\u001b[0margwhere\u001b[0m\u001b[0;34m(\u001b[0m\u001b[0mnp\u001b[0m\u001b[0;34m.\u001b[0m\u001b[0misnan\u001b[0m\u001b[0;34m(\u001b[0m\u001b[0mdt_i\u001b[0m\u001b[0;34m)\u001b[0m\u001b[0;34m)\u001b[0m\u001b[0;34m==\u001b[0m\u001b[0;36m2\u001b[0m\u001b[0;34m)\u001b[0m\u001b[0;34m:\u001b[0m\u001b[0;34m\u001b[0m\u001b[0;34m\u001b[0m\u001b[0m\n\u001b[1;32m     12\u001b[0m             \u001b[0mdt\u001b[0m\u001b[0;34m=\u001b[0m\u001b[0mdt_i\u001b[0m\u001b[0;34m[\u001b[0m\u001b[0;36m0\u001b[0m\u001b[0;34m]\u001b[0m\u001b[0;34m+\u001b[0m\u001b[0mdt_i\u001b[0m\u001b[0;34m[\u001b[0m\u001b[0;36m1\u001b[0m\u001b[0;34m]\u001b[0m\u001b[0;34m\u001b[0m\u001b[0;34m\u001b[0m\u001b[0m\n\u001b[0;32m---> 13\u001b[0;31m             \u001b[0mdtime\u001b[0m\u001b[0;34m.\u001b[0m\u001b[0mappend\u001b[0m\u001b[0;34m(\u001b[0m\u001b[0mpd\u001b[0m\u001b[0;34m.\u001b[0m\u001b[0mto_datetime\u001b[0m\u001b[0;34m(\u001b[0m\u001b[0mdt\u001b[0m\u001b[0;34m,\u001b[0m\u001b[0mformat\u001b[0m\u001b[0;34m=\u001b[0m\u001b[0;34m'%Y%m'\u001b[0m\u001b[0;34m)\u001b[0m\u001b[0;34m)\u001b[0m\u001b[0;34m\u001b[0m\u001b[0;34m\u001b[0m\u001b[0m\n\u001b[0m\u001b[1;32m     14\u001b[0m     \u001b[0;32melse\u001b[0m\u001b[0;34m:\u001b[0m\u001b[0;34m\u001b[0m\u001b[0;34m\u001b[0m\u001b[0m\n\u001b[1;32m     15\u001b[0m         \u001b[0;32mfor\u001b[0m \u001b[0mm\u001b[0m \u001b[0;32min\u001b[0m \u001b[0mdt_i\u001b[0m\u001b[0;34m:\u001b[0m\u001b[0;34m\u001b[0m\u001b[0;34m\u001b[0m\u001b[0m\n",
      "\u001b[0;32m~/anaconda3/lib/python3.7/site-packages/pandas/core/tools/datetimes.py\u001b[0m in \u001b[0;36mto_datetime\u001b[0;34m(arg, errors, dayfirst, yearfirst, utc, format, exact, unit, infer_datetime_format, origin, cache)\u001b[0m\n\u001b[1;32m    754\u001b[0m             \u001b[0mresult\u001b[0m \u001b[0;34m=\u001b[0m \u001b[0mconvert_listlike\u001b[0m\u001b[0;34m(\u001b[0m\u001b[0marg\u001b[0m\u001b[0;34m,\u001b[0m \u001b[0mformat\u001b[0m\u001b[0;34m)\u001b[0m\u001b[0;34m\u001b[0m\u001b[0;34m\u001b[0m\u001b[0m\n\u001b[1;32m    755\u001b[0m     \u001b[0;32melse\u001b[0m\u001b[0;34m:\u001b[0m\u001b[0;34m\u001b[0m\u001b[0;34m\u001b[0m\u001b[0m\n\u001b[0;32m--> 756\u001b[0;31m         \u001b[0mresult\u001b[0m \u001b[0;34m=\u001b[0m \u001b[0mconvert_listlike\u001b[0m\u001b[0;34m(\u001b[0m\u001b[0mnp\u001b[0m\u001b[0;34m.\u001b[0m\u001b[0marray\u001b[0m\u001b[0;34m(\u001b[0m\u001b[0;34m[\u001b[0m\u001b[0marg\u001b[0m\u001b[0;34m]\u001b[0m\u001b[0;34m)\u001b[0m\u001b[0;34m,\u001b[0m \u001b[0mformat\u001b[0m\u001b[0;34m)\u001b[0m\u001b[0;34m[\u001b[0m\u001b[0;36m0\u001b[0m\u001b[0;34m]\u001b[0m\u001b[0;34m\u001b[0m\u001b[0;34m\u001b[0m\u001b[0m\n\u001b[0m\u001b[1;32m    757\u001b[0m \u001b[0;34m\u001b[0m\u001b[0m\n\u001b[1;32m    758\u001b[0m     \u001b[0;32mreturn\u001b[0m \u001b[0mresult\u001b[0m\u001b[0;34m\u001b[0m\u001b[0;34m\u001b[0m\u001b[0m\n",
      "\u001b[0;32m~/anaconda3/lib/python3.7/site-packages/pandas/core/tools/datetimes.py\u001b[0m in \u001b[0;36m_convert_listlike_datetimes\u001b[0;34m(arg, format, name, tz, unit, errors, infer_datetime_format, dayfirst, yearfirst, exact)\u001b[0m\n\u001b[1;32m    433\u001b[0m                 \u001b[0;32mreturn\u001b[0m \u001b[0mDatetimeIndex\u001b[0m\u001b[0;34m.\u001b[0m\u001b[0m_simple_new\u001b[0m\u001b[0;34m(\u001b[0m\u001b[0mvalues\u001b[0m\u001b[0;34m,\u001b[0m \u001b[0mname\u001b[0m\u001b[0;34m=\u001b[0m\u001b[0mname\u001b[0m\u001b[0;34m,\u001b[0m \u001b[0mtz\u001b[0m\u001b[0;34m=\u001b[0m\u001b[0mtz\u001b[0m\u001b[0;34m)\u001b[0m\u001b[0;34m\u001b[0m\u001b[0;34m\u001b[0m\u001b[0m\n\u001b[1;32m    434\u001b[0m             \u001b[0;32mexcept\u001b[0m \u001b[0;34m(\u001b[0m\u001b[0mValueError\u001b[0m\u001b[0;34m,\u001b[0m \u001b[0mTypeError\u001b[0m\u001b[0;34m)\u001b[0m\u001b[0;34m:\u001b[0m\u001b[0;34m\u001b[0m\u001b[0;34m\u001b[0m\u001b[0m\n\u001b[0;32m--> 435\u001b[0;31m                 \u001b[0;32mraise\u001b[0m \u001b[0me\u001b[0m\u001b[0;34m\u001b[0m\u001b[0;34m\u001b[0m\u001b[0m\n\u001b[0m\u001b[1;32m    436\u001b[0m \u001b[0;34m\u001b[0m\u001b[0m\n\u001b[1;32m    437\u001b[0m     \u001b[0;32mif\u001b[0m \u001b[0mresult\u001b[0m \u001b[0;32mis\u001b[0m \u001b[0;32mNone\u001b[0m\u001b[0;34m:\u001b[0m\u001b[0;34m\u001b[0m\u001b[0;34m\u001b[0m\u001b[0m\n",
      "\u001b[0;32m~/anaconda3/lib/python3.7/site-packages/pandas/core/tools/datetimes.py\u001b[0m in \u001b[0;36m_convert_listlike_datetimes\u001b[0;34m(arg, format, name, tz, unit, errors, infer_datetime_format, dayfirst, yearfirst, exact)\u001b[0m\n\u001b[1;32m    398\u001b[0m                 \u001b[0;32mtry\u001b[0m\u001b[0;34m:\u001b[0m\u001b[0;34m\u001b[0m\u001b[0;34m\u001b[0m\u001b[0m\n\u001b[1;32m    399\u001b[0m                     result, timezones = array_strptime(\n\u001b[0;32m--> 400\u001b[0;31m                         \u001b[0marg\u001b[0m\u001b[0;34m,\u001b[0m \u001b[0mformat\u001b[0m\u001b[0;34m,\u001b[0m \u001b[0mexact\u001b[0m\u001b[0;34m=\u001b[0m\u001b[0mexact\u001b[0m\u001b[0;34m,\u001b[0m \u001b[0merrors\u001b[0m\u001b[0;34m=\u001b[0m\u001b[0merrors\u001b[0m\u001b[0;34m\u001b[0m\u001b[0;34m\u001b[0m\u001b[0m\n\u001b[0m\u001b[1;32m    401\u001b[0m                     )\n\u001b[1;32m    402\u001b[0m                     \u001b[0;32mif\u001b[0m \u001b[0;34m\"%Z\"\u001b[0m \u001b[0;32min\u001b[0m \u001b[0mformat\u001b[0m \u001b[0;32mor\u001b[0m \u001b[0;34m\"%z\"\u001b[0m \u001b[0;32min\u001b[0m \u001b[0mformat\u001b[0m\u001b[0;34m:\u001b[0m\u001b[0;34m\u001b[0m\u001b[0;34m\u001b[0m\u001b[0m\n",
      "\u001b[0;32mpandas/_libs/tslibs/strptime.pyx\u001b[0m in \u001b[0;36mpandas._libs.tslibs.strptime.array_strptime\u001b[0;34m()\u001b[0m\n",
      "\u001b[0;31mValueError\u001b[0m: time data '1880' does not match format '%Y%m' (match)"
     ]
    }
   ],
   "source": [
    "dtime=[]    \n",
    "for i in range(len(data_max)):\n",
    "    dt=''\n",
    "    dt_i = data_max.iloc[i,:3].ravel()\n",
    "    if (np.isnan(dt_i).any()==True):\n",
    "        if (np.argwhere(np.isnan(dt_i))==0):\n",
    "            dt=np.nan\n",
    "        if (np.argwhere(np.isnan(dt_i))==1):\n",
    "            dt=dt_i[0]\n",
    "            dtime.append(pd.to_datetime(dt,format='%Y'))\n",
    "        if (np.argwhere(np.isnan(dt_i))==2):\n",
    "            dt=dt_i[0]+dt_i[1]\n",
    "            dtime.append(pd.to_datetime(dt,format='%Y%m'))\n",
    "    else:\n",
    "        for m in dt_i:\n",
    "            dt+=str(int(m))\n",
    "        dtime.append(pd.to_datetime(dt,format='%Y%m%d'))\n",
    "    print(dtime[i])"
   ]
  },
  {
   "cell_type": "markdown",
   "metadata": {},
   "source": [
    "**ERROR** Here we actually get the Out of bounds error, because the method pd.to_datetime(args**),for \"origin='unix'\", the time origin is set to 1970-01-01"
   ]
  },
  {
   "cell_type": "markdown",
   "metadata": {},
   "source": [
    "# Wind speed in Shenzhen during the past 10 years"
   ]
  },
  {
   "cell_type": "code",
   "execution_count": 839,
   "metadata": {
    "ExecuteTime": {
     "end_time": "2021-10-18T09:04:39.332041Z",
     "start_time": "2021-10-18T09:04:38.578069Z"
    }
   },
   "outputs": [
    {
     "name": "stderr",
     "output_type": "stream",
     "text": [
      "/home/andrea/anaconda3/lib/python3.7/site-packages/IPython/core/interactiveshell.py:3063: DtypeWarning: Columns (4,8,9,12,15,21,22,24,26,31,33,34) have mixed types.Specify dtype option on import or set low_memory=False.\n",
      "  interactivity=interactivity, compiler=compiler, result=result)\n"
     ]
    }
   ],
   "source": [
    "# Read .tsv data using pd.read_csv\n",
    "ds = pd.read_csv('Data/PS2/2281305.csv')"
   ]
  },
  {
   "cell_type": "code",
   "execution_count": 840,
   "metadata": {
    "ExecuteTime": {
     "end_time": "2021-10-18T09:04:41.315165Z",
     "start_time": "2021-10-18T09:04:41.280696Z"
    }
   },
   "outputs": [
    {
     "data": {
      "text/html": [
       "<div>\n",
       "<style scoped>\n",
       "    .dataframe tbody tr th:only-of-type {\n",
       "        vertical-align: middle;\n",
       "    }\n",
       "\n",
       "    .dataframe tbody tr th {\n",
       "        vertical-align: top;\n",
       "    }\n",
       "\n",
       "    .dataframe thead th {\n",
       "        text-align: right;\n",
       "    }\n",
       "</style>\n",
       "<table border=\"1\" class=\"dataframe\">\n",
       "  <thead>\n",
       "    <tr style=\"text-align: right;\">\n",
       "      <th></th>\n",
       "      <th>STATION</th>\n",
       "      <th>DATE</th>\n",
       "      <th>SOURCE</th>\n",
       "      <th>REPORT_TYPE</th>\n",
       "      <th>CALL_SIGN</th>\n",
       "      <th>QUALITY_CONTROL</th>\n",
       "      <th>AA1</th>\n",
       "      <th>AA2</th>\n",
       "      <th>AA3</th>\n",
       "      <th>AJ1</th>\n",
       "      <th>...</th>\n",
       "      <th>OD1</th>\n",
       "      <th>OD2</th>\n",
       "      <th>QUALITY_CONTROL.1</th>\n",
       "      <th>REM</th>\n",
       "      <th>REPORT_TYPE.1</th>\n",
       "      <th>SLP</th>\n",
       "      <th>SOURCE.1</th>\n",
       "      <th>TMP</th>\n",
       "      <th>VIS</th>\n",
       "      <th>WND</th>\n",
       "    </tr>\n",
       "  </thead>\n",
       "  <tbody>\n",
       "    <tr>\n",
       "      <th>0</th>\n",
       "      <td>59493099999</td>\n",
       "      <td>2010-01-02T00:00:00</td>\n",
       "      <td>4</td>\n",
       "      <td>SY-MT</td>\n",
       "      <td>ZGSZ</td>\n",
       "      <td>V020</td>\n",
       "      <td>06,0000,2,1</td>\n",
       "      <td>24,0000,2,1</td>\n",
       "      <td>NaN</td>\n",
       "      <td>NaN</td>\n",
       "      <td>...</td>\n",
       "      <td>NaN</td>\n",
       "      <td>NaN</td>\n",
       "      <td>V020</td>\n",
       "      <td>SYN088AAXX  02001 59493 11740 80402 10161 2013...</td>\n",
       "      <td>SY-MT</td>\n",
       "      <td>10161,1</td>\n",
       "      <td>4</td>\n",
       "      <td>+0161,1</td>\n",
       "      <td>004000,1,N,1</td>\n",
       "      <td>040,1,N,0020,1</td>\n",
       "    </tr>\n",
       "    <tr>\n",
       "      <th>1</th>\n",
       "      <td>59493099999</td>\n",
       "      <td>2010-01-02T01:00:00</td>\n",
       "      <td>4</td>\n",
       "      <td>FM-15</td>\n",
       "      <td>ZGSZ</td>\n",
       "      <td>V020</td>\n",
       "      <td>NaN</td>\n",
       "      <td>NaN</td>\n",
       "      <td>NaN</td>\n",
       "      <td>NaN</td>\n",
       "      <td>...</td>\n",
       "      <td>NaN</td>\n",
       "      <td>NaN</td>\n",
       "      <td>V020</td>\n",
       "      <td>MET068METAR ZGSZ 020100Z VRB01MPS 2600 BR FEW0...</td>\n",
       "      <td>FM-15</td>\n",
       "      <td>99999,9</td>\n",
       "      <td>4</td>\n",
       "      <td>+0170,1</td>\n",
       "      <td>002600,1,N,1</td>\n",
       "      <td>999,9,V,0010,1</td>\n",
       "    </tr>\n",
       "    <tr>\n",
       "      <th>2</th>\n",
       "      <td>59493099999</td>\n",
       "      <td>2010-01-02T02:00:00</td>\n",
       "      <td>4</td>\n",
       "      <td>FM-15</td>\n",
       "      <td>ZGSZ</td>\n",
       "      <td>V020</td>\n",
       "      <td>NaN</td>\n",
       "      <td>NaN</td>\n",
       "      <td>NaN</td>\n",
       "      <td>NaN</td>\n",
       "      <td>...</td>\n",
       "      <td>NaN</td>\n",
       "      <td>NaN</td>\n",
       "      <td>V020</td>\n",
       "      <td>MET068METAR ZGSZ 020200Z 00000MPS 2600 BR FEW0...</td>\n",
       "      <td>FM-15</td>\n",
       "      <td>99999,9</td>\n",
       "      <td>4</td>\n",
       "      <td>+0180,1</td>\n",
       "      <td>002600,1,N,1</td>\n",
       "      <td>999,9,C,0000,1</td>\n",
       "    </tr>\n",
       "    <tr>\n",
       "      <th>3</th>\n",
       "      <td>59493099999</td>\n",
       "      <td>2010-01-02T03:00:00</td>\n",
       "      <td>4</td>\n",
       "      <td>SY-MT</td>\n",
       "      <td>ZGSZ</td>\n",
       "      <td>V020</td>\n",
       "      <td>NaN</td>\n",
       "      <td>NaN</td>\n",
       "      <td>NaN</td>\n",
       "      <td>NaN</td>\n",
       "      <td>...</td>\n",
       "      <td>NaN</td>\n",
       "      <td>NaN</td>\n",
       "      <td>V020</td>\n",
       "      <td>SYN066AAXX  02031 59493 41750 81401 10192 2014...</td>\n",
       "      <td>SY-MT</td>\n",
       "      <td>10169,1</td>\n",
       "      <td>4</td>\n",
       "      <td>+0192,1</td>\n",
       "      <td>005000,1,N,1</td>\n",
       "      <td>140,1,N,0010,1</td>\n",
       "    </tr>\n",
       "    <tr>\n",
       "      <th>4</th>\n",
       "      <td>59493099999</td>\n",
       "      <td>2010-01-02T04:00:00</td>\n",
       "      <td>4</td>\n",
       "      <td>FM-15</td>\n",
       "      <td>ZGSZ</td>\n",
       "      <td>V020</td>\n",
       "      <td>NaN</td>\n",
       "      <td>NaN</td>\n",
       "      <td>NaN</td>\n",
       "      <td>NaN</td>\n",
       "      <td>...</td>\n",
       "      <td>NaN</td>\n",
       "      <td>NaN</td>\n",
       "      <td>V020</td>\n",
       "      <td>MET068METAR ZGSZ 020400Z 30004MPS 2100 BR FEW0...</td>\n",
       "      <td>FM-15</td>\n",
       "      <td>99999,9</td>\n",
       "      <td>4</td>\n",
       "      <td>+0180,1</td>\n",
       "      <td>002100,1,N,1</td>\n",
       "      <td>300,1,N,0040,1</td>\n",
       "    </tr>\n",
       "  </tbody>\n",
       "</table>\n",
       "<p>5 rows × 43 columns</p>\n",
       "</div>"
      ],
      "text/plain": [
       "       STATION                 DATE  SOURCE REPORT_TYPE CALL_SIGN  \\\n",
       "0  59493099999  2010-01-02T00:00:00       4       SY-MT     ZGSZ    \n",
       "1  59493099999  2010-01-02T01:00:00       4       FM-15     ZGSZ    \n",
       "2  59493099999  2010-01-02T02:00:00       4       FM-15     ZGSZ    \n",
       "3  59493099999  2010-01-02T03:00:00       4       SY-MT     ZGSZ    \n",
       "4  59493099999  2010-01-02T04:00:00       4       FM-15     ZGSZ    \n",
       "\n",
       "  QUALITY_CONTROL          AA1          AA2  AA3  AJ1  ...  OD1  OD2  \\\n",
       "0            V020  06,0000,2,1  24,0000,2,1  NaN  NaN  ...  NaN  NaN   \n",
       "1            V020          NaN          NaN  NaN  NaN  ...  NaN  NaN   \n",
       "2            V020          NaN          NaN  NaN  NaN  ...  NaN  NaN   \n",
       "3            V020          NaN          NaN  NaN  NaN  ...  NaN  NaN   \n",
       "4            V020          NaN          NaN  NaN  NaN  ...  NaN  NaN   \n",
       "\n",
       "  QUALITY_CONTROL.1                                                REM  \\\n",
       "0              V020  SYN088AAXX  02001 59493 11740 80402 10161 2013...   \n",
       "1              V020  MET068METAR ZGSZ 020100Z VRB01MPS 2600 BR FEW0...   \n",
       "2              V020  MET068METAR ZGSZ 020200Z 00000MPS 2600 BR FEW0...   \n",
       "3              V020  SYN066AAXX  02031 59493 41750 81401 10192 2014...   \n",
       "4              V020  MET068METAR ZGSZ 020400Z 30004MPS 2100 BR FEW0...   \n",
       "\n",
       "  REPORT_TYPE.1      SLP SOURCE.1      TMP           VIS             WND  \n",
       "0         SY-MT  10161,1        4  +0161,1  004000,1,N,1  040,1,N,0020,1  \n",
       "1         FM-15  99999,9        4  +0170,1  002600,1,N,1  999,9,V,0010,1  \n",
       "2         FM-15  99999,9        4  +0180,1  002600,1,N,1  999,9,C,0000,1  \n",
       "3         SY-MT  10169,1        4  +0192,1  005000,1,N,1  140,1,N,0010,1  \n",
       "4         FM-15  99999,9        4  +0180,1  002100,1,N,1  300,1,N,0040,1  \n",
       "\n",
       "[5 rows x 43 columns]"
      ]
     },
     "execution_count": 840,
     "metadata": {},
     "output_type": "execute_result"
    }
   ],
   "source": [
    "ds.head()"
   ]
  },
  {
   "cell_type": "markdown",
   "metadata": {},
   "source": [
    "## DATE to Datetime"
   ]
  },
  {
   "cell_type": "code",
   "execution_count": 841,
   "metadata": {
    "ExecuteTime": {
     "end_time": "2021-10-18T09:05:00.792186Z",
     "start_time": "2021-10-18T09:04:50.198090Z"
    }
   },
   "outputs": [],
   "source": [
    "DATE=ds.DATE.apply(lambda x:pd.to_datetime(x))"
   ]
  },
  {
   "cell_type": "markdown",
   "metadata": {},
   "source": [
    "## Split and merge WND"
   ]
  },
  {
   "cell_type": "code",
   "execution_count": 842,
   "metadata": {
    "ExecuteTime": {
     "end_time": "2021-10-18T09:05:00.803517Z",
     "start_time": "2021-10-18T09:05:00.794127Z"
    }
   },
   "outputs": [
    {
     "data": {
      "text/plain": [
       "0         040,1,N,0020,1\n",
       "1         999,9,V,0010,1\n",
       "2         999,9,C,0000,1\n",
       "3         140,1,N,0010,1\n",
       "4         300,1,N,0040,1\n",
       "               ...      \n",
       "111979    170,1,N,0030,1\n",
       "111980    180,1,N,0040,1\n",
       "111981    220,1,V,0030,1\n",
       "111982    260,1,N,0030,1\n",
       "111983    310,1,V,0020,1\n",
       "Name: WND, Length: 111984, dtype: object"
      ]
     },
     "execution_count": 842,
     "metadata": {},
     "output_type": "execute_result"
    }
   ],
   "source": [
    "ds.WND"
   ]
  },
  {
   "cell_type": "code",
   "execution_count": 843,
   "metadata": {
    "ExecuteTime": {
     "end_time": "2021-10-18T09:05:05.081619Z",
     "start_time": "2021-10-18T09:05:04.766119Z"
    }
   },
   "outputs": [],
   "source": [
    "dfs=[ds.WND.apply(lambda x:int(x.split(',')[0])).to_frame(name='angel'),\n",
    "ds.WND.apply(lambda x:int(x.split(',')[1])).to_frame(name='Q_A'),\n",
    "ds.WND.apply(lambda x:x.split(',')[2]).to_frame(name='Type'),\n",
    "ds.WND.apply(lambda x:float(x.split(',')[3])/10).to_frame(name='speed'),\n",
    "ds.WND.apply(lambda x:int(x.split(',')[4])).to_frame(name='Q_S')]"
   ]
  },
  {
   "cell_type": "code",
   "execution_count": 844,
   "metadata": {
    "ExecuteTime": {
     "end_time": "2021-10-18T09:05:05.489009Z",
     "start_time": "2021-10-18T09:05:05.463341Z"
    }
   },
   "outputs": [],
   "source": [
    "WND = pd.merge(DATE,dfs[0],right_index=True,left_index=True)\n",
    "for i in range(4):\n",
    "    WND = pd.merge(WND,dfs[i+1],right_index=True,left_index=True)"
   ]
  },
  {
   "cell_type": "code",
   "execution_count": 845,
   "metadata": {
    "ExecuteTime": {
     "end_time": "2021-10-18T09:05:06.691310Z",
     "start_time": "2021-10-18T09:05:06.679315Z"
    },
    "scrolled": true
   },
   "outputs": [],
   "source": [
    "WND=WND.set_index('DATE')"
   ]
  },
  {
   "cell_type": "code",
   "execution_count": 846,
   "metadata": {
    "ExecuteTime": {
     "end_time": "2021-10-18T09:05:07.209327Z",
     "start_time": "2021-10-18T09:05:07.190049Z"
    },
    "scrolled": true
   },
   "outputs": [
    {
     "data": {
      "text/html": [
       "<div>\n",
       "<style scoped>\n",
       "    .dataframe tbody tr th:only-of-type {\n",
       "        vertical-align: middle;\n",
       "    }\n",
       "\n",
       "    .dataframe tbody tr th {\n",
       "        vertical-align: top;\n",
       "    }\n",
       "\n",
       "    .dataframe thead th {\n",
       "        text-align: right;\n",
       "    }\n",
       "</style>\n",
       "<table border=\"1\" class=\"dataframe\">\n",
       "  <thead>\n",
       "    <tr style=\"text-align: right;\">\n",
       "      <th></th>\n",
       "      <th>angel</th>\n",
       "      <th>Q_A</th>\n",
       "      <th>Type</th>\n",
       "      <th>speed</th>\n",
       "      <th>Q_S</th>\n",
       "    </tr>\n",
       "    <tr>\n",
       "      <th>DATE</th>\n",
       "      <th></th>\n",
       "      <th></th>\n",
       "      <th></th>\n",
       "      <th></th>\n",
       "      <th></th>\n",
       "    </tr>\n",
       "  </thead>\n",
       "  <tbody>\n",
       "    <tr>\n",
       "      <th>2010-01-02 00:00:00</th>\n",
       "      <td>40</td>\n",
       "      <td>1</td>\n",
       "      <td>N</td>\n",
       "      <td>2.0</td>\n",
       "      <td>1</td>\n",
       "    </tr>\n",
       "    <tr>\n",
       "      <th>2010-01-02 01:00:00</th>\n",
       "      <td>999</td>\n",
       "      <td>9</td>\n",
       "      <td>V</td>\n",
       "      <td>1.0</td>\n",
       "      <td>1</td>\n",
       "    </tr>\n",
       "    <tr>\n",
       "      <th>2010-01-02 02:00:00</th>\n",
       "      <td>999</td>\n",
       "      <td>9</td>\n",
       "      <td>C</td>\n",
       "      <td>0.0</td>\n",
       "      <td>1</td>\n",
       "    </tr>\n",
       "    <tr>\n",
       "      <th>2010-01-02 03:00:00</th>\n",
       "      <td>140</td>\n",
       "      <td>1</td>\n",
       "      <td>N</td>\n",
       "      <td>1.0</td>\n",
       "      <td>1</td>\n",
       "    </tr>\n",
       "    <tr>\n",
       "      <th>2010-01-02 04:00:00</th>\n",
       "      <td>300</td>\n",
       "      <td>1</td>\n",
       "      <td>N</td>\n",
       "      <td>4.0</td>\n",
       "      <td>1</td>\n",
       "    </tr>\n",
       "    <tr>\n",
       "      <th>...</th>\n",
       "      <td>...</td>\n",
       "      <td>...</td>\n",
       "      <td>...</td>\n",
       "      <td>...</td>\n",
       "      <td>...</td>\n",
       "    </tr>\n",
       "    <tr>\n",
       "      <th>2020-09-11 17:00:00</th>\n",
       "      <td>170</td>\n",
       "      <td>1</td>\n",
       "      <td>N</td>\n",
       "      <td>3.0</td>\n",
       "      <td>1</td>\n",
       "    </tr>\n",
       "    <tr>\n",
       "      <th>2020-09-11 18:00:00</th>\n",
       "      <td>180</td>\n",
       "      <td>1</td>\n",
       "      <td>N</td>\n",
       "      <td>4.0</td>\n",
       "      <td>1</td>\n",
       "    </tr>\n",
       "    <tr>\n",
       "      <th>2020-09-11 19:00:00</th>\n",
       "      <td>220</td>\n",
       "      <td>1</td>\n",
       "      <td>V</td>\n",
       "      <td>3.0</td>\n",
       "      <td>1</td>\n",
       "    </tr>\n",
       "    <tr>\n",
       "      <th>2020-09-11 20:00:00</th>\n",
       "      <td>260</td>\n",
       "      <td>1</td>\n",
       "      <td>N</td>\n",
       "      <td>3.0</td>\n",
       "      <td>1</td>\n",
       "    </tr>\n",
       "    <tr>\n",
       "      <th>2020-09-11 21:00:00</th>\n",
       "      <td>310</td>\n",
       "      <td>1</td>\n",
       "      <td>V</td>\n",
       "      <td>2.0</td>\n",
       "      <td>1</td>\n",
       "    </tr>\n",
       "  </tbody>\n",
       "</table>\n",
       "<p>111984 rows × 5 columns</p>\n",
       "</div>"
      ],
      "text/plain": [
       "                     angel  Q_A Type  speed  Q_S\n",
       "DATE                                            \n",
       "2010-01-02 00:00:00     40    1    N    2.0    1\n",
       "2010-01-02 01:00:00    999    9    V    1.0    1\n",
       "2010-01-02 02:00:00    999    9    C    0.0    1\n",
       "2010-01-02 03:00:00    140    1    N    1.0    1\n",
       "2010-01-02 04:00:00    300    1    N    4.0    1\n",
       "...                    ...  ...  ...    ...  ...\n",
       "2020-09-11 17:00:00    170    1    N    3.0    1\n",
       "2020-09-11 18:00:00    180    1    N    4.0    1\n",
       "2020-09-11 19:00:00    220    1    V    3.0    1\n",
       "2020-09-11 20:00:00    260    1    N    3.0    1\n",
       "2020-09-11 21:00:00    310    1    V    2.0    1\n",
       "\n",
       "[111984 rows x 5 columns]"
      ]
     },
     "execution_count": 846,
     "metadata": {},
     "output_type": "execute_result"
    }
   ],
   "source": [
    "WND"
   ]
  },
  {
   "cell_type": "markdown",
   "metadata": {},
   "source": [
    "## Quality check"
   ]
  },
  {
   "cell_type": "markdown",
   "metadata": {},
   "source": [
    "Q_S: quality code for WIND-OBSERVATION speed quality  \n",
    "1=Passed all quality control checks"
   ]
  },
  {
   "cell_type": "code",
   "execution_count": 847,
   "metadata": {
    "ExecuteTime": {
     "end_time": "2021-10-18T09:05:10.749317Z",
     "start_time": "2021-10-18T09:05:10.727710Z"
    },
    "scrolled": true
   },
   "outputs": [
    {
     "data": {
      "text/html": [
       "<div>\n",
       "<style scoped>\n",
       "    .dataframe tbody tr th:only-of-type {\n",
       "        vertical-align: middle;\n",
       "    }\n",
       "\n",
       "    .dataframe tbody tr th {\n",
       "        vertical-align: top;\n",
       "    }\n",
       "\n",
       "    .dataframe thead th {\n",
       "        text-align: right;\n",
       "    }\n",
       "</style>\n",
       "<table border=\"1\" class=\"dataframe\">\n",
       "  <thead>\n",
       "    <tr style=\"text-align: right;\">\n",
       "      <th></th>\n",
       "      <th>angel</th>\n",
       "      <th>Q_A</th>\n",
       "      <th>Type</th>\n",
       "      <th>speed</th>\n",
       "      <th>Q_S</th>\n",
       "    </tr>\n",
       "    <tr>\n",
       "      <th>DATE</th>\n",
       "      <th></th>\n",
       "      <th></th>\n",
       "      <th></th>\n",
       "      <th></th>\n",
       "      <th></th>\n",
       "    </tr>\n",
       "  </thead>\n",
       "  <tbody>\n",
       "    <tr>\n",
       "      <th>2010-01-02 00:00:00</th>\n",
       "      <td>40</td>\n",
       "      <td>1</td>\n",
       "      <td>N</td>\n",
       "      <td>2.0</td>\n",
       "      <td>1</td>\n",
       "    </tr>\n",
       "    <tr>\n",
       "      <th>2010-01-02 01:00:00</th>\n",
       "      <td>999</td>\n",
       "      <td>9</td>\n",
       "      <td>V</td>\n",
       "      <td>1.0</td>\n",
       "      <td>1</td>\n",
       "    </tr>\n",
       "    <tr>\n",
       "      <th>2010-01-02 02:00:00</th>\n",
       "      <td>999</td>\n",
       "      <td>9</td>\n",
       "      <td>C</td>\n",
       "      <td>0.0</td>\n",
       "      <td>1</td>\n",
       "    </tr>\n",
       "    <tr>\n",
       "      <th>2010-01-02 03:00:00</th>\n",
       "      <td>140</td>\n",
       "      <td>1</td>\n",
       "      <td>N</td>\n",
       "      <td>1.0</td>\n",
       "      <td>1</td>\n",
       "    </tr>\n",
       "    <tr>\n",
       "      <th>2010-01-02 04:00:00</th>\n",
       "      <td>300</td>\n",
       "      <td>1</td>\n",
       "      <td>N</td>\n",
       "      <td>4.0</td>\n",
       "      <td>1</td>\n",
       "    </tr>\n",
       "    <tr>\n",
       "      <th>...</th>\n",
       "      <td>...</td>\n",
       "      <td>...</td>\n",
       "      <td>...</td>\n",
       "      <td>...</td>\n",
       "      <td>...</td>\n",
       "    </tr>\n",
       "    <tr>\n",
       "      <th>2020-09-11 17:00:00</th>\n",
       "      <td>170</td>\n",
       "      <td>1</td>\n",
       "      <td>N</td>\n",
       "      <td>3.0</td>\n",
       "      <td>1</td>\n",
       "    </tr>\n",
       "    <tr>\n",
       "      <th>2020-09-11 18:00:00</th>\n",
       "      <td>180</td>\n",
       "      <td>1</td>\n",
       "      <td>N</td>\n",
       "      <td>4.0</td>\n",
       "      <td>1</td>\n",
       "    </tr>\n",
       "    <tr>\n",
       "      <th>2020-09-11 19:00:00</th>\n",
       "      <td>220</td>\n",
       "      <td>1</td>\n",
       "      <td>V</td>\n",
       "      <td>3.0</td>\n",
       "      <td>1</td>\n",
       "    </tr>\n",
       "    <tr>\n",
       "      <th>2020-09-11 20:00:00</th>\n",
       "      <td>260</td>\n",
       "      <td>1</td>\n",
       "      <td>N</td>\n",
       "      <td>3.0</td>\n",
       "      <td>1</td>\n",
       "    </tr>\n",
       "    <tr>\n",
       "      <th>2020-09-11 21:00:00</th>\n",
       "      <td>310</td>\n",
       "      <td>1</td>\n",
       "      <td>V</td>\n",
       "      <td>2.0</td>\n",
       "      <td>1</td>\n",
       "    </tr>\n",
       "  </tbody>\n",
       "</table>\n",
       "<p>111345 rows × 5 columns</p>\n",
       "</div>"
      ],
      "text/plain": [
       "                     angel  Q_A Type  speed  Q_S\n",
       "DATE                                            \n",
       "2010-01-02 00:00:00     40    1    N    2.0    1\n",
       "2010-01-02 01:00:00    999    9    V    1.0    1\n",
       "2010-01-02 02:00:00    999    9    C    0.0    1\n",
       "2010-01-02 03:00:00    140    1    N    1.0    1\n",
       "2010-01-02 04:00:00    300    1    N    4.0    1\n",
       "...                    ...  ...  ...    ...  ...\n",
       "2020-09-11 17:00:00    170    1    N    3.0    1\n",
       "2020-09-11 18:00:00    180    1    N    4.0    1\n",
       "2020-09-11 19:00:00    220    1    V    3.0    1\n",
       "2020-09-11 20:00:00    260    1    N    3.0    1\n",
       "2020-09-11 21:00:00    310    1    V    2.0    1\n",
       "\n",
       "[111345 rows x 5 columns]"
      ]
     },
     "execution_count": 847,
     "metadata": {},
     "output_type": "execute_result"
    }
   ],
   "source": [
    "WND_pass=WND[WND.Q_S==1]\n",
    "WND_comp=WND_pass['speed'].replace(999.9,np.nan).dropna()\n",
    "# Completed wind speed check\n",
    "WND_comp"
   ]
  },
  {
   "cell_type": "markdown",
   "metadata": {},
   "source": [
    "**1. Calculate monthly averaged wind speed for each year**"
   ]
  },
  {
   "cell_type": "code",
   "execution_count": 849,
   "metadata": {
    "ExecuteTime": {
     "end_time": "2021-10-18T09:05:13.829471Z",
     "start_time": "2021-10-18T09:05:13.810811Z"
    }
   },
   "outputs": [],
   "source": [
    "mon_WND=WND_comp.resample('M').mean()"
   ]
  },
  {
   "cell_type": "code",
   "execution_count": 850,
   "metadata": {
    "ExecuteTime": {
     "end_time": "2021-10-18T09:05:14.261313Z",
     "start_time": "2021-10-18T09:05:14.252874Z"
    }
   },
   "outputs": [
    {
     "data": {
      "text/plain": [
       "DATE\n",
       "2010-01-31    2.756267\n",
       "2010-02-28    3.388060\n",
       "2010-03-31    3.360700\n",
       "2010-04-30    3.191341\n",
       "2010-05-31    3.293640\n",
       "Freq: M, Name: speed, dtype: float64"
      ]
     },
     "execution_count": 850,
     "metadata": {},
     "output_type": "execute_result"
    }
   ],
   "source": [
    "mon_WND.head()"
   ]
  },
  {
   "cell_type": "markdown",
   "metadata": {},
   "source": [
    "**2. Annual mean**"
   ]
  },
  {
   "cell_type": "code",
   "execution_count": 851,
   "metadata": {
    "ExecuteTime": {
     "end_time": "2021-10-18T09:05:15.127855Z",
     "start_time": "2021-10-18T09:05:15.117981Z"
    }
   },
   "outputs": [],
   "source": [
    "yr_WND=mon_WND.resample('12M').mean()"
   ]
  },
  {
   "cell_type": "code",
   "execution_count": 852,
   "metadata": {
    "ExecuteTime": {
     "end_time": "2021-10-18T09:05:15.525078Z",
     "start_time": "2021-10-18T09:05:15.517410Z"
    }
   },
   "outputs": [
    {
     "data": {
      "text/plain": [
       "DATE\n",
       "2010-01-31    2.756267\n",
       "2011-01-31    3.182708\n",
       "2012-01-31    2.979729\n",
       "2013-01-31    3.145513\n",
       "2014-01-31    3.453479\n",
       "2015-01-31    3.401386\n",
       "2016-01-31    3.596970\n",
       "2017-01-31    3.425560\n",
       "2018-01-31    3.494004\n",
       "2019-01-31    3.358642\n",
       "2020-01-31    3.433018\n",
       "2021-01-31    4.031548\n",
       "Freq: 12M, Name: speed, dtype: float64"
      ]
     },
     "execution_count": 852,
     "metadata": {},
     "output_type": "execute_result"
    }
   ],
   "source": [
    "yr_WND"
   ]
  },
  {
   "cell_type": "code",
   "execution_count": 853,
   "metadata": {
    "ExecuteTime": {
     "end_time": "2021-10-18T09:05:17.095609Z",
     "start_time": "2021-10-18T09:05:17.091084Z"
    }
   },
   "outputs": [],
   "source": [
    "from scipy import stats"
   ]
  },
  {
   "cell_type": "code",
   "execution_count": 854,
   "metadata": {
    "ExecuteTime": {
     "end_time": "2021-10-18T09:05:26.058413Z",
     "start_time": "2021-10-18T09:05:26.040177Z"
    }
   },
   "outputs": [
    {
     "data": {
      "text/plain": [
       "LinregressResult(slope=0.07268375129519959, intercept=-143.13919852862568, rvalue=0.8171430304460722, pvalue=0.0011739504759304595, stderr=0.01621397758005228)"
      ]
     },
     "execution_count": 854,
     "metadata": {},
     "output_type": "execute_result"
    }
   ],
   "source": [
    "lin = stats.linregress(np.arange(2010,2022),yr_WND.values)\n",
    "lin"
   ]
  },
  {
   "cell_type": "code",
   "execution_count": 855,
   "metadata": {
    "ExecuteTime": {
     "end_time": "2021-10-18T09:05:27.660357Z",
     "start_time": "2021-10-18T09:05:27.456708Z"
    }
   },
   "outputs": [
    {
     "data": {
      "text/plain": [
       "<matplotlib.legend.Legend at 0x7fef28f65490>"
      ]
     },
     "execution_count": 855,
     "metadata": {},
     "output_type": "execute_result"
    },
    {
     "data": {
      "image/png": "[encoded data removed]",
      "text/plain": [
       "<Figure size 432x288 with 1 Axes>"
      ]
     },
     "metadata": {
      "needs_background": "light"
     },
     "output_type": "display_data"
    }
   ],
   "source": [
    "fig,ax = plt.subplots()\n",
    "f = lambda a,b,x: b+a*x\n",
    "x=np.arange(2010,2022)\n",
    "\n",
    "ax.plot(x,f(lin.slope,lin.intercept,x),'--',label='Linear Fitted line')\n",
    "ax.plot(x,yr_WND,label='Data')\n",
    "ax.grid()\n",
    "ax.set_xlabel('Year')\n",
    "ax.set_ylabel('Wind speed (m$s^{-1}$)')\n",
    "ax.legend()"
   ]
  },
  {
   "cell_type": "markdown",
   "metadata": {},
   "source": [
    "# Explore a data set"
   ]
  },
  {
   "cell_type": "code",
   "execution_count": 856,
   "metadata": {
    "ExecuteTime": {
     "end_time": "2021-10-18T09:05:38.032812Z",
     "start_time": "2021-10-18T09:05:37.508656Z"
    },
    "scrolled": true
   },
   "outputs": [
    {
     "name": "stderr",
     "output_type": "stream",
     "text": [
      "/home/andrea/anaconda3/lib/python3.7/site-packages/IPython/core/interactiveshell.py:3063: DtypeWarning: Columns (6,12,13) have mixed types.Specify dtype option on import or set low_memory=False.\n",
      "  interactivity=interactivity, compiler=compiler, result=result)\n"
     ]
    },
    {
     "data": {
      "text/html": [
       "<div>\n",
       "<style scoped>\n",
       "    .dataframe tbody tr th:only-of-type {\n",
       "        vertical-align: middle;\n",
       "    }\n",
       "\n",
       "    .dataframe tbody tr th {\n",
       "        vertical-align: top;\n",
       "    }\n",
       "\n",
       "    .dataframe thead th {\n",
       "        text-align: right;\n",
       "    }\n",
       "</style>\n",
       "<table border=\"1\" class=\"dataframe\">\n",
       "  <thead>\n",
       "    <tr style=\"text-align: right;\">\n",
       "      <th></th>\n",
       "      <th>STATION</th>\n",
       "      <th>NAME</th>\n",
       "      <th>LATITUDE</th>\n",
       "      <th>LONGITUDE</th>\n",
       "      <th>ELEVATION</th>\n",
       "      <th>DATE</th>\n",
       "      <th>SOURCE</th>\n",
       "      <th>REPORT_TYPE</th>\n",
       "      <th>CALL_SIGN</th>\n",
       "      <th>QUALITY_CONTROL</th>\n",
       "      <th>AA1</th>\n",
       "      <th>DEW</th>\n",
       "      <th>KB1</th>\n",
       "      <th>RH1</th>\n",
       "      <th>VIS</th>\n",
       "    </tr>\n",
       "  </thead>\n",
       "  <tbody>\n",
       "    <tr>\n",
       "      <th>0</th>\n",
       "      <td>72287493134</td>\n",
       "      <td>LOS ANGELES DOWNTOWN USC, CA US</td>\n",
       "      <td>34.0236</td>\n",
       "      <td>-118.2911</td>\n",
       "      <td>54.6</td>\n",
       "      <td>2000-01-01T00:00:00</td>\n",
       "      <td>5</td>\n",
       "      <td>FM-15</td>\n",
       "      <td>KCQT</td>\n",
       "      <td>V020</td>\n",
       "      <td>NaN</td>\n",
       "      <td>+0089,5</td>\n",
       "      <td>NaN</td>\n",
       "      <td>NaN</td>\n",
       "      <td>016000,5,9,9</td>\n",
       "    </tr>\n",
       "    <tr>\n",
       "      <th>1</th>\n",
       "      <td>72287493134</td>\n",
       "      <td>LOS ANGELES DOWNTOWN USC, CA US</td>\n",
       "      <td>34.0236</td>\n",
       "      <td>-118.2911</td>\n",
       "      <td>54.6</td>\n",
       "      <td>2000-01-01T01:00:00</td>\n",
       "      <td>5</td>\n",
       "      <td>FM-15</td>\n",
       "      <td>KCQT</td>\n",
       "      <td>V020</td>\n",
       "      <td>NaN</td>\n",
       "      <td>+0094,5</td>\n",
       "      <td>NaN</td>\n",
       "      <td>NaN</td>\n",
       "      <td>016000,5,9,9</td>\n",
       "    </tr>\n",
       "    <tr>\n",
       "      <th>2</th>\n",
       "      <td>72287493134</td>\n",
       "      <td>LOS ANGELES DOWNTOWN USC, CA US</td>\n",
       "      <td>34.0236</td>\n",
       "      <td>-118.2911</td>\n",
       "      <td>54.6</td>\n",
       "      <td>2000-01-01T02:00:00</td>\n",
       "      <td>5</td>\n",
       "      <td>FM-15</td>\n",
       "      <td>KCQT</td>\n",
       "      <td>V020</td>\n",
       "      <td>NaN</td>\n",
       "      <td>+0094,5</td>\n",
       "      <td>NaN</td>\n",
       "      <td>NaN</td>\n",
       "      <td>016000,5,9,9</td>\n",
       "    </tr>\n",
       "    <tr>\n",
       "      <th>3</th>\n",
       "      <td>72287493134</td>\n",
       "      <td>LOS ANGELES DOWNTOWN USC, CA US</td>\n",
       "      <td>34.0236</td>\n",
       "      <td>-118.2911</td>\n",
       "      <td>54.6</td>\n",
       "      <td>2000-01-01T03:00:00</td>\n",
       "      <td>5</td>\n",
       "      <td>FM-15</td>\n",
       "      <td>KCQT</td>\n",
       "      <td>V020</td>\n",
       "      <td>NaN</td>\n",
       "      <td>+0094,5</td>\n",
       "      <td>NaN</td>\n",
       "      <td>NaN</td>\n",
       "      <td>016000,5,9,9</td>\n",
       "    </tr>\n",
       "    <tr>\n",
       "      <th>4</th>\n",
       "      <td>72287493134</td>\n",
       "      <td>LOS ANGELES DOWNTOWN USC, CA US</td>\n",
       "      <td>34.0236</td>\n",
       "      <td>-118.2911</td>\n",
       "      <td>54.6</td>\n",
       "      <td>2000-01-01T04:00:00</td>\n",
       "      <td>5</td>\n",
       "      <td>FM-15</td>\n",
       "      <td>KCQT</td>\n",
       "      <td>V020</td>\n",
       "      <td>NaN</td>\n",
       "      <td>+0089,5</td>\n",
       "      <td>NaN</td>\n",
       "      <td>NaN</td>\n",
       "      <td>014400,5,9,9</td>\n",
       "    </tr>\n",
       "  </tbody>\n",
       "</table>\n",
       "</div>"
      ],
      "text/plain": [
       "       STATION                             NAME  LATITUDE  LONGITUDE  \\\n",
       "0  72287493134  LOS ANGELES DOWNTOWN USC, CA US   34.0236  -118.2911   \n",
       "1  72287493134  LOS ANGELES DOWNTOWN USC, CA US   34.0236  -118.2911   \n",
       "2  72287493134  LOS ANGELES DOWNTOWN USC, CA US   34.0236  -118.2911   \n",
       "3  72287493134  LOS ANGELES DOWNTOWN USC, CA US   34.0236  -118.2911   \n",
       "4  72287493134  LOS ANGELES DOWNTOWN USC, CA US   34.0236  -118.2911   \n",
       "\n",
       "   ELEVATION                 DATE SOURCE REPORT_TYPE CALL_SIGN  \\\n",
       "0       54.6  2000-01-01T00:00:00      5       FM-15     KCQT    \n",
       "1       54.6  2000-01-01T01:00:00      5       FM-15     KCQT    \n",
       "2       54.6  2000-01-01T02:00:00      5       FM-15     KCQT    \n",
       "3       54.6  2000-01-01T03:00:00      5       FM-15     KCQT    \n",
       "4       54.6  2000-01-01T04:00:00      5       FM-15     KCQT    \n",
       "\n",
       "  QUALITY_CONTROL  AA1      DEW  KB1  RH1           VIS  \n",
       "0            V020  NaN  +0089,5  NaN  NaN  016000,5,9,9  \n",
       "1            V020  NaN  +0094,5  NaN  NaN  016000,5,9,9  \n",
       "2            V020  NaN  +0094,5  NaN  NaN  016000,5,9,9  \n",
       "3            V020  NaN  +0094,5  NaN  NaN  016000,5,9,9  \n",
       "4            V020  NaN  +0089,5  NaN  NaN  014400,5,9,9  "
      ]
     },
     "execution_count": 856,
     "metadata": {},
     "output_type": "execute_result"
    }
   ],
   "source": [
    "# Read .tsv data using pd.read_csv\n",
    "ds = pd.read_csv('Data/PS2/2749432.csv',)\n",
    "ds.head()"
   ]
  },
  {
   "cell_type": "code",
   "execution_count": 861,
   "metadata": {
    "ExecuteTime": {
     "end_time": "2021-10-18T11:15:18.373223Z",
     "start_time": "2021-10-18T11:15:18.274467Z"
    }
   },
   "outputs": [
    {
     "data": {
      "text/html": [
       "<div>\n",
       "<style scoped>\n",
       "    .dataframe tbody tr th:only-of-type {\n",
       "        vertical-align: middle;\n",
       "    }\n",
       "\n",
       "    .dataframe tbody tr th {\n",
       "        vertical-align: top;\n",
       "    }\n",
       "\n",
       "    .dataframe thead th {\n",
       "        text-align: right;\n",
       "    }\n",
       "</style>\n",
       "<table border=\"1\" class=\"dataframe\">\n",
       "  <thead>\n",
       "    <tr style=\"text-align: right;\">\n",
       "      <th></th>\n",
       "      <th>DATE</th>\n",
       "      <th>AA1</th>\n",
       "      <th>DEW</th>\n",
       "      <th>VIS</th>\n",
       "    </tr>\n",
       "  </thead>\n",
       "  <tbody>\n",
       "    <tr>\n",
       "      <th>8929</th>\n",
       "      <td>2001-01-01T09:00:00</td>\n",
       "      <td>01,0000,9,5</td>\n",
       "      <td>+0122,5</td>\n",
       "      <td>002400,5,9,9</td>\n",
       "    </tr>\n",
       "    <tr>\n",
       "      <th>8930</th>\n",
       "      <td>2001-01-01T10:00:00</td>\n",
       "      <td>01,0000,9,5</td>\n",
       "      <td>+0122,5</td>\n",
       "      <td>002800,5,9,9</td>\n",
       "    </tr>\n",
       "    <tr>\n",
       "      <th>8931</th>\n",
       "      <td>2001-01-01T11:00:00</td>\n",
       "      <td>01,0000,9,5</td>\n",
       "      <td>+0117,5</td>\n",
       "      <td>002800,5,9,9</td>\n",
       "    </tr>\n",
       "    <tr>\n",
       "      <th>8932</th>\n",
       "      <td>2001-01-01T12:00:00</td>\n",
       "      <td>01,0000,9,5</td>\n",
       "      <td>+0111,5</td>\n",
       "      <td>003200,5,9,9</td>\n",
       "    </tr>\n",
       "    <tr>\n",
       "      <th>8933</th>\n",
       "      <td>2001-01-01T13:00:00</td>\n",
       "      <td>01,0000,9,5</td>\n",
       "      <td>+0094,5</td>\n",
       "      <td>004800,5,9,9</td>\n",
       "    </tr>\n",
       "    <tr>\n",
       "      <th>...</th>\n",
       "      <td>...</td>\n",
       "      <td>...</td>\n",
       "      <td>...</td>\n",
       "      <td>...</td>\n",
       "    </tr>\n",
       "    <tr>\n",
       "      <th>266176</th>\n",
       "      <td>2021-10-14T04:52:00</td>\n",
       "      <td>01,0000,9,5</td>\n",
       "      <td>+0083,5</td>\n",
       "      <td>016093,5,N,5</td>\n",
       "    </tr>\n",
       "    <tr>\n",
       "      <th>266177</th>\n",
       "      <td>2021-10-14T05:52:00</td>\n",
       "      <td>01,0000,9,5</td>\n",
       "      <td>+0083,5</td>\n",
       "      <td>016093,5,N,5</td>\n",
       "    </tr>\n",
       "    <tr>\n",
       "      <th>266178</th>\n",
       "      <td>2021-10-14T06:52:00</td>\n",
       "      <td>01,0000,9,5</td>\n",
       "      <td>+0083,5</td>\n",
       "      <td>016093,5,N,5</td>\n",
       "    </tr>\n",
       "    <tr>\n",
       "      <th>266179</th>\n",
       "      <td>2021-10-14T07:52:00</td>\n",
       "      <td>01,0000,9,5</td>\n",
       "      <td>+0078,5</td>\n",
       "      <td>016093,5,N,5</td>\n",
       "    </tr>\n",
       "    <tr>\n",
       "      <th>266180</th>\n",
       "      <td>2021-10-14T07:59:00</td>\n",
       "      <td>24,0000,9,5</td>\n",
       "      <td>+9999,9</td>\n",
       "      <td>999999,9,9,9</td>\n",
       "    </tr>\n",
       "  </tbody>\n",
       "</table>\n",
       "<p>197994 rows × 4 columns</p>\n",
       "</div>"
      ],
      "text/plain": [
       "                       DATE          AA1      DEW           VIS\n",
       "8929    2001-01-01T09:00:00  01,0000,9,5  +0122,5  002400,5,9,9\n",
       "8930    2001-01-01T10:00:00  01,0000,9,5  +0122,5  002800,5,9,9\n",
       "8931    2001-01-01T11:00:00  01,0000,9,5  +0117,5  002800,5,9,9\n",
       "8932    2001-01-01T12:00:00  01,0000,9,5  +0111,5  003200,5,9,9\n",
       "8933    2001-01-01T13:00:00  01,0000,9,5  +0094,5  004800,5,9,9\n",
       "...                     ...          ...      ...           ...\n",
       "266176  2021-10-14T04:52:00  01,0000,9,5  +0083,5  016093,5,N,5\n",
       "266177  2021-10-14T05:52:00  01,0000,9,5  +0083,5  016093,5,N,5\n",
       "266178  2021-10-14T06:52:00  01,0000,9,5  +0083,5  016093,5,N,5\n",
       "266179  2021-10-14T07:52:00  01,0000,9,5  +0078,5  016093,5,N,5\n",
       "266180  2021-10-14T07:59:00  24,0000,9,5  +9999,9  999999,9,9,9\n",
       "\n",
       "[197994 rows x 4 columns]"
      ]
     },
     "execution_count": 861,
     "metadata": {},
     "output_type": "execute_result"
    }
   ],
   "source": [
    "ds_sel = ds[['DATE','AA1','DEW','VIS']].dropna(axis=0)\n",
    "ds_sel"
   ]
  },
  {
   "cell_type": "code",
   "execution_count": 859,
   "metadata": {
    "ExecuteTime": {
     "end_time": "2021-10-18T09:06:03.626225Z",
     "start_time": "2021-10-18T09:05:44.442574Z"
    }
   },
   "outputs": [],
   "source": [
    "DATE=ds_sel.DATE.apply(lambda x:pd.to_datetime(x)).to_frame(name='DATE')"
   ]
  },
  {
   "cell_type": "code",
   "execution_count": 732,
   "metadata": {
    "ExecuteTime": {
     "end_time": "2021-10-18T08:18:40.048750Z",
     "start_time": "2021-10-18T08:18:40.032325Z"
    }
   },
   "outputs": [],
   "source": [
    "LAX=DATE.copy()"
   ]
  },
  {
   "cell_type": "code",
   "execution_count": 723,
   "metadata": {
    "ExecuteTime": {
     "end_time": "2021-10-18T08:16:17.004095Z",
     "start_time": "2021-10-18T08:16:16.999467Z"
    }
   },
   "outputs": [],
   "source": [
    "VAR = ['AA1','DEW','VIS']\n",
    "fields=['Hours','Depth','QP_1','QP_2','Dew','QD','VIS','QV']"
   ]
  },
  {
   "cell_type": "code",
   "execution_count": 733,
   "metadata": {
    "ExecuteTime": {
     "end_time": "2021-10-18T08:18:42.645451Z",
     "start_time": "2021-10-18T08:18:41.920266Z"
    }
   },
   "outputs": [],
   "source": [
    "#for var in VAR:\n",
    "for a,b in zip([0,1],[2,3]):\n",
    "    dfs=ds_sel[VAR[0]].apply(lambda x:int(x.split(',')[a])).to_frame(name=fields[a])\n",
    "    LAX=pd.merge(LAX,dfs,right_index=True,left_index=True)\n",
    "    \n",
    "    dfs=ds_sel[VAR[0]].apply(lambda x:(x.split(',')[b])).to_frame(name=fields[b])\n",
    "    LAX=pd.merge(LAX,dfs,right_index=True,left_index=True)\n",
    "\n",
    "for x,y,z in zip(VAR[1:],[4,6],[5,7]):\n",
    "    dfs=ds_sel[x].apply(lambda x:int(x.split(',')[0])).to_frame(name=fields[y])\n",
    "    LAX=pd.merge(LAX,dfs,right_index=True,left_index=True)\n",
    "    \n",
    "    dfs=ds_sel[var[0]].apply(lambda x:(x.split(',')[1])).to_frame(name=fields[z])\n",
    "    LAX=pd.merge(LAX,dfs,right_index=True,left_index=True)"
   ]
  },
  {
   "cell_type": "code",
   "execution_count": 877,
   "metadata": {
    "ExecuteTime": {
     "end_time": "2021-10-18T11:24:56.046975Z",
     "start_time": "2021-10-18T11:24:56.001477Z"
    },
    "scrolled": true
   },
   "outputs": [
    {
     "data": {
      "text/html": [
       "<div>\n",
       "<style scoped>\n",
       "    .dataframe tbody tr th:only-of-type {\n",
       "        vertical-align: middle;\n",
       "    }\n",
       "\n",
       "    .dataframe tbody tr th {\n",
       "        vertical-align: top;\n",
       "    }\n",
       "\n",
       "    .dataframe thead th {\n",
       "        text-align: right;\n",
       "    }\n",
       "</style>\n",
       "<table border=\"1\" class=\"dataframe\">\n",
       "  <thead>\n",
       "    <tr style=\"text-align: right;\">\n",
       "      <th></th>\n",
       "      <th>DATE</th>\n",
       "      <th>Hours</th>\n",
       "      <th>QP_1</th>\n",
       "      <th>Depth</th>\n",
       "      <th>QP_2</th>\n",
       "      <th>Dew</th>\n",
       "      <th>QD</th>\n",
       "      <th>VIS</th>\n",
       "      <th>QV</th>\n",
       "    </tr>\n",
       "    <tr>\n",
       "      <th>DATE</th>\n",
       "      <th></th>\n",
       "      <th></th>\n",
       "      <th></th>\n",
       "      <th></th>\n",
       "      <th></th>\n",
       "      <th></th>\n",
       "      <th></th>\n",
       "      <th></th>\n",
       "      <th></th>\n",
       "    </tr>\n",
       "  </thead>\n",
       "  <tbody>\n",
       "    <tr>\n",
       "      <th>2001-01-01 09:00:00</th>\n",
       "      <td>2001-01-01 09:00:00</td>\n",
       "      <td>1</td>\n",
       "      <td>9</td>\n",
       "      <td>0</td>\n",
       "      <td>5</td>\n",
       "      <td>122</td>\n",
       "      <td>5</td>\n",
       "      <td>2400</td>\n",
       "      <td>5</td>\n",
       "    </tr>\n",
       "    <tr>\n",
       "      <th>2001-01-01 10:00:00</th>\n",
       "      <td>2001-01-01 10:00:00</td>\n",
       "      <td>1</td>\n",
       "      <td>9</td>\n",
       "      <td>0</td>\n",
       "      <td>5</td>\n",
       "      <td>122</td>\n",
       "      <td>5</td>\n",
       "      <td>2800</td>\n",
       "      <td>5</td>\n",
       "    </tr>\n",
       "    <tr>\n",
       "      <th>2001-01-01 11:00:00</th>\n",
       "      <td>2001-01-01 11:00:00</td>\n",
       "      <td>1</td>\n",
       "      <td>9</td>\n",
       "      <td>0</td>\n",
       "      <td>5</td>\n",
       "      <td>117</td>\n",
       "      <td>5</td>\n",
       "      <td>2800</td>\n",
       "      <td>5</td>\n",
       "    </tr>\n",
       "    <tr>\n",
       "      <th>2001-01-01 12:00:00</th>\n",
       "      <td>2001-01-01 12:00:00</td>\n",
       "      <td>1</td>\n",
       "      <td>9</td>\n",
       "      <td>0</td>\n",
       "      <td>5</td>\n",
       "      <td>111</td>\n",
       "      <td>5</td>\n",
       "      <td>3200</td>\n",
       "      <td>5</td>\n",
       "    </tr>\n",
       "    <tr>\n",
       "      <th>2001-01-01 13:00:00</th>\n",
       "      <td>2001-01-01 13:00:00</td>\n",
       "      <td>1</td>\n",
       "      <td>9</td>\n",
       "      <td>0</td>\n",
       "      <td>5</td>\n",
       "      <td>94</td>\n",
       "      <td>5</td>\n",
       "      <td>4800</td>\n",
       "      <td>5</td>\n",
       "    </tr>\n",
       "    <tr>\n",
       "      <th>...</th>\n",
       "      <td>...</td>\n",
       "      <td>...</td>\n",
       "      <td>...</td>\n",
       "      <td>...</td>\n",
       "      <td>...</td>\n",
       "      <td>...</td>\n",
       "      <td>...</td>\n",
       "      <td>...</td>\n",
       "      <td>...</td>\n",
       "    </tr>\n",
       "    <tr>\n",
       "      <th>2021-10-14 04:52:00</th>\n",
       "      <td>2021-10-14 04:52:00</td>\n",
       "      <td>1</td>\n",
       "      <td>9</td>\n",
       "      <td>0</td>\n",
       "      <td>5</td>\n",
       "      <td>83</td>\n",
       "      <td>5</td>\n",
       "      <td>16093</td>\n",
       "      <td>5</td>\n",
       "    </tr>\n",
       "    <tr>\n",
       "      <th>2021-10-14 05:52:00</th>\n",
       "      <td>2021-10-14 05:52:00</td>\n",
       "      <td>1</td>\n",
       "      <td>9</td>\n",
       "      <td>0</td>\n",
       "      <td>5</td>\n",
       "      <td>83</td>\n",
       "      <td>5</td>\n",
       "      <td>16093</td>\n",
       "      <td>5</td>\n",
       "    </tr>\n",
       "    <tr>\n",
       "      <th>2021-10-14 06:52:00</th>\n",
       "      <td>2021-10-14 06:52:00</td>\n",
       "      <td>1</td>\n",
       "      <td>9</td>\n",
       "      <td>0</td>\n",
       "      <td>5</td>\n",
       "      <td>83</td>\n",
       "      <td>5</td>\n",
       "      <td>16093</td>\n",
       "      <td>5</td>\n",
       "    </tr>\n",
       "    <tr>\n",
       "      <th>2021-10-14 07:52:00</th>\n",
       "      <td>2021-10-14 07:52:00</td>\n",
       "      <td>1</td>\n",
       "      <td>9</td>\n",
       "      <td>0</td>\n",
       "      <td>5</td>\n",
       "      <td>78</td>\n",
       "      <td>5</td>\n",
       "      <td>16093</td>\n",
       "      <td>5</td>\n",
       "    </tr>\n",
       "    <tr>\n",
       "      <th>2021-10-14 07:59:00</th>\n",
       "      <td>2021-10-14 07:59:00</td>\n",
       "      <td>24</td>\n",
       "      <td>9</td>\n",
       "      <td>0</td>\n",
       "      <td>5</td>\n",
       "      <td>9999</td>\n",
       "      <td>9</td>\n",
       "      <td>999999</td>\n",
       "      <td>9</td>\n",
       "    </tr>\n",
       "  </tbody>\n",
       "</table>\n",
       "<p>197994 rows × 9 columns</p>\n",
       "</div>"
      ],
      "text/plain": [
       "                                   DATE  Hours QP_1  Depth QP_2   Dew QD  \\\n",
       "DATE                                                                       \n",
       "2001-01-01 09:00:00 2001-01-01 09:00:00      1    9      0    5   122  5   \n",
       "2001-01-01 10:00:00 2001-01-01 10:00:00      1    9      0    5   122  5   \n",
       "2001-01-01 11:00:00 2001-01-01 11:00:00      1    9      0    5   117  5   \n",
       "2001-01-01 12:00:00 2001-01-01 12:00:00      1    9      0    5   111  5   \n",
       "2001-01-01 13:00:00 2001-01-01 13:00:00      1    9      0    5    94  5   \n",
       "...                                 ...    ...  ...    ...  ...   ... ..   \n",
       "2021-10-14 04:52:00 2021-10-14 04:52:00      1    9      0    5    83  5   \n",
       "2021-10-14 05:52:00 2021-10-14 05:52:00      1    9      0    5    83  5   \n",
       "2021-10-14 06:52:00 2021-10-14 06:52:00      1    9      0    5    83  5   \n",
       "2021-10-14 07:52:00 2021-10-14 07:52:00      1    9      0    5    78  5   \n",
       "2021-10-14 07:59:00 2021-10-14 07:59:00     24    9      0    5  9999  9   \n",
       "\n",
       "                        VIS QV  \n",
       "DATE                            \n",
       "2001-01-01 09:00:00    2400  5  \n",
       "2001-01-01 10:00:00    2800  5  \n",
       "2001-01-01 11:00:00    2800  5  \n",
       "2001-01-01 12:00:00    3200  5  \n",
       "2001-01-01 13:00:00    4800  5  \n",
       "...                     ... ..  \n",
       "2021-10-14 04:52:00   16093  5  \n",
       "2021-10-14 05:52:00   16093  5  \n",
       "2021-10-14 06:52:00   16093  5  \n",
       "2021-10-14 07:52:00   16093  5  \n",
       "2021-10-14 07:59:00  999999  9  \n",
       "\n",
       "[197994 rows x 9 columns]"
      ]
     },
     "execution_count": 877,
     "metadata": {},
     "output_type": "execute_result"
    }
   ],
   "source": [
    "LAX = LAX.set_index(LAX.DATE)\n",
    "LAX"
   ]
  },
  {
   "cell_type": "markdown",
   "metadata": {},
   "source": [
    "## Quality check"
   ]
  },
  {
   "cell_type": "markdown",
   "metadata": {},
   "source": [
    "QP_2: LIQUID-PRECIPITATION quality code  \n",
    "1=Passed all quality control checks  \n",
    "5=Passed all quality control checks, data originate from an NCEI data source"
   ]
  },
  {
   "cell_type": "code",
   "execution_count": 880,
   "metadata": {
    "ExecuteTime": {
     "end_time": "2021-10-18T11:26:17.446346Z",
     "start_time": "2021-10-18T11:26:17.187734Z"
    },
    "scrolled": true
   },
   "outputs": [],
   "source": [
    "Depth_pass=LAX.where(LAX.QP_2.isin(['1','5']))"
   ]
  },
  {
   "cell_type": "code",
   "execution_count": 893,
   "metadata": {
    "ExecuteTime": {
     "end_time": "2021-10-18T11:28:22.482882Z",
     "start_time": "2021-10-18T11:28:22.465183Z"
    }
   },
   "outputs": [],
   "source": [
    "Depth_comp=Depth_pass['Depth'].replace(9999,np.nan).dropna()"
   ]
  },
  {
   "cell_type": "code",
   "execution_count": 894,
   "metadata": {
    "ExecuteTime": {
     "end_time": "2021-10-18T11:28:23.285406Z",
     "start_time": "2021-10-18T11:28:23.280325Z"
    }
   },
   "outputs": [
    {
     "data": {
      "text/plain": [
       "(197994, 197674)"
      ]
     },
     "execution_count": 894,
     "metadata": {},
     "output_type": "execute_result"
    }
   ],
   "source": [
    "len(Depth_pass),len(Depth_comp)"
   ]
  },
  {
   "cell_type": "markdown",
   "metadata": {},
   "source": [
    "## Extreme rainfall (95th percentile)"
   ]
  },
  {
   "cell_type": "markdown",
   "metadata": {},
   "source": [
    "**Wet days with precipitation larger than 1.0 mm**"
   ]
  },
  {
   "cell_type": "code",
   "execution_count": 895,
   "metadata": {
    "ExecuteTime": {
     "end_time": "2021-10-18T11:29:55.203971Z",
     "start_time": "2021-10-18T11:29:55.192435Z"
    }
   },
   "outputs": [],
   "source": [
    "Depth_wet=Depth_comp[Depth_comp>1]"
   ]
  },
  {
   "cell_type": "code",
   "execution_count": 897,
   "metadata": {
    "ExecuteTime": {
     "end_time": "2021-10-18T11:30:18.910528Z",
     "start_time": "2021-10-18T11:30:18.868807Z"
    }
   },
   "outputs": [],
   "source": [
    "year_group=list(Depth_wet.groupby(Depth_wet.index.year))"
   ]
  },
  {
   "cell_type": "code",
   "execution_count": 899,
   "metadata": {
    "ExecuteTime": {
     "end_time": "2021-10-18T11:30:26.914417Z",
     "start_time": "2021-10-18T11:30:26.900498Z"
    },
    "scrolled": false
   },
   "outputs": [],
   "source": [
    "extreme_wet_95=pd.DataFrame({\n",
    "    'Year':np.arange(2001,2022),\n",
    "    'Extreme_depth':list(map(lambda data:np.percentile(data,95),np.asarray(year_group).T[1])),\n",
    "})"
   ]
  },
  {
   "cell_type": "code",
   "execution_count": 900,
   "metadata": {
    "ExecuteTime": {
     "end_time": "2021-10-18T11:30:27.890606Z",
     "start_time": "2021-10-18T11:30:27.878509Z"
    }
   },
   "outputs": [
    {
     "data": {
      "text/html": [
       "<div>\n",
       "<style scoped>\n",
       "    .dataframe tbody tr th:only-of-type {\n",
       "        vertical-align: middle;\n",
       "    }\n",
       "\n",
       "    .dataframe tbody tr th {\n",
       "        vertical-align: top;\n",
       "    }\n",
       "\n",
       "    .dataframe thead th {\n",
       "        text-align: right;\n",
       "    }\n",
       "</style>\n",
       "<table border=\"1\" class=\"dataframe\">\n",
       "  <thead>\n",
       "    <tr style=\"text-align: right;\">\n",
       "      <th></th>\n",
       "      <th>Year</th>\n",
       "      <th>Extreme_depth</th>\n",
       "    </tr>\n",
       "  </thead>\n",
       "  <tbody>\n",
       "    <tr>\n",
       "      <th>0</th>\n",
       "      <td>2001</td>\n",
       "      <td>58.0</td>\n",
       "    </tr>\n",
       "    <tr>\n",
       "      <th>1</th>\n",
       "      <td>2002</td>\n",
       "      <td>53.0</td>\n",
       "    </tr>\n",
       "    <tr>\n",
       "      <th>2</th>\n",
       "      <td>2003</td>\n",
       "      <td>84.0</td>\n",
       "    </tr>\n",
       "    <tr>\n",
       "      <th>3</th>\n",
       "      <td>2004</td>\n",
       "      <td>95.5</td>\n",
       "    </tr>\n",
       "    <tr>\n",
       "      <th>4</th>\n",
       "      <td>2005</td>\n",
       "      <td>74.0</td>\n",
       "    </tr>\n",
       "  </tbody>\n",
       "</table>\n",
       "</div>"
      ],
      "text/plain": [
       "   Year  Extreme_depth\n",
       "0  2001           58.0\n",
       "1  2002           53.0\n",
       "2  2003           84.0\n",
       "3  2004           95.5\n",
       "4  2005           74.0"
      ]
     },
     "execution_count": 900,
     "metadata": {},
     "output_type": "execute_result"
    }
   ],
   "source": [
    "extreme_wet_95.head()"
   ]
  },
  {
   "cell_type": "markdown",
   "metadata": {},
   "source": [
    "## Extreme rainfall (95th percentile) trend"
   ]
  },
  {
   "cell_type": "code",
   "execution_count": 901,
   "metadata": {
    "ExecuteTime": {
     "end_time": "2021-10-18T11:30:34.069951Z",
     "start_time": "2021-10-18T11:30:34.063464Z"
    }
   },
   "outputs": [
    {
     "data": {
      "text/plain": [
       "LinregressResult(slope=0.4784415584415539, intercept=-892.5316883116792, rvalue=0.1978407622421532, pvalue=0.38998278280303933, stderr=0.5438337521490147)"
      ]
     },
     "execution_count": 901,
     "metadata": {},
     "output_type": "execute_result"
    }
   ],
   "source": [
    "lin = stats.linregress(np.arange(2001,2022),extreme_wet_95['Extreme_depth'].values)\n",
    "lin"
   ]
  },
  {
   "cell_type": "code",
   "execution_count": 902,
   "metadata": {
    "ExecuteTime": {
     "end_time": "2021-10-18T11:30:35.713161Z",
     "start_time": "2021-10-18T11:30:35.520057Z"
    }
   },
   "outputs": [
    {
     "data": {
      "text/plain": [
       "<matplotlib.legend.Legend at 0x7fef21f90690>"
      ]
     },
     "execution_count": 902,
     "metadata": {},
     "output_type": "execute_result"
    },
    {
     "data": {
      "image/png": "[encoded data removed]",
      "text/plain": [
       "<Figure size 432x288 with 1 Axes>"
      ]
     },
     "metadata": {
      "needs_background": "light"
     },
     "output_type": "display_data"
    }
   ],
   "source": [
    "fig,ax = plt.subplots()\n",
    "f = lambda a,b,x: b+a*x\n",
    "x=np.arange(2001,2022)\n",
    "\n",
    "ax.plot(x,f(lin.slope,lin.intercept,x),'--',label='Linear Fitted line')\n",
    "ax.plot(x,extreme_wet_95['Extreme_depth'],label='Data')\n",
    "ax.grid()\n",
    "ax.set_xlabel('Year')\n",
    "ax.set_ylabel('Extreme Precipitation Depth (mm)')\n",
    "ax.legend()"
   ]
  },
  {
   "cell_type": "markdown",
   "metadata": {},
   "source": [
    "**Select data from 2001-2011**"
   ]
  },
  {
   "cell_type": "code",
   "execution_count": 909,
   "metadata": {
    "ExecuteTime": {
     "end_time": "2021-10-18T12:07:14.157503Z",
     "start_time": "2021-10-18T12:07:14.112113Z"
    }
   },
   "outputs": [
    {
     "data": {
      "text/plain": [
       "DATE\n",
       "2001-01-01 09:00:00    0.0\n",
       "2001-01-01 10:00:00    0.0\n",
       "2001-01-01 11:00:00    0.0\n",
       "2001-01-01 12:00:00    0.0\n",
       "2001-01-01 13:00:00    0.0\n",
       "                      ... \n",
       "2011-12-31 19:47:00    0.0\n",
       "2011-12-31 20:47:00    0.0\n",
       "2011-12-31 21:47:00    0.0\n",
       "2011-12-31 22:47:00    0.0\n",
       "2011-12-31 23:47:00    0.0\n",
       "Name: Depth, Length: 105617, dtype: float64"
      ]
     },
     "execution_count": 909,
     "metadata": {},
     "output_type": "execute_result"
    }
   ],
   "source": [
    "Depth_sel=Depth_comp.where(Depth_comp.index.year.isin(np.arange(2001,2012))).dropna()\n",
    "Depth_sel"
   ]
  },
  {
   "cell_type": "markdown",
   "metadata": {},
   "source": [
    "## Precipitation climatology mean for 2001-2011"
   ]
  },
  {
   "cell_type": "code",
   "execution_count": 965,
   "metadata": {
    "ExecuteTime": {
     "end_time": "2021-10-18T13:30:31.247893Z",
     "start_time": "2021-10-18T13:30:30.913948Z"
    }
   },
   "outputs": [
    {
     "data": {
      "text/plain": [
       "DATE\n",
       "1       2.409091\n",
       "2       5.887435\n",
       "3       7.387755\n",
       "4       1.461538\n",
       "5       4.313099\n",
       "         ...    \n",
       "362     0.186620\n",
       "363    12.255208\n",
       "364     8.784314\n",
       "365     2.025890\n",
       "366    14.269231\n",
       "Name: Depth, Length: 366, dtype: float64"
      ]
     },
     "execution_count": 965,
     "metadata": {},
     "output_type": "execute_result"
    }
   ],
   "source": [
    "Depth_clim=Depth_sel.groupby(Depth_sel.index.dayofyear).mean()\n",
    "Depth_clim"
   ]
  },
  {
   "cell_type": "markdown",
   "metadata": {},
   "source": [
    "**Resample data as daily mean**"
   ]
  },
  {
   "cell_type": "code",
   "execution_count": 953,
   "metadata": {
    "ExecuteTime": {
     "end_time": "2021-10-18T13:28:06.777974Z",
     "start_time": "2021-10-18T13:28:06.747469Z"
    }
   },
   "outputs": [
    {
     "data": {
      "text/plain": [
       "DATE\n",
       "2001-01-01    0.000\n",
       "2001-01-02    0.125\n",
       "2001-01-03    0.000\n",
       "2001-01-04    0.000\n",
       "2001-01-05    0.000\n",
       "              ...  \n",
       "2021-10-10    0.000\n",
       "2021-10-11    0.000\n",
       "2021-10-12    0.000\n",
       "2021-10-13    0.000\n",
       "2021-10-14    0.000\n",
       "Freq: D, Name: Depth, Length: 7592, dtype: float64"
      ]
     },
     "execution_count": 953,
     "metadata": {},
     "output_type": "execute_result"
    }
   ],
   "source": [
    "day_Depth=Depth_comp.resample('D').mean()\n",
    "day_Depth"
   ]
  },
  {
   "cell_type": "markdown",
   "metadata": {},
   "source": [
    "**Group and reshape data**"
   ]
  },
  {
   "cell_type": "code",
   "execution_count": 1034,
   "metadata": {
    "ExecuteTime": {
     "end_time": "2021-10-18T13:50:06.308503Z",
     "start_time": "2021-10-18T13:50:06.276864Z"
    }
   },
   "outputs": [
    {
     "data": {
      "text/plain": [
       "(21,)"
      ]
     },
     "execution_count": 1034,
     "metadata": {},
     "output_type": "execute_result"
    }
   ],
   "source": [
    "year_group=np.asarray(list(day_Depth.groupby(day_Depth.index.year))).T[1]\n",
    "year_group.shape"
   ]
  },
  {
   "cell_type": "markdown",
   "metadata": {},
   "source": [
    "## Precipitation anomaly relative to 2001-2011"
   ]
  },
  {
   "cell_type": "code",
   "execution_count": 997,
   "metadata": {
    "ExecuteTime": {
     "end_time": "2021-10-18T13:39:50.396489Z",
     "start_time": "2021-10-18T13:39:50.284511Z"
    },
    "scrolled": true
   },
   "outputs": [
    {
     "data": {
      "text/plain": [
       "DATE\n",
       "2001-01-01   -2.409091\n",
       "2001-01-02   -5.762435\n",
       "2001-01-03   -7.387755\n",
       "2001-01-04   -1.461538\n",
       "2001-01-05   -4.313099\n",
       "                ...   \n",
       "2021-10-10    0.000000\n",
       "2021-10-11    0.000000\n",
       "2021-10-12    0.000000\n",
       "2021-10-13   -4.283951\n",
       "2021-10-14   -5.168901\n",
       "Freq: D, Name: Depth, Length: 7592, dtype: float64"
      ]
     },
     "execution_count": 997,
     "metadata": {},
     "output_type": "execute_result"
    }
   ],
   "source": [
    "Depth_anom=pd.concat(\n",
    "    list(map(\n",
    "        lambda data:data-Depth_clim.where(Depth_clim.index.isin(data.index.dayofyear)).dropna().values\n",
    "        ,year_group)\n",
    "        )\n",
    ")\n",
    "Depth_anom"
   ]
  },
  {
   "cell_type": "code",
   "execution_count": 1029,
   "metadata": {
    "ExecuteTime": {
     "end_time": "2021-10-18T13:47:01.300706Z",
     "start_time": "2021-10-18T13:47:00.800106Z"
    }
   },
   "outputs": [
    {
     "data": {
      "text/plain": [
       "[<matplotlib.lines.Line2D at 0x7fef236cb690>]"
      ]
     },
     "execution_count": 1029,
     "metadata": {},
     "output_type": "execute_result"
    },
    {
     "data": {
      "image/png": "[encoded data removed]",
      "text/plain": [
       "<Figure size 792x432 with 1 Axes>"
      ]
     },
     "metadata": {
      "needs_background": "light"
     },
     "output_type": "display_data"
    }
   ],
   "source": [
    "fig,ax=plt.subplots(figsize=(11,6))\n",
    "ax.plot(Depth_anom[:100],lw=0.5,color='r')\n",
    "ax.plot(day_Depth[:100],lw=0.5,color='b')\n",
    "ax.plot(Depth_anom.index[:100],Depth_clim.values[:100],lw=0.8,color='k')"
   ]
  },
  {
   "cell_type": "code",
   "execution_count": null,
   "metadata": {},
   "outputs": [],
   "source": []
  }
 ],
 "metadata": {
  "kernelspec": {
   "display_name": "Python 3",
   "language": "python",
   "name": "python3"
  },
  "language_info": {
   "codemirror_mode": {
    "name": "ipython",
    "version": 3
   },
   "file_extension": ".py",
   "mimetype": "text/x-python",
   "name": "python",
   "nbconvert_exporter": "python",
   "pygments_lexer": "ipython3",
   "version": "3.7.6"
  },
  "toc": {
   "base_numbering": 1,
   "nav_menu": {},
   "number_sections": true,
   "sideBar": true,
   "skip_h1_title": false,
   "title_cell": "Table of Contents",
   "title_sidebar": "Contents",
   "toc_cell": true,
   "toc_position": {},
   "toc_section_display": true,
   "toc_window_display": false
  }
 },
 "nbformat": 4,
 "nbformat_minor": 4
}
