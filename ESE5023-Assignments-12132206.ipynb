{
 "cells": [
  {
   "cell_type": "markdown",
   "metadata": {
    "toc": true
   },
   "source": [
    "<h1>Table of Contents<span class=\"tocSkip\"></span></h1>\n",
    "<div class=\"toc\"><ul class=\"toc-item\"><li><span><a href=\"#1.-Flowchart\" data-toc-modified-id=\"1.-Flowchart-1\"><span class=\"toc-item-num\">1&nbsp;&nbsp;</span>1. Flowchart</a></span></li><li><span><a href=\"#Matrix-multiplication\" data-toc-modified-id=\"Matrix-multiplication-2\"><span class=\"toc-item-num\">2&nbsp;&nbsp;</span>Matrix multiplication</a></span><ul class=\"toc-item\"><li><span><a href=\"#Create-random-matrices\" data-toc-modified-id=\"Create-random-matrices-2.1\"><span class=\"toc-item-num\">2.1&nbsp;&nbsp;</span>Create random matrices</a></span></li><li><span><a href=\"#Matrix-multiplication\" data-toc-modified-id=\"Matrix-multiplication-2.2\"><span class=\"toc-item-num\">2.2&nbsp;&nbsp;</span>Matrix multiplication</a></span><ul class=\"toc-item\"><li><span><a href=\"#Notice-the-difference-between-np.multiply-and-*\" data-toc-modified-id=\"Notice-the-difference-between-np.multiply-and-*-2.2.1\"><span class=\"toc-item-num\">2.2.1&nbsp;&nbsp;</span>Notice the difference between np.multiply and *</a></span></li></ul></li></ul></li><li><span><a href=\"#Pascal-triangle\" data-toc-modified-id=\"Pascal-triangle-3\"><span class=\"toc-item-num\">3&nbsp;&nbsp;</span>Pascal triangle</a></span></li><li><span><a href=\"#Add-or-double\" data-toc-modified-id=\"Add-or-double-4\"><span class=\"toc-item-num\">4&nbsp;&nbsp;</span>Add or double</a></span></li></ul></div>"
   ]
  },
  {
   "cell_type": "markdown",
   "metadata": {},
   "source": [
    "Assignment 01 Shijing Liang"
   ]
  },
  {
   "cell_type": "markdown",
   "metadata": {},
   "source": [
    "# 1. Flowchart"
   ]
  },
  {
   "attachments": {
    "%E5%9B%BE%E7%89%87.png": {
     "image/png": "[encoded data removed]"
    }
   },
   "cell_type": "markdown",
   "metadata": {},
   "source": [
    "![%E5%9B%BE%E7%89%87.png](attachment:%E5%9B%BE%E7%89%87.png)"
   ]
  },
  {
   "cell_type": "code",
   "execution_count": 44,
   "metadata": {
    "ExecuteTime": {
     "end_time": "2021-09-22T11:24:28.175332Z",
     "start_time": "2021-09-22T11:24:28.165559Z"
    }
   },
   "outputs": [],
   "source": [
    "def Print_values(a,b,c):\n",
    "    if (a>b):    # if: if condition satisfies, stop running\n",
    "        if(b>c): # if & elif: elif allows judging from previous states\n",
    "            print(a,b,c)\n",
    "        if(b<c):\n",
    "            if (a>c):\n",
    "                print(a,c,b)\n",
    "            else:\n",
    "                print(c,a,b)\n",
    "    if (a<b):\n",
    "        if(b>c):\n",
    "                print(c,a,b)\n",
    "        else:\n",
    "                print(c,b,a)\n",
    "                "
   ]
  },
  {
   "cell_type": "code",
   "execution_count": 51,
   "metadata": {
    "ExecuteTime": {
     "end_time": "2021-09-22T11:25:05.370628Z",
     "start_time": "2021-09-22T11:25:05.362858Z"
    }
   },
   "outputs": [],
   "source": [
    "a,b,c = 2,3,1"
   ]
  },
  {
   "cell_type": "code",
   "execution_count": 52,
   "metadata": {
    "ExecuteTime": {
     "end_time": "2021-09-22T11:25:09.524326Z",
     "start_time": "2021-09-22T11:25:09.518181Z"
    }
   },
   "outputs": [
    {
     "name": "stdout",
     "output_type": "stream",
     "text": [
      "1 2 3\n"
     ]
    }
   ],
   "source": [
    "c = Print_values(a,b,c)"
   ]
  },
  {
   "cell_type": "markdown",
   "metadata": {},
   "source": [
    "#  Matrix multiplication"
   ]
  },
  {
   "cell_type": "code",
   "execution_count": 53,
   "metadata": {
    "ExecuteTime": {
     "end_time": "2021-09-22T11:26:11.832266Z",
     "start_time": "2021-09-22T11:26:11.574065Z"
    }
   },
   "outputs": [],
   "source": [
    "import numpy as np"
   ]
  },
  {
   "cell_type": "markdown",
   "metadata": {},
   "source": [
    "## Create random matrices"
   ]
  },
  {
   "cell_type": "code",
   "execution_count": 118,
   "metadata": {
    "ExecuteTime": {
     "end_time": "2021-09-22T12:12:21.992394Z",
     "start_time": "2021-09-22T12:12:21.987327Z"
    }
   },
   "outputs": [],
   "source": [
    "M1 = np.matrix(np.random.rand(5,10)*50)\n",
    "M2 = np.matrix(np.random.rand(10,5)*50)"
   ]
  },
  {
   "cell_type": "code",
   "execution_count": 119,
   "metadata": {
    "ExecuteTime": {
     "end_time": "2021-09-22T12:12:22.454406Z",
     "start_time": "2021-09-22T12:12:22.447470Z"
    },
    "scrolled": true
   },
   "outputs": [
    {
     "data": {
      "text/plain": [
       "((5, 10), (10, 5))"
      ]
     },
     "execution_count": 119,
     "metadata": {},
     "output_type": "execute_result"
    }
   ],
   "source": [
    "M1.shape, M2.shape"
   ]
  },
  {
   "cell_type": "markdown",
   "metadata": {},
   "source": [
    "## Matrix multiplication"
   ]
  },
  {
   "cell_type": "code",
   "execution_count": 164,
   "metadata": {
    "ExecuteTime": {
     "end_time": "2021-09-22T12:30:25.205099Z",
     "start_time": "2021-09-22T12:30:25.191298Z"
    }
   },
   "outputs": [],
   "source": [
    "def Matrix_multip(M1,M2):\n",
    "    row1,col1 = M1.shape\n",
    "    row2,col2 = M2.shape\n",
    "    \n",
    "    if (col1 != row2):\n",
    "        M2_t = M2.reshape((col2,row2))\n",
    "        row2_t,col2_t = M2_t.shape\n",
    "        M2 = M2_t\n",
    "        print('Transpose M2')\n",
    "    \n",
    "        if (col1 != row2_t):\n",
    "            return print('Matrix Multiplication False: Shape error')\n",
    "            \n",
    "    elif (col1 == row2):\n",
    "        global out_matrix\n",
    "        out_matrix = np.matrix(np.zeros((M1.shape[0],M2.shape[1])))\n",
    "        for i in range(out_matrix.shape[0]):\n",
    "            for j in range(out_matrix.shape[1]):\n",
    "                out_matrix[i,j] = M1[i,:]*M2[:,j]\n",
    "                \n",
    "    return out_matrix\n",
    "                \n",
    "        "
   ]
  },
  {
   "cell_type": "code",
   "execution_count": 165,
   "metadata": {
    "ExecuteTime": {
     "end_time": "2021-09-22T12:30:26.832518Z",
     "start_time": "2021-09-22T12:30:26.820332Z"
    },
    "scrolled": true
   },
   "outputs": [
    {
     "data": {
      "text/plain": [
       "matrix([[6978.72739073, 6056.09336446, 7250.3046309 , 4853.52425858,\n",
       "         5214.79769824],\n",
       "        [5928.53839183, 7071.11287022, 6962.99832526, 5547.45671514,\n",
       "         3545.66849203],\n",
       "        [8567.92537979, 5908.97300459, 8031.38173379, 4924.41726514,\n",
       "         5718.57890333],\n",
       "        [7921.98302375, 8875.03474619, 7810.31515819, 7256.9861673 ,\n",
       "         6130.09163933],\n",
       "        [5070.0761337 , 6075.58796698, 5668.16034239, 4332.87332894,\n",
       "         4965.09278146]])"
      ]
     },
     "execution_count": 165,
     "metadata": {},
     "output_type": "execute_result"
    }
   ],
   "source": [
    "Mul_M = Matrix_multip(M1,M2)\n",
    "Mul_M"
   ]
  },
  {
   "cell_type": "markdown",
   "metadata": {},
   "source": [
    "Check our results"
   ]
  },
  {
   "cell_type": "code",
   "execution_count": 166,
   "metadata": {
    "ExecuteTime": {
     "end_time": "2021-09-22T12:30:29.108050Z",
     "start_time": "2021-09-22T12:30:29.100081Z"
    },
    "scrolled": true
   },
   "outputs": [
    {
     "data": {
      "text/plain": [
       "matrix([[6978.72739073, 6056.09336446, 7250.3046309 , 4853.52425858,\n",
       "         5214.79769824],\n",
       "        [5928.53839183, 7071.11287022, 6962.99832526, 5547.45671514,\n",
       "         3545.66849203],\n",
       "        [8567.92537979, 5908.97300459, 8031.38173379, 4924.41726514,\n",
       "         5718.57890333],\n",
       "        [7921.98302375, 8875.03474619, 7810.31515819, 7256.9861673 ,\n",
       "         6130.09163933],\n",
       "        [5070.0761337 , 6075.58796698, 5668.16034239, 4332.87332894,\n",
       "         4965.09278146]])"
      ]
     },
     "execution_count": 166,
     "metadata": {},
     "output_type": "execute_result"
    }
   ],
   "source": [
    "M1*M2"
   ]
  },
  {
   "cell_type": "code",
   "execution_count": 167,
   "metadata": {
    "ExecuteTime": {
     "end_time": "2021-09-22T12:30:30.548426Z",
     "start_time": "2021-09-22T12:30:30.543535Z"
    }
   },
   "outputs": [
    {
     "name": "stdout",
     "output_type": "stream",
     "text": [
      "Transpose M2\n"
     ]
    }
   ],
   "source": [
    "Mul_M2 = Matrix_multip(M1,M2.transpose())"
   ]
  },
  {
   "cell_type": "code",
   "execution_count": 168,
   "metadata": {
    "ExecuteTime": {
     "end_time": "2021-09-22T12:30:31.356617Z",
     "start_time": "2021-09-22T12:30:31.350053Z"
    }
   },
   "outputs": [
    {
     "data": {
      "text/plain": [
       "matrix([[6978.72739073, 6056.09336446, 7250.3046309 , 4853.52425858,\n",
       "         5214.79769824],\n",
       "        [5928.53839183, 7071.11287022, 6962.99832526, 5547.45671514,\n",
       "         3545.66849203],\n",
       "        [8567.92537979, 5908.97300459, 8031.38173379, 4924.41726514,\n",
       "         5718.57890333],\n",
       "        [7921.98302375, 8875.03474619, 7810.31515819, 7256.9861673 ,\n",
       "         6130.09163933],\n",
       "        [5070.0761337 , 6075.58796698, 5668.16034239, 4332.87332894,\n",
       "         4965.09278146]])"
      ]
     },
     "execution_count": 168,
     "metadata": {},
     "output_type": "execute_result"
    }
   ],
   "source": [
    "Mul_M2"
   ]
  },
  {
   "cell_type": "code",
   "execution_count": 172,
   "metadata": {
    "ExecuteTime": {
     "end_time": "2021-09-22T12:33:06.369303Z",
     "start_time": "2021-09-22T12:33:06.360446Z"
    }
   },
   "outputs": [
    {
     "name": "stdout",
     "output_type": "stream",
     "text": [
      "Transpose M2\n",
      "Matrix Multiplication False: Shape error\n"
     ]
    }
   ],
   "source": [
    "Mul_M3 = Matrix_multip(M1,np.identity(4))"
   ]
  },
  {
   "cell_type": "markdown",
   "metadata": {},
   "source": [
    "### Notice the difference between np.multiply and *"
   ]
  },
  {
   "cell_type": "code",
   "execution_count": 114,
   "metadata": {
    "ExecuteTime": {
     "end_time": "2021-09-22T12:12:04.495355Z",
     "start_time": "2021-09-22T12:12:04.488080Z"
    }
   },
   "outputs": [],
   "source": [
    "M3 = np.matrix(np.ones((5,5)))\n",
    "M4 = np.identity(5)"
   ]
  },
  {
   "cell_type": "code",
   "execution_count": 115,
   "metadata": {
    "ExecuteTime": {
     "end_time": "2021-09-22T12:12:08.944638Z",
     "start_time": "2021-09-22T12:12:08.934194Z"
    },
    "scrolled": true
   },
   "outputs": [
    {
     "data": {
      "text/plain": [
       "(matrix([[1., 1., 1., 1., 1.],\n",
       "         [1., 1., 1., 1., 1.],\n",
       "         [1., 1., 1., 1., 1.],\n",
       "         [1., 1., 1., 1., 1.],\n",
       "         [1., 1., 1., 1., 1.]]),\n",
       " array([[1., 0., 0., 0., 0.],\n",
       "        [0., 1., 0., 0., 0.],\n",
       "        [0., 0., 1., 0., 0.],\n",
       "        [0., 0., 0., 1., 0.],\n",
       "        [0., 0., 0., 0., 1.]]))"
      ]
     },
     "execution_count": 115,
     "metadata": {},
     "output_type": "execute_result"
    }
   ],
   "source": [
    "M3,M4"
   ]
  },
  {
   "cell_type": "markdown",
   "metadata": {},
   "source": [
    "**Except for 1-dimension vectors, '*' is matrix multiplication**"
   ]
  },
  {
   "cell_type": "code",
   "execution_count": 116,
   "metadata": {
    "ExecuteTime": {
     "end_time": "2021-09-22T12:12:12.970744Z",
     "start_time": "2021-09-22T12:12:12.960293Z"
    }
   },
   "outputs": [
    {
     "data": {
      "text/plain": [
       "matrix([[1., 1., 1., 1., 1.],\n",
       "        [1., 1., 1., 1., 1.],\n",
       "        [1., 1., 1., 1., 1.],\n",
       "        [1., 1., 1., 1., 1.],\n",
       "        [1., 1., 1., 1., 1.]])"
      ]
     },
     "execution_count": 116,
     "metadata": {},
     "output_type": "execute_result"
    }
   ],
   "source": [
    "M3*M4"
   ]
  },
  {
   "cell_type": "markdown",
   "metadata": {},
   "source": [
    "**np.multiply is the multuplication among elements**"
   ]
  },
  {
   "cell_type": "code",
   "execution_count": 117,
   "metadata": {
    "ExecuteTime": {
     "end_time": "2021-09-22T12:12:17.168965Z",
     "start_time": "2021-09-22T12:12:17.159298Z"
    }
   },
   "outputs": [
    {
     "data": {
      "text/plain": [
       "matrix([[1., 0., 0., 0., 0.],\n",
       "        [0., 1., 0., 0., 0.],\n",
       "        [0., 0., 1., 0., 0.],\n",
       "        [0., 0., 0., 1., 0.],\n",
       "        [0., 0., 0., 0., 1.]])"
      ]
     },
     "execution_count": 117,
     "metadata": {},
     "output_type": "execute_result"
    }
   ],
   "source": [
    "np.multiply(M3,M4)"
   ]
  },
  {
   "cell_type": "markdown",
   "metadata": {},
   "source": [
    "# Pascal triangle"
   ]
  },
  {
   "cell_type": "code",
   "execution_count": 204,
   "metadata": {
    "ExecuteTime": {
     "end_time": "2021-09-22T12:44:58.769444Z",
     "start_time": "2021-09-22T12:44:58.766196Z"
    }
   },
   "outputs": [],
   "source": [
    "# Import libraries\n",
    "from math import factorial\n",
    "import matplotlib.pyplot as plt"
   ]
  },
  {
   "attachments": {
    "%E5%9B%BE%E7%89%87.png": {
     "image/png": "[encoded data removed]"
    }
   },
   "cell_type": "markdown",
   "metadata": {},
   "source": [
    "![%E5%9B%BE%E7%89%87.png](attachment:%E5%9B%BE%E7%89%87.png)"
   ]
  },
  {
   "cell_type": "code",
   "execution_count": 187,
   "metadata": {
    "ExecuteTime": {
     "end_time": "2021-09-22T12:40:59.126868Z",
     "start_time": "2021-09-22T12:40:59.121917Z"
    }
   },
   "outputs": [],
   "source": [
    "def Pascal_triangle(n):\n",
    "    out_array = np.zeros(n+1)\n",
    "    for k in range(0,n+1):\n",
    "        out_array[k] = factorial(n) / (factorial(k)*factorial(n-k))\n",
    "    return out_array"
   ]
  },
  {
   "cell_type": "code",
   "execution_count": 198,
   "metadata": {
    "ExecuteTime": {
     "end_time": "2021-09-22T12:44:08.585115Z",
     "start_time": "2021-09-22T12:44:08.573448Z"
    }
   },
   "outputs": [
    {
     "data": {
      "text/plain": [
       "array([1.00000000e+00, 1.00000000e+02, 4.95000000e+03, 1.61700000e+05,\n",
       "       3.92122500e+06, 7.52875200e+07, 1.19205240e+09, 1.60075608e+10,\n",
       "       1.86087894e+11, 1.90223181e+12, 1.73103095e+13, 1.41629805e+14,\n",
       "       1.05042105e+15, 7.11054250e+15, 4.41869427e+16, 2.53338471e+17,\n",
       "       1.34586063e+18, 6.65013487e+18, 3.06645108e+19, 1.32341573e+20,\n",
       "       5.35983370e+20, 2.04184141e+21, 7.33206689e+21, 2.48652703e+22,\n",
       "       7.97760756e+22, 2.42519270e+23, 6.99574817e+23, 1.91735320e+24,\n",
       "       4.99881370e+24, 1.24108478e+25, 2.93723398e+25, 6.63246383e+25,\n",
       "       1.43012501e+26, 2.94692427e+26, 5.80717430e+26, 1.09506715e+27,\n",
       "       1.97720458e+27, 3.42002955e+27, 5.67004899e+27, 9.01392403e+27,\n",
       "       1.37462341e+28, 2.01164402e+28, 2.82588089e+28, 3.81165329e+28,\n",
       "       4.93782358e+28, 6.14484712e+28, 7.34709982e+28, 8.44134873e+28,\n",
       "       9.32065589e+28, 9.89130829e+28, 1.00891345e+29, 9.89130829e+28,\n",
       "       9.32065589e+28, 8.44134873e+28, 7.34709982e+28, 6.14484712e+28,\n",
       "       4.93782358e+28, 3.81165329e+28, 2.82588089e+28, 2.01164402e+28,\n",
       "       1.37462341e+28, 9.01392403e+27, 5.67004899e+27, 3.42002955e+27,\n",
       "       1.97720458e+27, 1.09506715e+27, 5.80717430e+26, 2.94692427e+26,\n",
       "       1.43012501e+26, 6.63246383e+25, 2.93723398e+25, 1.24108478e+25,\n",
       "       4.99881370e+24, 1.91735320e+24, 6.99574817e+23, 2.42519270e+23,\n",
       "       7.97760756e+22, 2.48652703e+22, 7.33206689e+21, 2.04184141e+21,\n",
       "       5.35983370e+20, 1.32341573e+20, 3.06645108e+19, 6.65013487e+18,\n",
       "       1.34586063e+18, 2.53338471e+17, 4.41869427e+16, 7.11054250e+15,\n",
       "       1.05042105e+15, 1.41629805e+14, 1.73103095e+13, 1.90223181e+12,\n",
       "       1.86087894e+11, 1.60075608e+10, 1.19205240e+09, 7.52875200e+07,\n",
       "       3.92122500e+06, 1.61700000e+05, 4.95000000e+03, 1.00000000e+02,\n",
       "       1.00000000e+00])"
      ]
     },
     "execution_count": 198,
     "metadata": {},
     "output_type": "execute_result"
    }
   ],
   "source": [
    "Pascal_triangle(100)"
   ]
  },
  {
   "cell_type": "code",
   "execution_count": 193,
   "metadata": {
    "ExecuteTime": {
     "end_time": "2021-09-22T12:41:36.025552Z",
     "start_time": "2021-09-22T12:41:36.010708Z"
    },
    "scrolled": true
   },
   "outputs": [
    {
     "data": {
      "text/plain": [
       "array([1.00000000e+00, 2.00000000e+02, 1.99000000e+04, 1.31340000e+06,\n",
       "       6.46849500e+07, 2.53565004e+09, 8.24086263e+10, 2.28389621e+12,\n",
       "       5.50989962e+13, 1.17544525e+15, 2.24510043e+16, 3.87790074e+17,\n",
       "       6.10769367e+18, 8.83266470e+19, 1.17979164e+21, 1.46294164e+22,\n",
       "       1.69152627e+23, 1.83082843e+24, 1.86134224e+25, 1.78296993e+26,\n",
       "       1.61358779e+27, 1.38307525e+28, 1.12532031e+29, 8.70900069e+29,\n",
       "       6.42288801e+30, 4.52171316e+31, 3.04346078e+32, 1.96134139e+33,\n",
       "       1.21182879e+34, 7.18739833e+34, 4.09681705e+35, 2.24664161e+36,\n",
       "       1.18650760e+37, 6.04040232e+37, 2.96690349e+38, 1.40715994e+39,\n",
       "       6.44948307e+39, 2.85868979e+40, 1.22622746e+41, 5.09356024e+41,\n",
       "       2.05015800e+42, 8.00061657e+42, 3.02880484e+43, 1.11290969e+44,\n",
       "       3.97106411e+44, 1.37663556e+45, 4.63866329e+45, 1.51990244e+46,\n",
       "       4.84468903e+46, 1.50284231e+47, 4.53858378e+47, 1.33487758e+48,\n",
       "       3.82493769e+48, 1.06809581e+49, 2.90759414e+49, 7.71834081e+49,\n",
       "       1.99849896e+50, 5.04883948e+50, 1.24480008e+51, 2.99595951e+51,\n",
       "       7.04050485e+51, 1.61585357e+52, 3.62263946e+52, 7.93530548e+52,\n",
       "       1.69865133e+53, 3.55410124e+53, 7.26975255e+53, 1.45395051e+54,\n",
       "       2.84375614e+54, 5.44022914e+54, 1.01810003e+55, 1.86412681e+55,\n",
       "       3.33989386e+55, 5.85625225e+55, 1.00505951e+56, 1.68849997e+56,\n",
       "       2.77713811e+56, 4.47227437e+56, 7.05243265e+56, 1.08910985e+57,\n",
       "       1.64727865e+57, 2.44041282e+57, 3.54157470e+57, 5.03500981e+57,\n",
       "       7.01304938e+57, 9.57074975e+57, 1.27980956e+58, 1.67699184e+58,\n",
       "       2.15340997e+58, 2.70990918e+58, 3.34222132e+58, 4.04004775e+58,\n",
       "       4.78657831e+58, 5.55860707e+58, 6.32735060e+58, 7.05999120e+58,\n",
       "       7.72186537e+58, 8.27911339e+58, 8.70151713e+58, 8.96519947e+58,\n",
       "       9.05485147e+58, 8.96519947e+58, 8.70151713e+58, 8.27911339e+58,\n",
       "       7.72186537e+58, 7.05999120e+58, 6.32735060e+58, 5.55860707e+58,\n",
       "       4.78657831e+58, 4.04004775e+58, 3.34222132e+58, 2.70990918e+58,\n",
       "       2.15340997e+58, 1.67699184e+58, 1.27980956e+58, 9.57074975e+57,\n",
       "       7.01304938e+57, 5.03500981e+57, 3.54157470e+57, 2.44041282e+57,\n",
       "       1.64727865e+57, 1.08910985e+57, 7.05243265e+56, 4.47227437e+56,\n",
       "       2.77713811e+56, 1.68849997e+56, 1.00505951e+56, 5.85625225e+55,\n",
       "       3.33989386e+55, 1.86412681e+55, 1.01810003e+55, 5.44022914e+54,\n",
       "       2.84375614e+54, 1.45395051e+54, 7.26975255e+53, 3.55410124e+53,\n",
       "       1.69865133e+53, 7.93530548e+52, 3.62263946e+52, 1.61585357e+52,\n",
       "       7.04050485e+51, 2.99595951e+51, 1.24480008e+51, 5.04883948e+50,\n",
       "       1.99849896e+50, 7.71834081e+49, 2.90759414e+49, 1.06809581e+49,\n",
       "       3.82493769e+48, 1.33487758e+48, 4.53858378e+47, 1.50284231e+47,\n",
       "       4.84468903e+46, 1.51990244e+46, 4.63866329e+45, 1.37663556e+45,\n",
       "       3.97106411e+44, 1.11290969e+44, 3.02880484e+43, 8.00061657e+42,\n",
       "       2.05015800e+42, 5.09356024e+41, 1.22622746e+41, 2.85868979e+40,\n",
       "       6.44948307e+39, 1.40715994e+39, 2.96690349e+38, 6.04040232e+37,\n",
       "       1.18650760e+37, 2.24664161e+36, 4.09681705e+35, 7.18739833e+34,\n",
       "       1.21182879e+34, 1.96134139e+33, 3.04346078e+32, 4.52171316e+31,\n",
       "       6.42288801e+30, 8.70900069e+29, 1.12532031e+29, 1.38307525e+28,\n",
       "       1.61358779e+27, 1.78296993e+26, 1.86134224e+25, 1.83082843e+24,\n",
       "       1.69152627e+23, 1.46294164e+22, 1.17979164e+21, 8.83266470e+19,\n",
       "       6.10769367e+18, 3.87790074e+17, 2.24510043e+16, 1.17544525e+15,\n",
       "       5.50989962e+13, 2.28389621e+12, 8.24086263e+10, 2.53565004e+09,\n",
       "       6.46849500e+07, 1.31340000e+06, 1.99000000e+04, 2.00000000e+02,\n",
       "       1.00000000e+00])"
      ]
     },
     "execution_count": 193,
     "metadata": {},
     "output_type": "execute_result"
    }
   ],
   "source": [
    "Pascal_triangle(200)"
   ]
  },
  {
   "cell_type": "code",
   "execution_count": 202,
   "metadata": {
    "ExecuteTime": {
     "end_time": "2021-09-22T12:44:46.160290Z",
     "start_time": "2021-09-22T12:44:46.146859Z"
    }
   },
   "outputs": [
    {
     "ename": "TypeError",
     "evalue": "'module' object is not callable",
     "output_type": "error",
     "traceback": [
      "\u001b[0;31m---------------------------------------------------------------------------\u001b[0m",
      "\u001b[0;31mTypeError\u001b[0m                                 Traceback (most recent call last)",
      "\u001b[0;32m<ipython-input-202-d7a00f75d960>\u001b[0m in \u001b[0;36m<module>\u001b[0;34m\u001b[0m\n\u001b[0;32m----> 1\u001b[0;31m \u001b[0mplt\u001b[0m\u001b[0;34m(\u001b[0m\u001b[0mPascal_triangle\u001b[0m\u001b[0;34m(\u001b[0m\u001b[0;36m100\u001b[0m\u001b[0;34m)\u001b[0m\u001b[0;34m)\u001b[0m\u001b[0;34m\u001b[0m\u001b[0;34m\u001b[0m\u001b[0m\n\u001b[0m",
      "\u001b[0;31mTypeError\u001b[0m: 'module' object is not callable"
     ]
    }
   ],
   "source": [
    "plt(Pascal_triangle(100))"
   ]
  },
  {
   "cell_type": "code",
   "execution_count": 213,
   "metadata": {
    "ExecuteTime": {
     "end_time": "2021-09-22T12:46:21.828374Z",
     "start_time": "2021-09-22T12:46:21.162509Z"
    }
   },
   "outputs": [
    {
     "data": {
      "text/plain": [
       "[<matplotlib.lines.Line2D at 0x7f0304a9eb10>]"
      ]
     },
     "execution_count": 213,
     "metadata": {},
     "output_type": "execute_result"
    },
    {
     "data": {
      "image/png": "[encoded data removed]",
      "text/plain": [
       "<Figure size 792x360 with 2 Axes>"
      ]
     },
     "metadata": {
      "needs_background": "light"
     },
     "output_type": "display_data"
    }
   ],
   "source": [
    "fig,ax = plt.subplots(1,2,figsize=(11,5))\n",
    "ax[0].plot(Pascal_triangle(100))\n",
    "ax[1].plot(Pascal_triangle(200),'r')"
   ]
  },
  {
   "cell_type": "markdown",
   "metadata": {},
   "source": [
    "# Add or double"
   ]
  },
  {
   "cell_type": "code",
   "execution_count": 464,
   "metadata": {
    "ExecuteTime": {
     "end_time": "2021-09-23T03:42:45.846516Z",
     "start_time": "2021-09-23T03:42:45.842207Z"
    }
   },
   "outputs": [],
   "source": [
    "def Loss(x_step,x):\n",
    "    delta = x - sum(x_step)\n",
    "    return delta"
   ]
  },
  {
   "cell_type": "code",
   "execution_count": 499,
   "metadata": {
    "ExecuteTime": {
     "end_time": "2021-09-23T03:54:11.534678Z",
     "start_time": "2021-09-23T03:54:11.524097Z"
    }
   },
   "outputs": [],
   "source": [
    "x0_step.insert(-1,1)"
   ]
  },
  {
   "cell_type": "code",
   "execution_count": 498,
   "metadata": {
    "ExecuteTime": {
     "end_time": "2021-09-23T03:54:08.902116Z",
     "start_time": "2021-09-23T03:54:08.884074Z"
    }
   },
   "outputs": [],
   "source": [
    "x0_step = []"
   ]
  },
  {
   "cell_type": "code",
   "execution_count": 546,
   "metadata": {
    "ExecuteTime": {
     "end_time": "2021-09-23T04:06:51.335643Z",
     "start_time": "2021-09-23T04:06:51.313799Z"
    }
   },
   "outputs": [],
   "source": [
    "def Gradient(x,x_step,iters):\n",
    "    for i in range(iters):\n",
    "        if (Loss(x_step,x)>0):\n",
    "            x_step.append(1)\n",
    "            test1 = x_step\n",
    "            loss1 = Loss(test1,x)\n",
    "            x_step.pop(-1)\n",
    "            \n",
    "            test2 = list(np.asarray(x_step)*2)\n",
    "            loss2 = Loss(test2,x)\n",
    "            if (loss2>=0 & loss2<loss1):\n",
    "                x_step = test2\n",
    "                loss.append(loss2)#loss[i] = loss2\n",
    "            else:\n",
    "                x_step.append(1)\n",
    "                loss.append(loss1)#loss[i] = loss1\n",
    "        #else:\n",
    "            #loss[i] = 'NAN'\n",
    "        test1 = []\n",
    "        test2 = []\n",
    "    return x_step,loss\n",
    "\n",
    "def Least_moves(rand):\n",
    "    moves = len(Gradient(rand,x0_step,iters)[1])\n",
    "    return moves"
   ]
  },
  {
   "cell_type": "code",
   "execution_count": 554,
   "metadata": {
    "ExecuteTime": {
     "end_time": "2021-09-23T04:08:11.705457Z",
     "start_time": "2021-09-23T04:08:11.690923Z"
    }
   },
   "outputs": [
    {
     "data": {
      "text/plain": [
       "([4, 1], [3, 1, 0])"
      ]
     },
     "execution_count": 554,
     "metadata": {},
     "output_type": "execute_result"
    }
   ],
   "source": [
    "rand=5\n",
    "iters = 100\n",
    "loss = []#np.zeros(iters)\n",
    "x0_step = [1,]\n",
    "\n",
    "Gradient(rand,x0_step,iters)"
   ]
  },
  {
   "cell_type": "code",
   "execution_count": null,
   "metadata": {},
   "outputs": [],
   "source": []
  },
  {
   "cell_type": "markdown",
   "metadata": {},
   "source": [
    "itertools"
   ]
  },
  {
   "cell_type": "markdown",
   "metadata": {},
   "source": [
    "node 1: "
   ]
  }
 ],
 "metadata": {
  "kernelspec": {
   "display_name": "Python 3",
   "language": "python",
   "name": "python3"
  },
  "language_info": {
   "codemirror_mode": {
    "name": "ipython",
    "version": 3
   },
   "file_extension": ".py",
   "mimetype": "text/x-python",
   "name": "python",
   "nbconvert_exporter": "python",
   "pygments_lexer": "ipython3",
   "version": "3.7.6"
  },
  "toc": {
   "base_numbering": 1,
   "nav_menu": {},
   "number_sections": true,
   "sideBar": true,
   "skip_h1_title": false,
   "title_cell": "Table of Contents",
   "title_sidebar": "Contents",
   "toc_cell": true,
   "toc_position": {},
   "toc_section_display": true,
   "toc_window_display": false
  }
 },
 "nbformat": 4,
 "nbformat_minor": 4
}
