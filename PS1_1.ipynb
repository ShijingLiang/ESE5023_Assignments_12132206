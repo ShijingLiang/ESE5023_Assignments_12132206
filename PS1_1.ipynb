{
 "cells": [
  {
   "cell_type": "markdown",
   "metadata": {
    "toc": true
   },
   "source": [
    "<h1>Table of Contents<span class=\"tocSkip\"></span></h1>\n",
    "<div class=\"toc\"><ul class=\"toc-item\"><li><span><a href=\"#1.-Flowchart\" data-toc-modified-id=\"1.-Flowchart-1\"><span class=\"toc-item-num\">1&nbsp;&nbsp;</span>1. Flowchart</a></span></li></ul></div>"
   ]
  },
  {
   "cell_type": "markdown",
   "metadata": {},
   "source": [
    "# 1. Flowchart\n",
    "\n",
    "[10 points] Write a function Print_values with arguments a, b, and c to reflect the following flowchart. Here the purple parallelogram operator is to print values in the given order. Report your output with some random a, b, and c values."
   ]
  },
  {
   "cell_type": "code",
   "execution_count": 1,
   "metadata": {
    "ExecuteTime": {
     "end_time": "2021-10-07T01:07:11.491463Z",
     "start_time": "2021-10-07T01:07:10.959504Z"
    }
   },
   "outputs": [],
   "source": [
    "import numpy as np"
   ]
  },
  {
   "cell_type": "code",
   "execution_count": 2,
   "metadata": {
    "ExecuteTime": {
     "end_time": "2021-10-07T01:07:41.352791Z",
     "start_time": "2021-10-07T01:07:41.346904Z"
    }
   },
   "outputs": [],
   "source": [
    "def Print_values(a,b,c):\n",
    "    if (a>b):    # if: if condition satisfies, stop running\n",
    "        if(b>c): # if & elif: elif allows judging from previous states\n",
    "            print(a,b,c)\n",
    "        if(b<c):\n",
    "            if (a>c):\n",
    "                print(a,c,b)\n",
    "            else:\n",
    "                print(c,a,b)\n",
    "    if (a<b):\n",
    "        if(b>c):\n",
    "                print(c,a,b)\n",
    "        else:\n",
    "                print(c,b,a)\n",
    "                "
   ]
  },
  {
   "cell_type": "code",
   "execution_count": 3,
   "metadata": {
    "ExecuteTime": {
     "end_time": "2021-10-07T01:07:53.851910Z",
     "start_time": "2021-10-07T01:07:53.843096Z"
    }
   },
   "outputs": [],
   "source": [
    "a,b,c = 2,3,1"
   ]
  },
  {
   "cell_type": "code",
   "execution_count": 4,
   "metadata": {
    "ExecuteTime": {
     "end_time": "2021-10-07T01:07:54.812197Z",
     "start_time": "2021-10-07T01:07:54.798822Z"
    }
   },
   "outputs": [
    {
     "name": "stdout",
     "output_type": "stream",
     "text": [
      "1 2 3\n"
     ]
    }
   ],
   "source": [
    "test = Print_values(a,b,c)"
   ]
  },
  {
   "cell_type": "code",
   "execution_count": null,
   "metadata": {},
   "outputs": [],
   "source": []
  }
 ],
 "metadata": {
  "kernelspec": {
   "display_name": "Python 3",
   "language": "python",
   "name": "python3"
  },
  "language_info": {
   "codemirror_mode": {
    "name": "ipython",
    "version": 3
   },
   "file_extension": ".py",
   "mimetype": "text/x-python",
   "name": "python",
   "nbconvert_exporter": "python",
   "pygments_lexer": "ipython3",
   "version": "3.7.6"
  },
  "toc": {
   "base_numbering": 1,
   "nav_menu": {},
   "number_sections": true,
   "sideBar": true,
   "skip_h1_title": false,
   "title_cell": "Table of Contents",
   "title_sidebar": "Contents",
   "toc_cell": true,
   "toc_position": {},
   "toc_section_display": true,
   "toc_window_display": true
  }
 },
 "nbformat": 4,
 "nbformat_minor": 4
}
