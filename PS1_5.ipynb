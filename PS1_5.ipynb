{
 "cells": [
  {
   "cell_type": "markdown",
   "metadata": {
    "toc": true
   },
   "source": [
    "<h1>Table of Contents<span class=\"tocSkip\"></span></h1>\n",
    "<div class=\"toc\"><ul class=\"toc-item\"><li><span><a href=\"#5.-Dynamic-programming\" data-toc-modified-id=\"5.-Dynamic-programming-1\"><span class=\"toc-item-num\">1&nbsp;&nbsp;</span>5. Dynamic programming</a></span></li></ul></div>"
   ]
  },
  {
   "cell_type": "markdown",
   "metadata": {},
   "source": [
    "# 5. Dynamic programming\n",
    "\n",
    "Insert + or - operation anywhere between the digits 123456789 in a way that the expression evaluates to an integer number. You may join digits together to form a bigger number. However, the digits must stay in the original order.\n",
    "\n",
    "5.1 [30 points] Write a function Find_expression, which should be able to print every possible solution that makes the expression evaluate to a random integer from 1 to 100. For example, Find_expression(50) should print lines include:\n",
    "1−2+34+5+6+7+8−9=50\n",
    "and\n",
    "1+2+34−56+78−9=50\n",
    "\n",
    "5.2 [5 points] Count the total number of suitable solutions for any integer i from 1 to 100, assign the count to a list called Total_solutions. Plot the list Total_solutions, so which number(s) yields the maximum and minimum of Total_solutions?\n"
   ]
  },
  {
   "cell_type": "code",
   "execution_count": 2,
   "metadata": {
    "ExecuteTime": {
     "end_time": "2021-10-07T01:28:00.246836Z",
     "start_time": "2021-10-07T01:28:00.087596Z"
    }
   },
   "outputs": [],
   "source": [
    "import numpy as np"
   ]
  },
  {
   "cell_type": "code",
   "execution_count": 1,
   "metadata": {
    "ExecuteTime": {
     "end_time": "2021-10-07T01:27:15.170575Z",
     "start_time": "2021-10-07T01:27:15.157847Z"
    }
   },
   "outputs": [],
   "source": [
    "def calcp(num_x):\n",
    "    return '+'+ num_x\n",
    "\n",
    "def calcm(num_x):\n",
    "    return '-'+ num_x\n",
    "\n",
    "def calcc(num_xi):\n",
    "    return num_xi+''"
   ]
  },
  {
   "cell_type": "code",
   "execution_count": 12,
   "metadata": {
    "ExecuteTime": {
     "end_time": "2021-10-07T01:37:59.123360Z",
     "start_time": "2021-10-07T01:37:59.095007Z"
    }
   },
   "outputs": [],
   "source": [
    "def Find_expression(num):\n",
    "    # Three operations for digits 123456789\n",
    "    M = []\n",
    "    for i in range(2,10):\n",
    "        M.append([calcp('%s'%i),calcm('%s'%i),calcc('%s'%i)])\n",
    "    test = []\n",
    "    # List all possible expressions\n",
    "    for a in range(3):\n",
    "        for b in range(3):\n",
    "            for c in range(3):\n",
    "                for d in range(3):\n",
    "                    for e in range(3):\n",
    "                        for f in range(3):\n",
    "                            for g in range(3):\n",
    "                                for h in range(3):\n",
    "                                    test.append(('1'+M[0][a]+M[1][b]+M[2][c]+M[3][d]+M[4][e]+M[5][f]+M[6][g]+M[7][h]))\n",
    "    # The result of each espression\n",
    "    num_sum = np.zeros((len(test)))\n",
    "    for i in range(len(test)):\n",
    "        indx = []\n",
    "        for j in range(len(test[i])):        \n",
    "            if(test[i][j].isdigit()==False):\n",
    "                indx.append(j)\n",
    "        indx.append(len(test[i]))\n",
    "        num_sum[i] = int(test[i][:indx[0]])\n",
    "        for k in range(1,len(indx)):\n",
    "            num_sum[i] += int(test[i][indx[k-1]:indx[k]])\n",
    "            \n",
    "    index = np.argwhere(num_sum == num)\n",
    "    return [test[int(index[i])] for i in range(len(index))]"
   ]
  },
  {
   "cell_type": "code",
   "execution_count": 13,
   "metadata": {
    "ExecuteTime": {
     "end_time": "2021-10-07T01:37:59.826925Z",
     "start_time": "2021-10-07T01:37:59.713326Z"
    }
   },
   "outputs": [
    {
     "data": {
      "text/plain": [
       "['1+2+3-4+5+6+78+9',\n",
       " '1+2+34-5+67-8+9',\n",
       " '1+23-4+5+6+78-9',\n",
       " '1+23-4+56+7+8+9',\n",
       " '12+3+4+5-6-7+89',\n",
       " '12+3-4+5+67+8+9',\n",
       " '12-3-4+5-6+7+89',\n",
       " '123+4-5+67-89',\n",
       " '123+45-67+8-9',\n",
       " '123-4-5-6-7+8-9',\n",
       " '123-45-67+89']"
      ]
     },
     "execution_count": 13,
     "metadata": {},
     "output_type": "execute_result"
    }
   ],
   "source": [
    "Find_expression(100)"
   ]
  },
  {
   "cell_type": "code",
   "execution_count": 19,
   "metadata": {
    "ExecuteTime": {
     "end_time": "2021-10-07T01:40:15.036425Z",
     "start_time": "2021-10-07T01:40:15.016267Z"
    }
   },
   "outputs": [],
   "source": [
    "def Total_solutions():\n",
    "    tot_sols = [len(Find_expression(i)) for i in range(1,101)]\n",
    "    sols_min = np.ma.min(tot_sols)\n",
    "    sols_max = np.ma.max(tot_sols)\n",
    "    # return the [minimum/maximun steps (int), which number(s) generates the minimum/maximum steps (array)]\n",
    "    return [sols_min,np.argwhere(tot_sols==sols_min)],[sols_max,np.argwhere(tot_sols==sols_max)]"
   ]
  },
  {
   "cell_type": "code",
   "execution_count": 20,
   "metadata": {
    "ExecuteTime": {
     "end_time": "2021-10-07T01:40:22.787869Z",
     "start_time": "2021-10-07T01:40:15.343089Z"
    }
   },
   "outputs": [
    {
     "data": {
      "text/plain": [
       "([6, array([[87]])],\n",
       " [26, array([[ 0],\n",
       "         [44]])])"
      ]
     },
     "execution_count": 20,
     "metadata": {},
     "output_type": "execute_result"
    }
   ],
   "source": [
    "Total_solutions()"
   ]
  }
 ],
 "metadata": {
  "kernelspec": {
   "display_name": "Python 3",
   "language": "python",
   "name": "python3"
  },
  "language_info": {
   "codemirror_mode": {
    "name": "ipython",
    "version": 3
   },
   "file_extension": ".py",
   "mimetype": "text/x-python",
   "name": "python",
   "nbconvert_exporter": "python",
   "pygments_lexer": "ipython3",
   "version": "3.7.6"
  },
  "toc": {
   "base_numbering": 1,
   "nav_menu": {},
   "number_sections": true,
   "sideBar": true,
   "skip_h1_title": false,
   "title_cell": "Table of Contents",
   "title_sidebar": "Contents",
   "toc_cell": true,
   "toc_position": {},
   "toc_section_display": true,
   "toc_window_display": true
  }
 },
 "nbformat": 4,
 "nbformat_minor": 4
}
