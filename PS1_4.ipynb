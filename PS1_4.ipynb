{
 "cells": [
  {
   "cell_type": "markdown",
   "metadata": {
    "toc": true
   },
   "source": [
    "<h1>Table of Contents<span class=\"tocSkip\"></span></h1>\n",
    "<div class=\"toc\"><ul class=\"toc-item\"><li><span><a href=\"#4.-Add-or-double\" data-toc-modified-id=\"4.-Add-or-double-1\"><span class=\"toc-item-num\">1&nbsp;&nbsp;</span>4. Add or double</a></span></li></ul></div>"
   ]
  },
  {
   "cell_type": "markdown",
   "metadata": {},
   "source": [
    "# 4. Add or double\n",
    "\n",
    "[20 points] If you start with 1 RMB and, with each move, you can either double your money or add another 1 RMB, what is the smallest number of moves you have to make to get to exactly x RMB? Here x is an integer randomly selected from 1 to 100. Write a function Least_moves to print your results. For example, Least_moves(2) should print 1, and Least_moves(5) should print 3"
   ]
  },
  {
   "cell_type": "code",
   "execution_count": 4,
   "metadata": {
    "ExecuteTime": {
     "end_time": "2021-10-07T01:20:41.569171Z",
     "start_time": "2021-10-07T01:20:41.422203Z"
    }
   },
   "outputs": [],
   "source": [
    "import numpy as np"
   ]
  },
  {
   "cell_type": "code",
   "execution_count": 11,
   "metadata": {
    "ExecuteTime": {
     "end_time": "2021-10-07T01:23:51.301835Z",
     "start_time": "2021-10-07T01:23:51.282128Z"
    }
   },
   "outputs": [],
   "source": [
    "def Least_moves():\n",
    "    iters = 100\n",
    "    x0_step = [1,]\n",
    "    rand = int(input(\"Please type a random interger: \"))\n",
    "    xx_step = np.zeros(iters)\n",
    "    xx_step[0]=rand\n",
    "    for i in range(1,iters):\n",
    "        rand_i = rand/2\n",
    "        if (rand_i != 1):\n",
    "            if (rand%2 != 0):\n",
    "                rand_i = rand-1\n",
    "                xx_step[i] = rand_i\n",
    "            if (rand%2 ==0):\n",
    "                xx_step[i] = rand_i\n",
    "        if (rand_i == 1):\n",
    "            xx_step[i] = 1\n",
    "            break\n",
    "        rand = rand_i\n",
    "    return len([x for x in xx_step if x>0])-1"
   ]
  },
  {
   "cell_type": "code",
   "execution_count": 13,
   "metadata": {
    "ExecuteTime": {
     "end_time": "2021-10-07T01:23:58.072460Z",
     "start_time": "2021-10-07T01:23:56.191303Z"
    }
   },
   "outputs": [
    {
     "name": "stdout",
     "output_type": "stream",
     "text": [
      "Please type a random interger: 8\n"
     ]
    },
    {
     "data": {
      "text/plain": [
       "3"
      ]
     },
     "execution_count": 13,
     "metadata": {},
     "output_type": "execute_result"
    }
   ],
   "source": [
    "Least_moves()"
   ]
  }
 ],
 "metadata": {
  "kernelspec": {
   "display_name": "Python 3",
   "language": "python",
   "name": "python3"
  },
  "language_info": {
   "codemirror_mode": {
    "name": "ipython",
    "version": 3
   },
   "file_extension": ".py",
   "mimetype": "text/x-python",
   "name": "python",
   "nbconvert_exporter": "python",
   "pygments_lexer": "ipython3",
   "version": "3.7.6"
  },
  "toc": {
   "base_numbering": 1,
   "nav_menu": {},
   "number_sections": true,
   "sideBar": true,
   "skip_h1_title": false,
   "title_cell": "Table of Contents",
   "title_sidebar": "Contents",
   "toc_cell": true,
   "toc_position": {},
   "toc_section_display": true,
   "toc_window_display": true
  }
 },
 "nbformat": 4,
 "nbformat_minor": 4
}
