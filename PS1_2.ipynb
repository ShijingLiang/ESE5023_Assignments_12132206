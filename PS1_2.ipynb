{
 "cells": [
  {
   "cell_type": "markdown",
   "metadata": {
    "toc": true
   },
   "source": [
    "<h1>Table of Contents<span class=\"tocSkip\"></span></h1>\n",
    "<div class=\"toc\"><ul class=\"toc-item\"><li><span><a href=\"#2.-Matrix-multiplication\" data-toc-modified-id=\"2.-Matrix-multiplication-1\"><span class=\"toc-item-num\">1&nbsp;&nbsp;</span>2. Matrix multiplication</a></span></li></ul></div>"
   ]
  },
  {
   "cell_type": "markdown",
   "metadata": {},
   "source": [
    "# 2. Matrix multiplication\n",
    "\n",
    "2.1 [5 points] Make two matrices M1 (5 rows and 10 columns ) and M2 (10 rows and 5 columns ); both are filled with random integers from 0 and 50."
   ]
  },
  {
   "cell_type": "code",
   "execution_count": 2,
   "metadata": {
    "ExecuteTime": {
     "end_time": "2021-10-07T01:13:27.594876Z",
     "start_time": "2021-10-07T01:13:27.444973Z"
    }
   },
   "outputs": [],
   "source": [
    "import numpy as np"
   ]
  },
  {
   "cell_type": "code",
   "execution_count": 3,
   "metadata": {
    "ExecuteTime": {
     "end_time": "2021-10-07T01:13:28.064256Z",
     "start_time": "2021-10-07T01:13:28.036986Z"
    }
   },
   "outputs": [
    {
     "data": {
      "text/plain": [
       "((5, 10), (10, 5))"
      ]
     },
     "execution_count": 3,
     "metadata": {},
     "output_type": "execute_result"
    }
   ],
   "source": [
    "M1 = np.matrix(np.random.rand(5,10)*50)\n",
    "M2 = np.matrix(np.random.rand(10,5)*50)\n",
    "M1.shape, M2.shape"
   ]
  },
  {
   "cell_type": "markdown",
   "metadata": {},
   "source": [
    "2.2 [10 points] Write a function Matrix_multip to do matrix multiplication, i.e., M1 * M2. Here you are ONLY allowed to use for loop, * operator, and + operator"
   ]
  },
  {
   "cell_type": "code",
   "execution_count": 4,
   "metadata": {
    "ExecuteTime": {
     "end_time": "2021-10-07T01:14:33.370375Z",
     "start_time": "2021-10-07T01:14:33.352426Z"
    }
   },
   "outputs": [],
   "source": [
    "def Matrix_multip(M1,M2):\n",
    "    row1,col1 = M1.shape\n",
    "    row2,col2 = M2.shape\n",
    "    \n",
    "    if (col1 != row2):\n",
    "        M2_t = M2.reshape((col2,row2))\n",
    "        row2_t,col2_t = M2_t.shape\n",
    "        M2 = M2_t\n",
    "        print('Transpose M2')\n",
    "    \n",
    "        if (col1 != row2_t):\n",
    "            return print('Matrix Multiplication False: Shape error')\n",
    "            \n",
    "    elif (col1 == row2):\n",
    "        global out_matrix\n",
    "        out_matrix = np.matrix(np.zeros((M1.shape[0],M2.shape[1])))\n",
    "        for i in range(out_matrix.shape[0]):\n",
    "            for j in range(out_matrix.shape[1]):\n",
    "                out_matrix[i,j] = M1[i,:]*M2[:,j]\n",
    "                \n",
    "    return out_matrix"
   ]
  },
  {
   "cell_type": "code",
   "execution_count": 5,
   "metadata": {
    "ExecuteTime": {
     "end_time": "2021-10-07T01:14:41.076637Z",
     "start_time": "2021-10-07T01:14:41.057915Z"
    }
   },
   "outputs": [
    {
     "data": {
      "text/plain": [
       "matrix([[3524.32430618, 3118.19063167, 3724.32426605, 3663.36538597,\n",
       "         5377.66541878],\n",
       "        [4533.79369478, 5989.49111668, 7831.53716563, 6625.62536105,\n",
       "         8797.50631857],\n",
       "        [4283.83762341, 6286.16631343, 8097.49968411, 7030.0500293 ,\n",
       "         9551.37257302],\n",
       "        [3650.24671327, 3855.44598916, 4897.33376316, 4177.23053901,\n",
       "         5733.91472226],\n",
       "        [4199.33894407, 2747.77634079, 4719.54984062, 3283.09955423,\n",
       "         4840.63512389]])"
      ]
     },
     "execution_count": 5,
     "metadata": {},
     "output_type": "execute_result"
    }
   ],
   "source": [
    "Mul_M = Matrix_multip(M1,M2)\n",
    "Mul_M"
   ]
  }
 ],
 "metadata": {
  "kernelspec": {
   "display_name": "Python 3",
   "language": "python",
   "name": "python3"
  },
  "language_info": {
   "codemirror_mode": {
    "name": "ipython",
    "version": 3
   },
   "file_extension": ".py",
   "mimetype": "text/x-python",
   "name": "python",
   "nbconvert_exporter": "python",
   "pygments_lexer": "ipython3",
   "version": "3.7.6"
  },
  "toc": {
   "base_numbering": 1,
   "nav_menu": {},
   "number_sections": true,
   "sideBar": true,
   "skip_h1_title": false,
   "title_cell": "Table of Contents",
   "title_sidebar": "Contents",
   "toc_cell": true,
   "toc_position": {},
   "toc_section_display": true,
   "toc_window_display": true
  }
 },
 "nbformat": 4,
 "nbformat_minor": 4
}
