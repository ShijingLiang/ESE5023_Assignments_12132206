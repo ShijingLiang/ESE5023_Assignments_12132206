{
 "cells": [
  {
   "cell_type": "markdown",
   "metadata": {
    "toc": true
   },
   "source": [
    "<h1>Table of Contents<span class=\"tocSkip\"></span></h1>\n",
    "<div class=\"toc\"><ul class=\"toc-item\"></ul></div>"
   ]
  },
  {
   "cell_type": "markdown",
   "metadata": {},
   "source": [
    "3. Explore a data set\n",
    "\n",
    "Browse the CASEarth, NOAA Land-Based Datasets and Products, or Advanced Global Atmospheric Gases Experiment (AGAGE) website. Search and download a data set you are interested in. You are also welcome to use data from your group in this problem set. But the data set should be in csv, XLS, or XLSX format, and have temporal information."
   ]
  },
  {
   "cell_type": "code",
   "execution_count": 1,
   "metadata": {
    "ExecuteTime": {
     "end_time": "2021-10-25T08:22:27.438383Z",
     "start_time": "2021-10-25T08:22:26.365073Z"
    }
   },
   "outputs": [],
   "source": [
    "import pandas as pd\n",
    "import numpy as np\n",
    "import cartopy.crs as ccrs\n",
    "from cartopy.mpl.ticker import LongitudeFormatter, LatitudeFormatter\n",
    "import matplotlib.pyplot as plt\n",
    "from scipy import stats"
   ]
  },
  {
   "cell_type": "code",
   "execution_count": 2,
   "metadata": {
    "ExecuteTime": {
     "end_time": "2021-10-25T09:00:00.084930Z",
     "start_time": "2021-10-25T08:59:59.413913Z"
    }
   },
   "outputs": [
    {
     "name": "stderr",
     "output_type": "stream",
     "text": [
      "/home/andrea/anaconda3/lib/python3.7/site-packages/IPython/core/interactiveshell.py:3063: DtypeWarning: Columns (6,12,13) have mixed types.Specify dtype option on import or set low_memory=False.\n",
      "  interactivity=interactivity, compiler=compiler, result=result)\n"
     ]
    },
    {
     "data": {
      "text/html": [
       "<div>\n",
       "<style scoped>\n",
       "    .dataframe tbody tr th:only-of-type {\n",
       "        vertical-align: middle;\n",
       "    }\n",
       "\n",
       "    .dataframe tbody tr th {\n",
       "        vertical-align: top;\n",
       "    }\n",
       "\n",
       "    .dataframe thead th {\n",
       "        text-align: right;\n",
       "    }\n",
       "</style>\n",
       "<table border=\"1\" class=\"dataframe\">\n",
       "  <thead>\n",
       "    <tr style=\"text-align: right;\">\n",
       "      <th></th>\n",
       "      <th>STATION</th>\n",
       "      <th>NAME</th>\n",
       "      <th>LATITUDE</th>\n",
       "      <th>LONGITUDE</th>\n",
       "      <th>ELEVATION</th>\n",
       "      <th>DATE</th>\n",
       "      <th>SOURCE</th>\n",
       "      <th>REPORT_TYPE</th>\n",
       "      <th>CALL_SIGN</th>\n",
       "      <th>QUALITY_CONTROL</th>\n",
       "      <th>AA1</th>\n",
       "      <th>DEW</th>\n",
       "      <th>KB1</th>\n",
       "      <th>RH1</th>\n",
       "      <th>VIS</th>\n",
       "    </tr>\n",
       "  </thead>\n",
       "  <tbody>\n",
       "    <tr>\n",
       "      <th>0</th>\n",
       "      <td>72287493134</td>\n",
       "      <td>LOS ANGELES DOWNTOWN USC, CA US</td>\n",
       "      <td>34.0236</td>\n",
       "      <td>-118.2911</td>\n",
       "      <td>54.6</td>\n",
       "      <td>2000-01-01T00:00:00</td>\n",
       "      <td>5</td>\n",
       "      <td>FM-15</td>\n",
       "      <td>KCQT</td>\n",
       "      <td>V020</td>\n",
       "      <td>NaN</td>\n",
       "      <td>+0089,5</td>\n",
       "      <td>NaN</td>\n",
       "      <td>NaN</td>\n",
       "      <td>016000,5,9,9</td>\n",
       "    </tr>\n",
       "    <tr>\n",
       "      <th>1</th>\n",
       "      <td>72287493134</td>\n",
       "      <td>LOS ANGELES DOWNTOWN USC, CA US</td>\n",
       "      <td>34.0236</td>\n",
       "      <td>-118.2911</td>\n",
       "      <td>54.6</td>\n",
       "      <td>2000-01-01T01:00:00</td>\n",
       "      <td>5</td>\n",
       "      <td>FM-15</td>\n",
       "      <td>KCQT</td>\n",
       "      <td>V020</td>\n",
       "      <td>NaN</td>\n",
       "      <td>+0094,5</td>\n",
       "      <td>NaN</td>\n",
       "      <td>NaN</td>\n",
       "      <td>016000,5,9,9</td>\n",
       "    </tr>\n",
       "    <tr>\n",
       "      <th>2</th>\n",
       "      <td>72287493134</td>\n",
       "      <td>LOS ANGELES DOWNTOWN USC, CA US</td>\n",
       "      <td>34.0236</td>\n",
       "      <td>-118.2911</td>\n",
       "      <td>54.6</td>\n",
       "      <td>2000-01-01T02:00:00</td>\n",
       "      <td>5</td>\n",
       "      <td>FM-15</td>\n",
       "      <td>KCQT</td>\n",
       "      <td>V020</td>\n",
       "      <td>NaN</td>\n",
       "      <td>+0094,5</td>\n",
       "      <td>NaN</td>\n",
       "      <td>NaN</td>\n",
       "      <td>016000,5,9,9</td>\n",
       "    </tr>\n",
       "    <tr>\n",
       "      <th>3</th>\n",
       "      <td>72287493134</td>\n",
       "      <td>LOS ANGELES DOWNTOWN USC, CA US</td>\n",
       "      <td>34.0236</td>\n",
       "      <td>-118.2911</td>\n",
       "      <td>54.6</td>\n",
       "      <td>2000-01-01T03:00:00</td>\n",
       "      <td>5</td>\n",
       "      <td>FM-15</td>\n",
       "      <td>KCQT</td>\n",
       "      <td>V020</td>\n",
       "      <td>NaN</td>\n",
       "      <td>+0094,5</td>\n",
       "      <td>NaN</td>\n",
       "      <td>NaN</td>\n",
       "      <td>016000,5,9,9</td>\n",
       "    </tr>\n",
       "    <tr>\n",
       "      <th>4</th>\n",
       "      <td>72287493134</td>\n",
       "      <td>LOS ANGELES DOWNTOWN USC, CA US</td>\n",
       "      <td>34.0236</td>\n",
       "      <td>-118.2911</td>\n",
       "      <td>54.6</td>\n",
       "      <td>2000-01-01T04:00:00</td>\n",
       "      <td>5</td>\n",
       "      <td>FM-15</td>\n",
       "      <td>KCQT</td>\n",
       "      <td>V020</td>\n",
       "      <td>NaN</td>\n",
       "      <td>+0089,5</td>\n",
       "      <td>NaN</td>\n",
       "      <td>NaN</td>\n",
       "      <td>014400,5,9,9</td>\n",
       "    </tr>\n",
       "  </tbody>\n",
       "</table>\n",
       "</div>"
      ],
      "text/plain": [
       "       STATION                             NAME  LATITUDE  LONGITUDE  \\\n",
       "0  72287493134  LOS ANGELES DOWNTOWN USC, CA US   34.0236  -118.2911   \n",
       "1  72287493134  LOS ANGELES DOWNTOWN USC, CA US   34.0236  -118.2911   \n",
       "2  72287493134  LOS ANGELES DOWNTOWN USC, CA US   34.0236  -118.2911   \n",
       "3  72287493134  LOS ANGELES DOWNTOWN USC, CA US   34.0236  -118.2911   \n",
       "4  72287493134  LOS ANGELES DOWNTOWN USC, CA US   34.0236  -118.2911   \n",
       "\n",
       "   ELEVATION                 DATE SOURCE REPORT_TYPE CALL_SIGN  \\\n",
       "0       54.6  2000-01-01T00:00:00      5       FM-15     KCQT    \n",
       "1       54.6  2000-01-01T01:00:00      5       FM-15     KCQT    \n",
       "2       54.6  2000-01-01T02:00:00      5       FM-15     KCQT    \n",
       "3       54.6  2000-01-01T03:00:00      5       FM-15     KCQT    \n",
       "4       54.6  2000-01-01T04:00:00      5       FM-15     KCQT    \n",
       "\n",
       "  QUALITY_CONTROL  AA1      DEW  KB1  RH1           VIS  \n",
       "0            V020  NaN  +0089,5  NaN  NaN  016000,5,9,9  \n",
       "1            V020  NaN  +0094,5  NaN  NaN  016000,5,9,9  \n",
       "2            V020  NaN  +0094,5  NaN  NaN  016000,5,9,9  \n",
       "3            V020  NaN  +0094,5  NaN  NaN  016000,5,9,9  \n",
       "4            V020  NaN  +0089,5  NaN  NaN  014400,5,9,9  "
      ]
     },
     "execution_count": 2,
     "metadata": {},
     "output_type": "execute_result"
    }
   ],
   "source": [
    "# Read .tsv data using pd.read_csv\n",
    "ds = pd.read_csv('Data/PS2/2749432.csv',)\n",
    "ds.head()"
   ]
  },
  {
   "cell_type": "code",
   "execution_count": 3,
   "metadata": {
    "ExecuteTime": {
     "end_time": "2021-10-25T09:00:00.190880Z",
     "start_time": "2021-10-25T09:00:00.087860Z"
    }
   },
   "outputs": [
    {
     "data": {
      "text/html": [
       "<div>\n",
       "<style scoped>\n",
       "    .dataframe tbody tr th:only-of-type {\n",
       "        vertical-align: middle;\n",
       "    }\n",
       "\n",
       "    .dataframe tbody tr th {\n",
       "        vertical-align: top;\n",
       "    }\n",
       "\n",
       "    .dataframe thead th {\n",
       "        text-align: right;\n",
       "    }\n",
       "</style>\n",
       "<table border=\"1\" class=\"dataframe\">\n",
       "  <thead>\n",
       "    <tr style=\"text-align: right;\">\n",
       "      <th></th>\n",
       "      <th>DATE</th>\n",
       "      <th>AA1</th>\n",
       "      <th>DEW</th>\n",
       "      <th>VIS</th>\n",
       "    </tr>\n",
       "  </thead>\n",
       "  <tbody>\n",
       "    <tr>\n",
       "      <th>8929</th>\n",
       "      <td>2001-01-01T09:00:00</td>\n",
       "      <td>01,0000,9,5</td>\n",
       "      <td>+0122,5</td>\n",
       "      <td>002400,5,9,9</td>\n",
       "    </tr>\n",
       "    <tr>\n",
       "      <th>8930</th>\n",
       "      <td>2001-01-01T10:00:00</td>\n",
       "      <td>01,0000,9,5</td>\n",
       "      <td>+0122,5</td>\n",
       "      <td>002800,5,9,9</td>\n",
       "    </tr>\n",
       "    <tr>\n",
       "      <th>8931</th>\n",
       "      <td>2001-01-01T11:00:00</td>\n",
       "      <td>01,0000,9,5</td>\n",
       "      <td>+0117,5</td>\n",
       "      <td>002800,5,9,9</td>\n",
       "    </tr>\n",
       "    <tr>\n",
       "      <th>8932</th>\n",
       "      <td>2001-01-01T12:00:00</td>\n",
       "      <td>01,0000,9,5</td>\n",
       "      <td>+0111,5</td>\n",
       "      <td>003200,5,9,9</td>\n",
       "    </tr>\n",
       "    <tr>\n",
       "      <th>8933</th>\n",
       "      <td>2001-01-01T13:00:00</td>\n",
       "      <td>01,0000,9,5</td>\n",
       "      <td>+0094,5</td>\n",
       "      <td>004800,5,9,9</td>\n",
       "    </tr>\n",
       "  </tbody>\n",
       "</table>\n",
       "</div>"
      ],
      "text/plain": [
       "                     DATE          AA1      DEW           VIS\n",
       "8929  2001-01-01T09:00:00  01,0000,9,5  +0122,5  002400,5,9,9\n",
       "8930  2001-01-01T10:00:00  01,0000,9,5  +0122,5  002800,5,9,9\n",
       "8931  2001-01-01T11:00:00  01,0000,9,5  +0117,5  002800,5,9,9\n",
       "8932  2001-01-01T12:00:00  01,0000,9,5  +0111,5  003200,5,9,9\n",
       "8933  2001-01-01T13:00:00  01,0000,9,5  +0094,5  004800,5,9,9"
      ]
     },
     "execution_count": 3,
     "metadata": {},
     "output_type": "execute_result"
    }
   ],
   "source": [
    "ds_sel = ds[['DATE','AA1','DEW','VIS']].dropna(axis=0)\n",
    "ds_sel.head()"
   ]
  },
  {
   "cell_type": "code",
   "execution_count": 4,
   "metadata": {
    "ExecuteTime": {
     "end_time": "2021-10-25T09:00:20.446860Z",
     "start_time": "2021-10-25T09:00:00.194356Z"
    }
   },
   "outputs": [],
   "source": [
    "DATE=ds_sel.DATE.apply(lambda x:pd.to_datetime(x)).to_frame(name='DATE')"
   ]
  },
  {
   "cell_type": "code",
   "execution_count": 5,
   "metadata": {
    "ExecuteTime": {
     "end_time": "2021-10-25T09:00:20.454064Z",
     "start_time": "2021-10-25T09:00:20.449333Z"
    }
   },
   "outputs": [],
   "source": [
    "LAX=DATE.copy()"
   ]
  },
  {
   "cell_type": "code",
   "execution_count": 6,
   "metadata": {
    "ExecuteTime": {
     "end_time": "2021-10-25T09:00:20.468069Z",
     "start_time": "2021-10-25T09:00:20.458774Z"
    }
   },
   "outputs": [],
   "source": [
    "VAR = ['AA1','DEW','VIS']\n",
    "fields=['Hours','Depth','QP_1','QP_2','Dew','QD','VIS','QV']"
   ]
  },
  {
   "cell_type": "code",
   "execution_count": 7,
   "metadata": {
    "ExecuteTime": {
     "end_time": "2021-10-25T09:00:21.306369Z",
     "start_time": "2021-10-25T09:00:20.471405Z"
    }
   },
   "outputs": [],
   "source": [
    "#for var in VAR:\n",
    "for a,b in zip([0,1],[2,3]):\n",
    "    dfs=ds_sel[VAR[0]].apply(lambda x:int(x.split(',')[a])).to_frame(name=fields[a])\n",
    "    LAX=pd.merge(LAX,dfs,right_index=True,left_index=True)\n",
    "    \n",
    "    dfs=ds_sel[VAR[0]].apply(lambda x:(x.split(',')[b])).to_frame(name=fields[b])\n",
    "    LAX=pd.merge(LAX,dfs,right_index=True,left_index=True)\n",
    "\n",
    "for x,y,z in zip(VAR[1:],[4,6],[5,7]):\n",
    "    dfs=ds_sel[x].apply(lambda x:int(x.split(',')[0])).to_frame(name=fields[y])\n",
    "    LAX=pd.merge(LAX,dfs,right_index=True,left_index=True)\n",
    "    \n",
    "    dfs=ds_sel[x].apply(lambda x:(x.split(',')[1])).to_frame(name=fields[z])\n",
    "    LAX=pd.merge(LAX,dfs,right_index=True,left_index=True)"
   ]
  },
  {
   "cell_type": "code",
   "execution_count": 8,
   "metadata": {
    "ExecuteTime": {
     "end_time": "2021-10-25T09:00:21.377401Z",
     "start_time": "2021-10-25T09:00:21.310208Z"
    }
   },
   "outputs": [
    {
     "data": {
      "text/html": [
       "<div>\n",
       "<style scoped>\n",
       "    .dataframe tbody tr th:only-of-type {\n",
       "        vertical-align: middle;\n",
       "    }\n",
       "\n",
       "    .dataframe tbody tr th {\n",
       "        vertical-align: top;\n",
       "    }\n",
       "\n",
       "    .dataframe thead th {\n",
       "        text-align: right;\n",
       "    }\n",
       "</style>\n",
       "<table border=\"1\" class=\"dataframe\">\n",
       "  <thead>\n",
       "    <tr style=\"text-align: right;\">\n",
       "      <th></th>\n",
       "      <th>DATE</th>\n",
       "      <th>Hours</th>\n",
       "      <th>QP_1</th>\n",
       "      <th>Depth</th>\n",
       "      <th>QP_2</th>\n",
       "      <th>Dew</th>\n",
       "      <th>QD</th>\n",
       "      <th>VIS</th>\n",
       "      <th>QV</th>\n",
       "    </tr>\n",
       "    <tr>\n",
       "      <th>DATE</th>\n",
       "      <th></th>\n",
       "      <th></th>\n",
       "      <th></th>\n",
       "      <th></th>\n",
       "      <th></th>\n",
       "      <th></th>\n",
       "      <th></th>\n",
       "      <th></th>\n",
       "      <th></th>\n",
       "    </tr>\n",
       "  </thead>\n",
       "  <tbody>\n",
       "    <tr>\n",
       "      <th>2001-01-01 09:00:00</th>\n",
       "      <td>2001-01-01 09:00:00</td>\n",
       "      <td>1</td>\n",
       "      <td>9</td>\n",
       "      <td>0</td>\n",
       "      <td>5</td>\n",
       "      <td>122</td>\n",
       "      <td>5</td>\n",
       "      <td>2400</td>\n",
       "      <td>5</td>\n",
       "    </tr>\n",
       "    <tr>\n",
       "      <th>2001-01-01 10:00:00</th>\n",
       "      <td>2001-01-01 10:00:00</td>\n",
       "      <td>1</td>\n",
       "      <td>9</td>\n",
       "      <td>0</td>\n",
       "      <td>5</td>\n",
       "      <td>122</td>\n",
       "      <td>5</td>\n",
       "      <td>2800</td>\n",
       "      <td>5</td>\n",
       "    </tr>\n",
       "    <tr>\n",
       "      <th>2001-01-01 11:00:00</th>\n",
       "      <td>2001-01-01 11:00:00</td>\n",
       "      <td>1</td>\n",
       "      <td>9</td>\n",
       "      <td>0</td>\n",
       "      <td>5</td>\n",
       "      <td>117</td>\n",
       "      <td>5</td>\n",
       "      <td>2800</td>\n",
       "      <td>5</td>\n",
       "    </tr>\n",
       "    <tr>\n",
       "      <th>2001-01-01 12:00:00</th>\n",
       "      <td>2001-01-01 12:00:00</td>\n",
       "      <td>1</td>\n",
       "      <td>9</td>\n",
       "      <td>0</td>\n",
       "      <td>5</td>\n",
       "      <td>111</td>\n",
       "      <td>5</td>\n",
       "      <td>3200</td>\n",
       "      <td>5</td>\n",
       "    </tr>\n",
       "    <tr>\n",
       "      <th>2001-01-01 13:00:00</th>\n",
       "      <td>2001-01-01 13:00:00</td>\n",
       "      <td>1</td>\n",
       "      <td>9</td>\n",
       "      <td>0</td>\n",
       "      <td>5</td>\n",
       "      <td>94</td>\n",
       "      <td>5</td>\n",
       "      <td>4800</td>\n",
       "      <td>5</td>\n",
       "    </tr>\n",
       "  </tbody>\n",
       "</table>\n",
       "</div>"
      ],
      "text/plain": [
       "                                   DATE  Hours QP_1  Depth QP_2  Dew QD   VIS  \\\n",
       "DATE                                                                            \n",
       "2001-01-01 09:00:00 2001-01-01 09:00:00      1    9      0    5  122  5  2400   \n",
       "2001-01-01 10:00:00 2001-01-01 10:00:00      1    9      0    5  122  5  2800   \n",
       "2001-01-01 11:00:00 2001-01-01 11:00:00      1    9      0    5  117  5  2800   \n",
       "2001-01-01 12:00:00 2001-01-01 12:00:00      1    9      0    5  111  5  3200   \n",
       "2001-01-01 13:00:00 2001-01-01 13:00:00      1    9      0    5   94  5  4800   \n",
       "\n",
       "                    QV  \n",
       "DATE                    \n",
       "2001-01-01 09:00:00  5  \n",
       "2001-01-01 10:00:00  5  \n",
       "2001-01-01 11:00:00  5  \n",
       "2001-01-01 12:00:00  5  \n",
       "2001-01-01 13:00:00  5  "
      ]
     },
     "execution_count": 8,
     "metadata": {},
     "output_type": "execute_result"
    }
   ],
   "source": [
    "LAX = LAX.set_index(LAX.DATE)\n",
    "LAX.head()"
   ]
  },
  {
   "cell_type": "code",
   "execution_count": 31,
   "metadata": {
    "ExecuteTime": {
     "end_time": "2021-10-25T09:05:48.401627Z",
     "start_time": "2021-10-25T09:05:48.358221Z"
    }
   },
   "outputs": [
    {
     "name": "stdout",
     "output_type": "stream",
     "text": [
      "197992\n"
     ]
    },
    {
     "data": {
      "text/plain": [
       "DATE\n",
       "2001-01-01    0.0\n",
       "2001-01-02    3.0\n",
       "2001-01-03    0.0\n",
       "2001-01-04    0.0\n",
       "2001-01-05    0.0\n",
       "             ... \n",
       "2021-10-10    0.0\n",
       "2021-10-11    0.0\n",
       "2021-10-12    0.0\n",
       "2021-10-13    0.0\n",
       "2021-10-14    0.0\n",
       "Freq: D, Name: Depth, Length: 7592, dtype: float64"
      ]
     },
     "execution_count": 31,
     "metadata": {},
     "output_type": "execute_result"
    }
   ],
   "source": [
    "#Daily precipitation\n",
    "Depth_pass=LAX['Depth'].replace(9999,np.nan).dropna()\n",
    "print(len(Depth_pass))\n",
    "Depth_day=Depth_pass.resample('D').sum()\n",
    "Depth_day"
   ]
  },
  {
   "cell_type": "code",
   "execution_count": 32,
   "metadata": {
    "ExecuteTime": {
     "end_time": "2021-10-25T09:05:48.998564Z",
     "start_time": "2021-10-25T09:05:48.971179Z"
    }
   },
   "outputs": [],
   "source": [
    "# Extreme rainfall\n",
    "# Wet day rainfall\n",
    "Depth_wet=Depth_day[Depth_day>1]\n",
    "\n",
    "year_group=np.asarray(list(Depth_wet.groupby(Depth_wet.index.year))).T[1]\n",
    "\n",
    "extreme_wet_95=pd.DataFrame({\n",
    "    'Year':np.arange(2001,2022),\n",
    "    'Extreme_depth':list(map(lambda data:np.percentile(data,95),year_group)),\n",
    "})\n",
    "extreme_wet_95=extreme_wet_95.set_index('Year')"
   ]
  },
  {
   "cell_type": "code",
   "execution_count": 34,
   "metadata": {
    "ExecuteTime": {
     "end_time": "2021-10-25T09:05:50.240854Z",
     "start_time": "2021-10-25T09:05:50.219533Z"
    }
   },
   "outputs": [],
   "source": [
    "R95TOT=pd.DataFrame({\n",
    "    'Year':np.arange(2001,2022),\n",
    "    'R95TOT':\n",
    "    list(map(lambda data,base:data[data>float(base)].sum(),year_group,extreme_wet_95.values))\n",
    "})\n",
    "R95TOT=R95TOT.set_index('Year')"
   ]
  },
  {
   "cell_type": "code",
   "execution_count": 36,
   "metadata": {
    "ExecuteTime": {
     "end_time": "2021-10-25T09:05:59.898610Z",
     "start_time": "2021-10-25T09:05:59.700076Z"
    }
   },
   "outputs": [
    {
     "data": {
      "text/plain": [
       "<matplotlib.legend.Legend at 0x7f82a9d740d0>"
      ]
     },
     "execution_count": 36,
     "metadata": {},
     "output_type": "execute_result"
    },
    {
     "data": {
      "image/png": "[encoded data removed]",
      "text/plain": [
       "<Figure size 432x288 with 1 Axes>"
      ]
     },
     "metadata": {
      "needs_background": "light"
     },
     "output_type": "display_data"
    }
   ],
   "source": [
    "# Trend analysis\n",
    "lin = stats.linregress(np.arange(2001,2022),extreme_wet_95['Extreme_depth'].values)\n",
    "\n",
    "fig,ax = plt.subplots()\n",
    "f = lambda a,b,x: b+a*x\n",
    "x=np.arange(2001,2022)\n",
    "\n",
    "ax.plot(x,f(lin.slope,lin.intercept,x),'--',label='Linear Fitted line')\n",
    "ax.plot(x,extreme_wet_95['Extreme_depth'],label='95th rainfall')\n",
    "ax.grid()\n",
    "ax.set_xlabel('Year')\n",
    "ax.set_ylabel('Extreme Rainfall Depth (mm)')\n",
    "ax.legend()"
   ]
  },
  {
   "cell_type": "code",
   "execution_count": 37,
   "metadata": {
    "ExecuteTime": {
     "end_time": "2021-10-25T09:06:00.475856Z",
     "start_time": "2021-10-25T09:06:00.290004Z"
    }
   },
   "outputs": [
    {
     "data": {
      "text/plain": [
       "<matplotlib.axes._subplots.AxesSubplot at 0x7f82a9c4bbd0>"
      ]
     },
     "execution_count": 37,
     "metadata": {},
     "output_type": "execute_result"
    },
    {
     "data": {
      "image/png": "[encoded data removed]",
      "text/plain": [
       "<Figure size 432x288 with 1 Axes>"
      ]
     },
     "metadata": {
      "needs_background": "light"
     },
     "output_type": "display_data"
    }
   ],
   "source": [
    "#  Precipitation climatology mean for 2001-2011\n",
    "Depth_sel=Depth_day.where(Depth_day.index.year.isin(np.arange(2001,2012))).dropna()\n",
    "Depth_sel.head()\n",
    "Depth_clim=Depth_sel.groupby(Depth_sel.index.dayofyear).mean()\n",
    "Depth_clim.plot()"
   ]
  },
  {
   "cell_type": "code",
   "execution_count": 40,
   "metadata": {
    "ExecuteTime": {
     "end_time": "2021-10-25T09:07:08.213354Z",
     "start_time": "2021-10-25T09:07:08.140800Z"
    }
   },
   "outputs": [
    {
     "data": {
      "text/plain": [
       "DATE\n",
       "2001-01-01    -62.636364\n",
       "2001-01-02   -206.363636\n",
       "2001-01-03   -232.454545\n",
       "2001-01-04    -39.727273\n",
       "2001-01-05   -122.727273\n",
       "                 ...    \n",
       "2021-10-10      0.000000\n",
       "2021-10-11      0.000000\n",
       "2021-10-12      0.000000\n",
       "2021-10-13   -126.181818\n",
       "2021-10-14   -175.272727\n",
       "Freq: D, Name: Depth, Length: 7592, dtype: float64"
      ]
     },
     "execution_count": 40,
     "metadata": {},
     "output_type": "execute_result"
    }
   ],
   "source": [
    "# Rainfall anomaly relative to 2001-2011 mean\n",
    "year_group=np.asarray(list(Depth_day.groupby(Depth_day.index.year))).T[1]\n",
    "\n",
    "Depth_anom=pd.concat(\n",
    "    list(map(\n",
    "        lambda data:data-Depth_clim.where(Depth_clim.index.isin(data.index.dayofyear)).dropna().values\n",
    "        ,year_group)\n",
    "        )\n",
    ")\n",
    "Depth_anom"
   ]
  },
  {
   "cell_type": "code",
   "execution_count": 41,
   "metadata": {
    "ExecuteTime": {
     "end_time": "2021-10-25T09:07:09.075462Z",
     "start_time": "2021-10-25T09:07:08.853773Z"
    }
   },
   "outputs": [
    {
     "data": {
      "text/plain": [
       "<matplotlib.legend.Legend at 0x7f82a9c2ca90>"
      ]
     },
     "execution_count": 41,
     "metadata": {},
     "output_type": "execute_result"
    },
    {
     "data": {
      "image/png": "[encoded data removed]",
      "text/plain": [
       "<Figure size 792x432 with 1 Axes>"
      ]
     },
     "metadata": {
      "needs_background": "light"
     },
     "output_type": "display_data"
    }
   ],
   "source": [
    "# Plot climatology mean, daily rainfall, rainfall anomaly  \n",
    "fig,ax=plt.subplots(figsize=(11,6))\n",
    "ax.plot(Depth_anom[:100],color='r',label='Rainfall anomaly (mm)')\n",
    "ax.plot(Depth_day[:100],color='b',label='Daily rainfall (mm)')\n",
    "ax.plot(Depth_anom.index[:100],Depth_clim.values[:100],lw=0.8,linestyle='--',color='k',label='Climatology')\n",
    "plt.legend()"
   ]
  }
 ],
 "metadata": {
  "kernelspec": {
   "display_name": "Python 3",
   "language": "python",
   "name": "python3"
  },
  "language_info": {
   "codemirror_mode": {
    "name": "ipython",
    "version": 3
   },
   "file_extension": ".py",
   "mimetype": "text/x-python",
   "name": "python",
   "nbconvert_exporter": "python",
   "pygments_lexer": "ipython3",
   "version": "3.7.6"
  },
  "toc": {
   "base_numbering": 1,
   "nav_menu": {},
   "number_sections": true,
   "sideBar": true,
   "skip_h1_title": false,
   "title_cell": "Table of Contents",
   "title_sidebar": "Contents",
   "toc_cell": true,
   "toc_position": {},
   "toc_section_display": true,
   "toc_window_display": false
  }
 },
 "nbformat": 4,
 "nbformat_minor": 4
}
